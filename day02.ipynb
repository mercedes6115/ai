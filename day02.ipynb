{
  "nbformat": 4,
  "nbformat_minor": 0,
  "metadata": {
    "colab": {
      "name": "Untitled8.ipynb",
      "provenance": [],
      "authorship_tag": "ABX9TyPDnT65qOGjWQLNBRiGkuWv",
      "include_colab_link": true
    },
    "kernelspec": {
      "name": "python3",
      "display_name": "Python 3"
    },
    "language_info": {
      "name": "python"
    }
  },
  "cells": [
    {
      "cell_type": "markdown",
      "metadata": {
        "id": "view-in-github",
        "colab_type": "text"
      },
      "source": [
        "<a href=\"https://colab.research.google.com/github/mercedes6115/ai/blob/main/day02.ipynb\" target=\"_parent\"><img src=\"https://colab.research.google.com/assets/colab-badge.svg\" alt=\"Open In Colab\"/></a>"
      ]
    },
    {
      "cell_type": "code",
      "execution_count": 1,
      "metadata": {
        "colab": {
          "base_uri": "https://localhost:8080/"
        },
        "id": "Mc3r3cZeyRHP",
        "outputId": "1da822ea-2d70-4f38-d9aa-608c74096fed"
      },
      "outputs": [
        {
          "output_type": "stream",
          "name": "stdout",
          "text": [
            "좋은 저녁 입니다\n",
            "좋은 저녁입니다\n",
            "좋은 저녁입니다\n",
            "좋은 저녁입니다\n"
          ]
        }
      ],
      "source": [
        "when='저녁'\n",
        "print('좋은',when,'입니다')\n",
        "print('좋은 %s입니다' % when)\n",
        "print('좋은 {}입니다'.format(when))\n",
        "print(f'좋은 {when}입니다') #******"
      ]
    },
    {
      "cell_type": "code",
      "source": [
        "##############################\n",
        "# 리스트 튜플 딕셔너리 세트\n",
        "##############################\n",
        "\n",
        "list_a=[1,2,3]\n",
        "list_b=[4,5,6]\n",
        "\n",
        "print('list_a=',list_a)\n",
        "print('list_b=',list_b)\n",
        "print(list_a+list_b)\n",
        "print(list_a*3)\n",
        "print(len(list_a))"
      ],
      "metadata": {
        "colab": {
          "base_uri": "https://localhost:8080/"
        },
        "id": "oeJwfOQn-FVk",
        "outputId": "400b97a8-69f9-4c30-efe5-2cd4ed68444f"
      },
      "execution_count": 2,
      "outputs": [
        {
          "output_type": "stream",
          "name": "stdout",
          "text": [
            "list_a= [1, 2, 3]\n",
            "list_b= [4, 5, 6]\n",
            "[1, 2, 3, 4, 5, 6]\n",
            "[1, 2, 3, 1, 2, 3, 1, 2, 3]\n",
            "3\n"
          ]
        }
      ]
    },
    {
      "cell_type": "code",
      "source": [
        "#remove 값으로 삭제\n",
        "list_c=[1,2,1,2]\n",
        "\n",
        "list_c.remove(2) #remove는 요소의 값을 찾아 삭제한다 \n",
        "                 # 동일한 값이 여러개인 경우는 순차적으로 하나씩 삭제한다. 앞에서 부터 하나씩\n",
        "                 #리스트에서 중복된 여러개의 값을 한번에 제거하려면 반복문을 사용 \n",
        "print(list_c)\n",
        "\n",
        "list_a = [0,1,2,3,4,5]\n",
        "#claer() 모든 요소를 전부 한번에 삭제하려고 하면 사용하는 함수 \n",
        "list_a.clear()\n",
        "\n",
        "print(list_a)"
      ],
      "metadata": {
        "colab": {
          "base_uri": "https://localhost:8080/"
        },
        "id": "W7TmdnDOOZbc",
        "outputId": "ae08d1ae-4d78-4c44-d355-e442beda389b"
      },
      "execution_count": 3,
      "outputs": [
        {
          "output_type": "stream",
          "name": "stdout",
          "text": [
            "[1, 1, 2]\n",
            "[]\n"
          ]
        }
      ]
    },
    {
      "cell_type": "code",
      "source": [
        "# in / not in 리스트에 존재 하는 요소인지 확인 \n",
        "\n",
        "list = [222,434,65,123,547,876]\n",
        "\n",
        "print(222 in list)\n",
        "print(221 in list)\n",
        "print(221 not in list)\n",
        "print(222 not in list)"
      ],
      "metadata": {
        "colab": {
          "base_uri": "https://localhost:8080/"
        },
        "id": "vh1rYkDxQZCA",
        "outputId": "7f68256d-f768-4f72-f109-3433e60a72c7"
      },
      "execution_count": 4,
      "outputs": [
        {
          "output_type": "stream",
          "name": "stdout",
          "text": [
            "True\n",
            "False\n",
            "True\n",
            "False\n"
          ]
        }
      ]
    },
    {
      "cell_type": "code",
      "source": [
        "# 딕셔너리 (java의 map JS의 json)\n",
        "# 키와 벨류를 기반으로 값을 저장한다\n",
        "# 삽입/삭제가 가능하다 mutable\n",
        "# 순서가 없으므로 인덱싱과 슬라이싱이 불가능하다 \n",
        "\n",
        "dict = {\n",
        "    \"no\":1,\n",
        "    \"name\":\"엔드 게임\",\n",
        "    \"type\":\"히어로 무비\",\n",
        "    \"price\":10000\n",
        "}\n",
        "print(dict)\n",
        "dict['name'] # 인덱스 대신 키값으로 접근을 한다\n",
        "\n",
        "dict1 = {\n",
        "    'name':'건조 망고',\n",
        "    'type':'절임 과일',\n",
        "    'ingredient':['망고', '설탕','색소'],\n",
        "    'origin':'필리핀'\n",
        "}\n",
        "\n",
        "print('name',dict1['name'])\n",
        "print('type',dict1['type'])\n",
        "print('ingredient',dict1['ingredient'])\n",
        "print('origin',dict1['origin'])\n",
        "\n",
        "dict1['name']='망고' # 키값을 통한 수정하는 방법\n",
        "\n",
        "print(dict1['ingredient'][0]) # 2차원 배열처럼 2번접근한다고 생각 \n",
        "\n",
        "dict1['price']=5000\n",
        "\n",
        "print(dict1) # 없는 키값과 밸류값을 추가할 수 있다 같은 방법으로 빈 딕셔너리에 새로운 키들을 추가 가능\n",
        "\n",
        "#딕셔너리 자주 등장하는 에러(예외)\n",
        "\n",
        "#KeyError 리스트에 없는 인덱스에 접근하려고 하면 Index에러가 뜨는것 처럼 \n",
        "#딕셔너리도 없는 키값에 접근하려고 하면 뜨는 예외 또는 에러 \n",
        "#같은 키 값이 여러개 있을 경우는 마지막 키값만 적용 그 외는 안들어감 \n"
      ],
      "metadata": {
        "colab": {
          "base_uri": "https://localhost:8080/"
        },
        "id": "2hVQ15TAibhu",
        "outputId": "2e6bf126-d4ca-4a31-9d95-9f1072832c7c"
      },
      "execution_count": 5,
      "outputs": [
        {
          "output_type": "stream",
          "name": "stdout",
          "text": [
            "{'no': 1, 'name': '엔드 게임', 'type': '히어로 무비', 'price': 10000}\n",
            "name 건조 망고\n",
            "type 절임 과일\n",
            "ingredient ['망고', '설탕', '색소']\n",
            "origin 필리핀\n",
            "망고\n",
            "{'name': '망고', 'type': '절임 과일', 'ingredient': ['망고', '설탕', '색소'], 'origin': '필리핀', 'price': 5000}\n"
          ]
        }
      ]
    },
    {
      "cell_type": "code",
      "source": [
        "# 튜플 \n",
        "# ( ) 소괄호를 사용 \n",
        "# 리스트와 거의 유사하나 튜플은 삽입, 수정이 불가능하다 imutable\n",
        "# 튜플은 1개의 원소로 작성할 때는 쉼표 , 를 삽입한다 \n",
        "# ex) : (1,) \n",
        "# 튜플은 괄호를 생략할 수 있다\n",
        "\n",
        "t=(1,2)\n",
        "print(type(t))\n",
        "\n",
        "t2=3,4\n",
        "print(type(t2))\n",
        "\n",
        "t3=(5,)  # 5,도 타입이 튜플로 출력 \n",
        "print(type(t3))\n"
      ],
      "metadata": {
        "colab": {
          "base_uri": "https://localhost:8080/"
        },
        "id": "RE45dY3TtQM_",
        "outputId": "dd1ece7f-8998-47c6-d387-55990a4f9798"
      },
      "execution_count": 6,
      "outputs": [
        {
          "output_type": "stream",
          "name": "stdout",
          "text": [
            "<class 'tuple'>\n",
            "<class 'tuple'>\n",
            "<class 'tuple'>\n"
          ]
        }
      ]
    },
    {
      "cell_type": "code",
      "source": [
        "# Set 세트 집합\n",
        "# {}를 사용하여 작성한다 \n",
        "# 중복을 허용하지 않는다\n",
        "# 순서가 없다 (인덱싱을 할 수 없다, Unordered)\n",
        "# 중복제거 필터용으로 많이 사용한다 고유값들만 남기려할거면 사용 \n",
        "# set자료형에 저장된 값을 꺼내려면 리스트나 튜플로 변환하여 사용한다 \n",
        "# set는 수정/삭제가 가능하다 mutable\n",
        "\n",
        "s1 = set([1,1,1,2,2,3])\n",
        "print(type(s1))\n",
        "print(s1)\n",
        "#print(s1[0])\n",
        "\n",
        "set1={1,2,3}\n",
        "set2={2,3,4}\n",
        "\n",
        "# 양쪽 집합에 모두 공통적으로 포함되는 원소 -> 교집합\n",
        "print(set1 & set2) \n",
        "print(set1.intersection(set2))\n",
        "\n",
        "#양쪽 집합의 모든원소 ->합집합\n",
        "print(set1 | set2)\n",
        "print(set1.union(set2))\n",
        "\n",
        "#두 집합의 차->차집합\n",
        "print(set1-set2)\n",
        "print(set1.difference(set2))\n",
        "\n",
        "#수정/삭제 \n",
        "\n",
        "set1={1,1,2,2,3,4}\n",
        "\n",
        "#마지막에 원소가 추가된다\n",
        "\n",
        "set1.add(4)\n",
        "print(set1)\n",
        "\n",
        "\n",
        "\n",
        "#여러개의 원소를 한번에 추가할 경우\n",
        "\n",
        "set1.update([5,6,7,8]) # 리스트의 또다른 형태 \n",
        "print(set1)\n",
        "\n",
        "#집합은 삭제가 가능하다\n",
        "\n",
        "set1.remove(3) #set 집합은 인덱스의 개념이 없기 때문에 remove를 사용하여 삭제를 할 경우 인덱스가 아닌 값을 직접 삭제한다 \n",
        "               #몇번째 값을 삭제하냐가 아닌 무슨 값을 삭제할것이냐의 차이\n",
        "print(set1)\n",
        "\n",
        "\n"
      ],
      "metadata": {
        "colab": {
          "base_uri": "https://localhost:8080/",
          "height": 282
        },
        "id": "u3N5s7Iv0h--",
        "outputId": "22f7177f-92ef-4e16-ef95-91562e04a084"
      },
      "execution_count": 2,
      "outputs": [
        {
          "output_type": "stream",
          "name": "stdout",
          "text": [
            "<class 'set'>\n",
            "{1, 2, 3}\n"
          ]
        },
        {
          "output_type": "error",
          "ename": "TypeError",
          "evalue": "ignored",
          "traceback": [
            "\u001b[0;31m---------------------------------------------------------------------------\u001b[0m",
            "\u001b[0;31mTypeError\u001b[0m                                 Traceback (most recent call last)",
            "\u001b[0;32m<ipython-input-2-b94fd077513b>\u001b[0m in \u001b[0;36m<module>\u001b[0;34m()\u001b[0m\n\u001b[1;32m     15\u001b[0m \u001b[0mset2\u001b[0m\u001b[0;34m=\u001b[0m\u001b[0;34m{\u001b[0m\u001b[0;36m2\u001b[0m\u001b[0;34m,\u001b[0m\u001b[0;36m3\u001b[0m\u001b[0;34m,\u001b[0m\u001b[0;36m4\u001b[0m\u001b[0;34m}\u001b[0m\u001b[0;34m\u001b[0m\u001b[0;34m\u001b[0m\u001b[0m\n\u001b[1;32m     16\u001b[0m \u001b[0;34m\u001b[0m\u001b[0m\n\u001b[0;32m---> 17\u001b[0;31m \u001b[0mprint\u001b[0m\u001b[0;34m(\u001b[0m\u001b[0mset1\u001b[0m\u001b[0;34m+\u001b[0m\u001b[0mset2\u001b[0m\u001b[0;34m)\u001b[0m\u001b[0;34m\u001b[0m\u001b[0;34m\u001b[0m\u001b[0m\n\u001b[0m\u001b[1;32m     18\u001b[0m \u001b[0;34m\u001b[0m\u001b[0m\n\u001b[1;32m     19\u001b[0m \u001b[0;31m# 양쪽 집합에 모두 공통적으로 포함되는 원소 -> 교집합\u001b[0m\u001b[0;34m\u001b[0m\u001b[0;34m\u001b[0m\u001b[0;34m\u001b[0m\u001b[0m\n",
            "\u001b[0;31mTypeError\u001b[0m: unsupported operand type(s) for +: 'set' and 'set'"
          ]
        }
      ]
    },
    {
      "cell_type": "code",
      "source": [
        "s1 = set([1,1,1,2,2,3])\n",
        "print(type(s1))\n",
        "print(s1)\n",
        "#print(s1[0])\n",
        "\n",
        "li = list(s1)\n",
        "print(type(li))\n",
        "print(li)\n",
        "li[0]\n"
      ],
      "metadata": {
        "colab": {
          "base_uri": "https://localhost:8080/"
        },
        "id": "Ldd1CCCH8XAK",
        "outputId": "3576b7c9-5f7d-4f9b-8373-1e6e2fe7e86c"
      },
      "execution_count": 3,
      "outputs": [
        {
          "output_type": "stream",
          "name": "stdout",
          "text": [
            "<class 'set'>\n",
            "{1, 2, 3}\n",
            "<class 'list'>\n",
            "[1, 2, 3]\n"
          ]
        },
        {
          "output_type": "execute_result",
          "data": {
            "text/plain": [
              "1"
            ]
          },
          "metadata": {},
          "execution_count": 3
        }
      ]
    },
    {
      "cell_type": "code",
      "source": [
        "a=input('학번을 입력하세요:')\n",
        "\n",
        "print(f'{a[0]}학년 {a[1:3]}반 {a[3:]}번')"
      ],
      "metadata": {
        "colab": {
          "base_uri": "https://localhost:8080/"
        },
        "id": "rxQTx4hE_SMp",
        "outputId": "56c3da5c-2bf0-424d-af5a-d3385420de66"
      },
      "execution_count": 14,
      "outputs": [
        {
          "output_type": "stream",
          "name": "stdout",
          "text": [
            "학번을 입력하세요:12345\n",
            "1학년 23반 45번\n"
          ]
        }
      ]
    },
    {
      "cell_type": "code",
      "source": [
        "a=input('차량 번호를 입력하세요: ')\n",
        "\n",
        "print(f'{a} 의 차량번호 끝 4자리는 {a[-4:]} 입니다')"
      ],
      "metadata": {
        "colab": {
          "base_uri": "https://localhost:8080/"
        },
        "id": "5w3yzYm6BFSJ",
        "outputId": "4b34d745-e044-4327-dfe6-a9fbe5dafe50"
      },
      "execution_count": 56,
      "outputs": [
        {
          "output_type": "stream",
          "name": "stdout",
          "text": [
            "차량 번호를 입력하세요: 서울2가 1234\n",
            "서울2가 1234 의 차량번호 끝 4자리는 1234 입니다\n"
          ]
        }
      ]
    },
    {
      "cell_type": "code",
      "source": [
        "name=input()\n",
        "\n",
        "print(name[(int(len(name)/2)):int(len(name)/2)+1])\n",
        "#(int(len(name)/2)==len(name)//2 몫만 챙기는 연산자\n"
      ],
      "metadata": {
        "colab": {
          "base_uri": "https://localhost:8080/"
        },
        "id": "yrEaI_73Dhjq",
        "outputId": "aee74e6d-400d-4b9d-84f8-49446f5a8667"
      },
      "execution_count": 36,
      "outputs": [
        {
          "output_type": "stream",
          "name": "stdout",
          "text": [
            "asdewqw\n",
            "e\n"
          ]
        }
      ]
    },
    {
      "cell_type": "code",
      "source": [
        "list1 = [1,2,3,4,5,6,7,8,9]\n",
        "\n",
        "print(list1[2:7][1])"
      ],
      "metadata": {
        "colab": {
          "base_uri": "https://localhost:8080/"
        },
        "id": "fJpV0mIBGTzf",
        "outputId": "d33146dc-e5ed-4b35-fb38-f3b8c5f11ce3"
      },
      "execution_count": 46,
      "outputs": [
        {
          "output_type": "stream",
          "name": "stdout",
          "text": [
            "4\n"
          ]
        }
      ]
    },
    {
      "cell_type": "code",
      "source": [
        "a =int( input('(입력) 정수를 입력하세요: '))\n",
        "\n",
        "if a%3==0:\n",
        "  b='는 3의 배수 입니다'\n",
        "else:\n",
        "  b='는 3의 배수가 아닙니다'\n",
        "\n",
        "print(f'{a}{b}')\n",
        "\n",
        "\n"
      ],
      "metadata": {
        "colab": {
          "base_uri": "https://localhost:8080/"
        },
        "id": "LCjGkaCZIVCU",
        "outputId": "80c5009d-f76b-42b9-b94b-fe5ee7e002fe"
      },
      "execution_count": 50,
      "outputs": [
        {
          "output_type": "stream",
          "name": "stdout",
          "text": [
            "(입력) 정수를 입력하세요: 13\n",
            "13는 3의 배수가 아닙니다\n"
          ]
        }
      ]
    },
    {
      "cell_type": "code",
      "source": [
        "a=int(input('정수1입력:'))\n",
        "b=int(input('정수2입력:'))\n",
        "c=int(input('정수3입력:'))\n",
        "\n",
        "if a>b & a>c:\n",
        "  maxi=a\n",
        "elif b>c:\n",
        "  maxi=b\n",
        "else:\n",
        "  maxi=c\n",
        "\n",
        "print(f'가장 큰 수는 {maxi}입니다.')\n",
        "\n"
      ],
      "metadata": {
        "colab": {
          "base_uri": "https://localhost:8080/",
          "height": 299
        },
        "id": "RToncrm9U2_L",
        "outputId": "d6e8f299-d616-4eca-e1f2-3406ed01e600"
      },
      "execution_count": 54,
      "outputs": [
        {
          "name": "stdout",
          "output_type": "stream",
          "text": [
            "정수1입력:3\n",
            "정수2입력:4\n",
            "정수3입력:14\n"
          ]
        },
        {
          "output_type": "error",
          "ename": "NameError",
          "evalue": "ignored",
          "traceback": [
            "\u001b[0;31m---------------------------------------------------------------------------\u001b[0m",
            "\u001b[0;31mNameError\u001b[0m                                 Traceback (most recent call last)",
            "\u001b[0;32m<ipython-input-54-6597112baacd>\u001b[0m in \u001b[0;36m<module>\u001b[0;34m()\u001b[0m\n\u001b[1;32m     10\u001b[0m \u001b[0;34m\u001b[0m\u001b[0m\n\u001b[1;32m     11\u001b[0m \u001b[0;32mfor\u001b[0m \u001b[0mi\u001b[0m \u001b[0;32min\u001b[0m \u001b[0mlist1\u001b[0m\u001b[0;34m:\u001b[0m\u001b[0;34m\u001b[0m\u001b[0;34m\u001b[0m\u001b[0m\n\u001b[0;32m---> 12\u001b[0;31m   \u001b[0;32mif\u001b[0m \u001b[0mi\u001b[0m\u001b[0;34m>\u001b[0m \u001b[0mmaximum\u001b[0m\u001b[0;34m:\u001b[0m\u001b[0;34m\u001b[0m\u001b[0;34m\u001b[0m\u001b[0m\n\u001b[0m\u001b[1;32m     13\u001b[0m     \u001b[0mmaximum\u001b[0m\u001b[0;34m=\u001b[0m\u001b[0mi\u001b[0m\u001b[0;34m\u001b[0m\u001b[0;34m\u001b[0m\u001b[0m\n\u001b[1;32m     14\u001b[0m \u001b[0mprint\u001b[0m\u001b[0;34m(\u001b[0m\u001b[0mmaximum\u001b[0m\u001b[0;34m)\u001b[0m\u001b[0;34m\u001b[0m\u001b[0;34m\u001b[0m\u001b[0m\n",
            "\u001b[0;31mNameError\u001b[0m: name 'maximum' is not defined"
          ]
        }
      ]
    }
  ]
}