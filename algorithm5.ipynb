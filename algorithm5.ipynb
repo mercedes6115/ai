{
  "nbformat": 4,
  "nbformat_minor": 0,
  "metadata": {
    "colab": {
      "name": "algorithm5.ipynb",
      "provenance": [],
      "collapsed_sections": [],
      "authorship_tag": "ABX9TyPh7cYyqty70ZHs1xpOflLM",
      "include_colab_link": true
    },
    "kernelspec": {
      "name": "python3",
      "display_name": "Python 3"
    },
    "language_info": {
      "name": "python"
    }
  },
  "cells": [
    {
      "cell_type": "markdown",
      "metadata": {
        "id": "view-in-github",
        "colab_type": "text"
      },
      "source": [
        "<a href=\"https://colab.research.google.com/github/mercedes6115/ai/blob/main/algorithm5.ipynb\" target=\"_parent\"><img src=\"https://colab.research.google.com/assets/colab-badge.svg\" alt=\"Open In Colab\"/></a>"
      ]
    },
    {
      "cell_type": "code",
      "execution_count": null,
      "metadata": {
        "id": "v1o25wYdWgG5"
      },
      "outputs": [],
      "source": [
        "# 에라토스테네스의 체 두 정수 사이의 소수 개수를 구하기 \n",
        "\n",
        "def prime(number):\n",
        "    if number == 1:\n",
        "        return False\n",
        "    else:\n",
        "        for i in range(2, int(number ** 0.5) + 1): # 제곱근한 수 이하의 소수들의 배수들을 제거하고 남은 숫자들이 소수다 --> 극한으로 가면 100% 정확하지는 않다 \n",
        "            if number % i == 0:\n",
        "                return False\n",
        "        return True\n",
        "\n",
        "M, N = map(int, input().split())\n",
        "for i in range(M, N + 1):\n",
        "    if prime(i):\n",
        "        print(i)"
      ]
    },
    {
      "cell_type": "code",
      "source": [
        "# 유클리드의 호제법 최대공약수 구하기 알고리즘\n",
        "# x,y 의 최대 공약수는 x,r(= x%y)의 최대 공약수 이다 \n",
        "def gcd(a, b): # Greatest Common Divisor\n",
        "  if a < b: \n",
        "    (a, b) = (b, a) \n",
        "  while b !=0: \n",
        "    (a, b) = (b, a % b) \n",
        "  return a\n",
        "\n",
        "print(gcd(221,143))\n",
        "# 선 판정형 구조는 반복 처리에 들어가기 전에 조건식으로 판정을 실시한다\n",
        "# 후 판정형 구조는 반복 처리 후에 조건식으로 판정을 실시한다\n",
        "\n",
        "# 최소 공배수 Least Common Multiplier\n",
        "def lcm(a,b):\n",
        "  if a < b: \n",
        "    (a, b) = (b, a)\n",
        "  result = (a*b) // gcd(a,b)\n",
        "  return result\n",
        "\n",
        "print(lcm(221,143))\n"
      ],
      "metadata": {
        "id": "pN_oa54RWhZm"
      },
      "execution_count": null,
      "outputs": []
    }
  ]
}