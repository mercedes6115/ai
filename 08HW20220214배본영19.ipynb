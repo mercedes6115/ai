{
  "nbformat": 4,
  "nbformat_minor": 0,
  "metadata": {
    "colab": {
      "name": "08HW20220214배본영19.ipynb",
      "provenance": [],
      "collapsed_sections": [],
      "authorship_tag": "ABX9TyNzuK3M45+JM6kRbThtNmuZ",
      "include_colab_link": true
    },
    "kernelspec": {
      "name": "python3",
      "display_name": "Python 3"
    },
    "language_info": {
      "name": "python"
    }
  },
  "cells": [
    {
      "cell_type": "markdown",
      "metadata": {
        "id": "view-in-github",
        "colab_type": "text"
      },
      "source": [
        "<a href=\"https://colab.research.google.com/github/mercedes6115/ai/blob/main/08HW20220214%EB%B0%B0%EB%B3%B8%EC%98%8119.ipynb\" target=\"_parent\"><img src=\"https://colab.research.google.com/assets/colab-badge.svg\" alt=\"Open In Colab\"/></a>"
      ]
    },
    {
      "cell_type": "code",
      "execution_count": null,
      "metadata": {
        "id": "xo7LWXUSwlbZ"
      },
      "outputs": [],
      "source": [
        "# 476\n",
        "def xyz(): \n",
        "  x = 40 \n",
        "  abc() \n",
        "  print(x) \n",
        "def abc(): \n",
        "  a = 32 \n",
        "  x = 10 \n",
        "xyz() \n",
        "\n",
        "# b"
      ]
    },
    {
      "cell_type": "code",
      "source": [
        "# 477\n",
        "def xyz(): \n",
        "  x = 40 \n",
        "def abc(): \n",
        "  xyz() \n",
        "  a = 32 \n",
        "  x = 10 \n",
        "  print(x) \n",
        "abc() \n",
        "\n",
        "# c"
      ],
      "metadata": {
        "id": "R2Y5Ao0ixHMu"
      },
      "execution_count": null,
      "outputs": []
    },
    {
      "cell_type": "code",
      "source": [
        "# 478\n",
        "def abc(): \n",
        "  print(x) \n",
        "  x = 10 \n",
        "abc()\n",
        "\n",
        "# 지역변수 선언안함 "
      ],
      "metadata": {
        "id": "c3TVwpcpxSMv"
      },
      "execution_count": null,
      "outputs": []
    },
    {
      "cell_type": "code",
      "source": [
        "# 479\n",
        "def abc(): \n",
        "  x = 12 \n",
        "  print(x) \n",
        "  x = 10 \n",
        "abc()"
      ],
      "metadata": {
        "colab": {
          "base_uri": "https://localhost:8080/"
        },
        "id": "94SsDb-DxXjq",
        "outputId": "7247939f-93a9-4251-f8de-8dc7c7982b2e"
      },
      "execution_count": null,
      "outputs": [
        {
          "output_type": "stream",
          "name": "stdout",
          "text": [
            "12\n"
          ]
        }
      ]
    },
    {
      "cell_type": "code",
      "source": [
        "# 480\n",
        "def abc(): \n",
        "  x = 10 \n",
        "  print(x) \n",
        "abc() \n",
        "x = 12\n",
        "# c"
      ],
      "metadata": {
        "id": "c3_MDPVCxoYH"
      },
      "execution_count": null,
      "outputs": []
    },
    {
      "cell_type": "code",
      "source": [
        "# 481\n",
        "def abc(): \n",
        "  global x \n",
        "  x = 23 \n",
        "x = 10 \n",
        "abc() \n",
        "print(x)\n",
        "\n",
        "# b"
      ],
      "metadata": {
        "id": "5z1o4PSDxz37"
      },
      "execution_count": null,
      "outputs": []
    },
    {
      "cell_type": "code",
      "source": [
        "# 482\n",
        "def abc(): \n",
        "  print(x) \n",
        "  x = 10 \n",
        "abc() \n",
        "x = 20\n",
        "# d "
      ],
      "metadata": {
        "id": "eu0PXRmZyBMO"
      },
      "execution_count": null,
      "outputs": []
    },
    {
      "cell_type": "code",
      "source": [
        "# 483\n",
        "def abc(x): \n",
        "  return 20 / x \n",
        "print(abc(4))\n",
        "# c"
      ],
      "metadata": {
        "id": "y37vIXeEyIMZ"
      },
      "execution_count": null,
      "outputs": []
    },
    {
      "cell_type": "code",
      "source": [
        "# 484\n",
        "def abc(x): \n",
        "  return 20 / x \n",
        "print(abc(0))\n",
        "# d"
      ],
      "metadata": {
        "id": "syfcuRwcySjf"
      },
      "execution_count": null,
      "outputs": []
    },
    {
      "cell_type": "code",
      "source": [
        "# 485\n",
        "def abc(x): \n",
        "  try: \n",
        "    print(20 / x)\n",
        "  except:\n",
        "    print('Not a valid argument', end=' ') \n",
        "print(abc(0))\n",
        "\n",
        "# b"
      ],
      "metadata": {
        "colab": {
          "base_uri": "https://localhost:8080/"
        },
        "id": "3t5owRoJyYIZ",
        "outputId": "96eac051-a84b-4b62-c6ae-0c509f1e347d"
      },
      "execution_count": null,
      "outputs": [
        {
          "output_type": "stream",
          "name": "stdout",
          "text": [
            "Not a valid argument None\n"
          ]
        }
      ]
    },
    {
      "cell_type": "code",
      "source": [
        "# 486\n",
        "def abc(x): \n",
        "  try: \n",
        "    print(20 / x) \n",
        "  except: \n",
        "    print('Not a valid argument', end=' ') \n",
        "  finally: \n",
        "    print(0, end=' ')\n",
        "print(abc(0))\n",
        "# a"
      ],
      "metadata": {
        "id": "GOREjB2syfSq"
      },
      "execution_count": null,
      "outputs": []
    },
    {
      "cell_type": "code",
      "source": [
        "# 487\n",
        "x = [1, 2, 3, 4] \n",
        "print(x[4])\n",
        "# d"
      ],
      "metadata": {
        "id": "k2svR0StypSp"
      },
      "execution_count": null,
      "outputs": []
    },
    {
      "cell_type": "code",
      "source": [
        "# 488\n",
        "x = [10, 20, 30, 40] \n",
        "print(x[20])\n",
        "# d "
      ],
      "metadata": {
        "id": "9fH4911RyvRk"
      },
      "execution_count": null,
      "outputs": []
    },
    {
      "cell_type": "code",
      "source": [
        "# 489\n",
        "x = [1.0, 2.0, 3.0] \n",
        "print(x[2.0])\n",
        "# c"
      ],
      "metadata": {
        "id": "cgTT0SdLyy8q"
      },
      "execution_count": null,
      "outputs": []
    },
    {
      "cell_type": "code",
      "source": [
        "# 490\n",
        "x = [1.0, 2.0, 3.0] \n",
        "print(x[int(2.0)])\n",
        "# b"
      ],
      "metadata": {
        "id": "AampnR7zy5_k"
      },
      "execution_count": null,
      "outputs": []
    },
    {
      "cell_type": "code",
      "source": [
        "# 491\n",
        "x = ['Today', 'nice', 'day'] \n",
        "print(x[0] + ' is a ' + x[1] + x[2])\n",
        "# a\n"
      ],
      "metadata": {
        "id": "2UEOEAULzCgw"
      },
      "execution_count": null,
      "outputs": []
    },
    {
      "cell_type": "code",
      "source": [
        "# 492\n",
        "x = ['Today', 'Sunday', 'Monday'] \n",
        "print(x[0] + ' was a great day') \n",
        "# a"
      ],
      "metadata": {
        "id": "ywGKCQTIzNAT"
      },
      "execution_count": null,
      "outputs": []
    },
    {
      "cell_type": "code",
      "source": [
        "# 493\n",
        "x = ['Today', 'Sunday', 'Monday'] \n",
        "print(x[-1] + ' was a great day') \n",
        "# c"
      ],
      "metadata": {
        "id": "XlWyrXHJzUA6"
      },
      "execution_count": null,
      "outputs": []
    },
    {
      "cell_type": "code",
      "source": [
        "# 494\n",
        "x = ['Today', 'Sunday', 'Monday'] \n",
        "print(x[-3] + ' was a great day')\n",
        "# a"
      ],
      "metadata": {
        "id": "Oe4plMxCxxg7"
      },
      "execution_count": null,
      "outputs": []
    },
    {
      "cell_type": "code",
      "source": [
        "# 495\n",
        "x = ['Today', 'Sunday', 'Monday'] \n",
        "x[2] = 'Friday' \n",
        "x[1] = 'Yesterday' \n",
        "print(x[-2] + ' was a great day')\n",
        "# d"
      ],
      "metadata": {
        "id": "Oa4dikiGzhvV"
      },
      "execution_count": null,
      "outputs": []
    },
    {
      "cell_type": "code",
      "source": [
        "# Algorithm Homework\n",
        "def func(numlist):\n",
        "  odd = 0\n",
        "  even = 0\n",
        "  for i in numlist:\n",
        "    if i % 2 == 0:\n",
        "      even += 1 \n",
        "    else : \n",
        "      odd += 1\n",
        "  print(f'홀수 {odd}개, 짝수{even}개')\n",
        "func([3, 4, 5, 6, 7])\n",
        "func([12, 16, 22, 24, 29])\n",
        "func([41, 43, 45, 47, 49])"
      ],
      "metadata": {
        "colab": {
          "base_uri": "https://localhost:8080/"
        },
        "id": "4aqtoGz_ztnH",
        "outputId": "040fff3f-758f-4f0e-a6d2-2e55226d7f13"
      },
      "execution_count": null,
      "outputs": [
        {
          "output_type": "stream",
          "name": "stdout",
          "text": [
            "홀수 3개, 짝수2개\n",
            "홀수 1개, 짝수4개\n",
            "홀수 5개, 짝수0개\n"
          ]
        }
      ]
    },
    {
      "cell_type": "code",
      "source": [
        ""
      ],
      "metadata": {
        "id": "7a-FSSN50CkZ"
      },
      "execution_count": null,
      "outputs": []
    }
  ]
}