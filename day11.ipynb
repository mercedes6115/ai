{
  "nbformat": 4,
  "nbformat_minor": 0,
  "metadata": {
    "colab": {
      "name": "day11.ipynb",
      "provenance": [],
      "collapsed_sections": [],
      "authorship_tag": "ABX9TyN7oNmv6gGOSPYXv/rqA74u",
      "include_colab_link": true
    },
    "kernelspec": {
      "name": "python3",
      "display_name": "Python 3"
    },
    "language_info": {
      "name": "python"
    }
  },
  "cells": [
    {
      "cell_type": "markdown",
      "metadata": {
        "id": "view-in-github",
        "colab_type": "text"
      },
      "source": [
        "<a href=\"https://colab.research.google.com/github/mercedes6115/ai/blob/main/day11.ipynb\" target=\"_parent\"><img src=\"https://colab.research.google.com/assets/colab-badge.svg\" alt=\"Open In Colab\"/></a>"
      ]
    },
    {
      "cell_type": "code",
      "execution_count": 4,
      "metadata": {
        "colab": {
          "base_uri": "https://localhost:8080/"
        },
        "id": "lxKGs9lTi761",
        "outputId": "47379f5b-8d7e-49e5-9b80-6d683bd1c463"
      },
      "outputs": [
        {
          "output_type": "stream",
          "name": "stdout",
          "text": [
            "First Name: 배본영\n",
            "Hello 배본영\n"
          ]
        }
      ],
      "source": [
        "# 001\n",
        "str = input('First Name: ')\n",
        "\n",
        "print(f'Hello {str}')"
      ]
    },
    {
      "cell_type": "code",
      "source": [
        "# 002\n",
        "str1,str2 = input('first Name and surname: ').split()\n",
        "\n",
        "print(f'Hello {str1} {str2}')\n",
        "\n",
        "str3 = input('plz enter your first Name: ')\n",
        "str4 = input('plz enter your last Name: ')\n",
        "print(f'Hello {str3} {str4}')"
      ],
      "metadata": {
        "colab": {
          "base_uri": "https://localhost:8080/"
        },
        "id": "qUzYqpSEkeqv",
        "outputId": "15bc52ac-011f-496d-a61e-87c20653f166"
      },
      "execution_count": 9,
      "outputs": [
        {
          "output_type": "stream",
          "name": "stdout",
          "text": [
            "first Name and surname: qo qhsdud\n",
            "Hello qo qhsdud\n",
            "plz enter your first Name: qo\n",
            "plz enter your last Name: qhsdud\n",
            "Hello qo qhsdud\n"
          ]
        }
      ]
    },
    {
      "cell_type": "code",
      "source": [
        "# 003 \n",
        "num1,num2 = input('first and second: ').split()\n",
        "num1 = int(num1)\n",
        "num2 = int(num2)\n",
        "\n",
        "def add(n1,n2):\n",
        "  print(f'The total is {n1+n2}')\n",
        "\n",
        "add(num1,num2)"
      ],
      "metadata": {
        "colab": {
          "base_uri": "https://localhost:8080/"
        },
        "id": "KW3Ua6o9lD-Y",
        "outputId": "15087698-0fde-4dc5-b1ed-c85816fdfdbd"
      },
      "execution_count": 13,
      "outputs": [
        {
          "output_type": "stream",
          "name": "stdout",
          "text": [
            "first and second: 3 4\n",
            "The total is 7\n"
          ]
        }
      ]
    },
    {
      "cell_type": "code",
      "source": [
        "# 004 \n",
        "\n",
        "slices = int(input('Enter the number og slices of pizza you started with: '))\n",
        "left = int(input('How many slices have you eaten? '))\n",
        "\n",
        "def ls(a,b):\n",
        "  print(f'The answer is {a-b}')\n",
        "ls(slices,left)"
      ],
      "metadata": {
        "colab": {
          "base_uri": "https://localhost:8080/"
        },
        "id": "FB5p8iiHmyJo",
        "outputId": "a3a6883d-b31e-4c8c-b187-a09708da4a4e"
      },
      "execution_count": 16,
      "outputs": [
        {
          "output_type": "stream",
          "name": "stdout",
          "text": [
            "Enter the number og slices of pizza you started with: 8\n",
            "How many slices have you eaten? 5\n",
            "The answer is 3\n"
          ]
        }
      ]
    },
    {
      "cell_type": "code",
      "source": [
        "# 005 \n",
        "day= int(input('Enter the number of days: '))\n",
        "def con(a):\n",
        "  print(f'In {a} days there are...')\n",
        "  print(f'{a*24} hours')\n",
        "  print(f'{a*24*60} minutes')\n",
        "  print(f'{a*24*60*60} seconds')\n",
        "con(day)"
      ],
      "metadata": {
        "colab": {
          "base_uri": "https://localhost:8080/"
        },
        "id": "ouV_Edb0ocQq",
        "outputId": "2cdd428e-378a-43cd-96cd-c9407f23e2e5"
      },
      "execution_count": 22,
      "outputs": [
        {
          "output_type": "stream",
          "name": "stdout",
          "text": [
            "Enter the number of days: 1\n",
            "In 1 days there are...\n",
            "24 hours\n",
            "1440 minutes\n",
            "86400 seconds\n"
          ]
        }
      ]
    },
    {
      "cell_type": "code",
      "source": [
        "# 006\n",
        "num1,num2 = input('first and second: ').split()\n",
        "num1 = int(num1)\n",
        "num2 = int(num2)\n",
        "\n",
        "def ask(a,b):\n",
        "  print(f'{num1} goes into {num2} {num1 // num2} times')\n",
        "ask(num1,num2)"
      ],
      "metadata": {
        "colab": {
          "base_uri": "https://localhost:8080/"
        },
        "id": "Z-U2oSP_qc08",
        "outputId": "c6079bb7-af00-4d90-ddf0-a5192b094d1b"
      },
      "execution_count": 25,
      "outputs": [
        {
          "output_type": "stream",
          "name": "stdout",
          "text": [
            "first and second: 130 23\n",
            "130 goes into 23 5\n"
          ]
        }
      ]
    },
    {
      "cell_type": "code",
      "source": [
        "# 007\n",
        "# 조건문 \n",
        "num1=int(input('Enter first number: '))\n",
        "num2=int(input('Enter second number: '))\n",
        "def swap(a,b):\n",
        "  if a > b:\n",
        "    a,b = b,a\n",
        "    print(a,b)\n",
        "  else:\n",
        "    print(a,b)\n",
        "swap(num1,num2)"
      ],
      "metadata": {
        "colab": {
          "base_uri": "https://localhost:8080/"
        },
        "id": "vKURfo03w9wf",
        "outputId": "d33a48a9-75f6-466d-996c-eb6385033c91"
      },
      "execution_count": 30,
      "outputs": [
        {
          "output_type": "stream",
          "name": "stdout",
          "text": [
            "Enter first number: 2\n",
            "Enter second number: 10\n",
            "2 10\n"
          ]
        }
      ]
    },
    {
      "cell_type": "code",
      "source": [
        "# 008 \n",
        "num=int(input('Enter a number: '))\n",
        "\n",
        "def sure(a):\n",
        "  if 10 <= a and a<= 20 :\n",
        "    print('Thank you')\n",
        "  else:\n",
        "    print('incorrect number')\n",
        "sure(num)"
      ],
      "metadata": {
        "colab": {
          "base_uri": "https://localhost:8080/"
        },
        "id": "RJ4OWFiH0jFb",
        "outputId": "03377dc9-7426-420d-d5ed-8dde0d8604ae"
      },
      "execution_count": 32,
      "outputs": [
        {
          "output_type": "stream",
          "name": "stdout",
          "text": [
            "Enter a number: 111\n",
            "incorrect number\n"
          ]
        }
      ]
    },
    {
      "cell_type": "code",
      "source": [
        "# 009 \n",
        "num=input('Enter a color: ')\n",
        "\n",
        "def sure(a):\n",
        "  if a == 'red' or 'RED' or 'Red' :\n",
        "    print('l like red too')\n",
        "  else:\n",
        "    print('i dont like {a}, I prefer red')\n",
        "sure(num)"
      ],
      "metadata": {
        "colab": {
          "base_uri": "https://localhost:8080/"
        },
        "id": "x96cGXcK2v7H",
        "outputId": "e163fc15-19f0-469c-c74c-f6632d106597"
      },
      "execution_count": 35,
      "outputs": [
        {
          "output_type": "stream",
          "name": "stdout",
          "text": [
            "Enter a color: Red\n",
            "Thank you\n"
          ]
        }
      ]
    },
    {
      "cell_type": "code",
      "source": [
        "# 010\n",
        "w = input('Is it raining ? ')\n",
        "w = w.lower()\n",
        "\n",
        "def sure(a):\n",
        "  if w == 'yes':\n",
        "    s = input('Is it windy ? ')\n",
        "    s = s.lower()\n",
        "    if s == 'yes':\n",
        "      print('It is too windy for an umbrella')\n",
        "    else:\n",
        "      print('Take an umbrella')\n",
        "  else:\n",
        "    print('Enjoy your day')\n",
        "sure(w)\n"
      ],
      "metadata": {
        "colab": {
          "base_uri": "https://localhost:8080/"
        },
        "id": "MqyxZIsD5gbf",
        "outputId": "3480f178-8521-4414-826f-afed9f45b4be"
      },
      "execution_count": 36,
      "outputs": [
        {
          "output_type": "stream",
          "name": "stdout",
          "text": [
            "Is it raining ? YES\n",
            "Is it wnedy ? YES\n",
            "Take an umbrella\n"
          ]
        }
      ]
    },
    {
      "cell_type": "code",
      "source": [
        "# 011\n",
        "age = int(input('What is your age? '))\n",
        "\n",
        "def sure(a):\n",
        "  if a >= 18:\n",
        "    print('You can vote')\n",
        "  elif a == 17:\n",
        "    print('You can learn to drive')\n",
        "  elif a == 16:\n",
        "    print('You can buy a lottery ticket')\n",
        "  else :\n",
        "    print('You can go Trick or Treating')\n",
        "sure(age)"
      ],
      "metadata": {
        "colab": {
          "base_uri": "https://localhost:8080/"
        },
        "id": "UBTFFH9TAfta",
        "outputId": "f7183c2f-785c-4f70-d38d-ba006387e943"
      },
      "execution_count": 44,
      "outputs": [
        {
          "output_type": "stream",
          "name": "stdout",
          "text": [
            "What is your age? 15\n",
            "You can go Trick or Treating\n"
          ]
        }
      ]
    },
    {
      "cell_type": "code",
      "source": [
        "# 012\n",
        "# 문자열 \n",
        "\n",
        "name = input('Enter your name: ')\n",
        "print(len(name))\n"
      ],
      "metadata": {
        "colab": {
          "base_uri": "https://localhost:8080/"
        },
        "id": "-uJHEknLEAx8",
        "outputId": "c4ad67fe-e423-498b-8c01-be528008424c"
      },
      "execution_count": 46,
      "outputs": [
        {
          "output_type": "stream",
          "name": "stdout",
          "text": [
            "Enter your name: asdqwrqertgwerjkfhwarjkgahwnerf\n",
            "31\n"
          ]
        }
      ]
    },
    {
      "cell_type": "code",
      "source": [
        "# 013\n",
        "fname = input('Enter your firstname: ')\n",
        "sname = input('Enter your surname: ')\n",
        "\n",
        "fname = fname.title() \n",
        "sname = sname.title()\n",
        "\n",
        "fullname = fname + ' ' + sname\n",
        "print(fullname)"
      ],
      "metadata": {
        "colab": {
          "base_uri": "https://localhost:8080/"
        },
        "id": "hDYDZxRGFTZH",
        "outputId": "eaa2cfe2-8123-439b-ba55-011651311e5d"
      },
      "execution_count": 54,
      "outputs": [
        {
          "output_type": "stream",
          "name": "stdout",
          "text": [
            "Enter your firstname: qo\n",
            "Enter your surname: qhsdud\n",
            "Qo Qhsdud\n"
          ]
        }
      ]
    },
    {
      "cell_type": "code",
      "source": [
        "# 014\n",
        "\n",
        "fname = input('Enter your firstname: ')\n",
        "sname = input('Enter your surname: ')\n",
        "\n",
        "if len(fname) >= 5 :\n",
        "  fname = fname.lower()\n",
        "else:\n",
        "  fname = fname.upper()\n",
        "fullname = fname+sname\n",
        "print(fullname)\n"
      ],
      "metadata": {
        "colab": {
          "base_uri": "https://localhost:8080/"
        },
        "id": "1GXpcx_nHsR1",
        "outputId": "e75f750e-b5d2-4abb-9ac1-13db41bc2b2f"
      },
      "execution_count": 56,
      "outputs": [
        {
          "output_type": "stream",
          "name": "stdout",
          "text": [
            "Enter your firstname: as\n",
            "Enter your surname: qweqwe\n",
            "ASqweqwe\n"
          ]
        }
      ]
    },
    {
      "cell_type": "code",
      "source": [
        "# 015\n",
        "# pig latin\n",
        "\n",
        "pyg = 'ay'\n",
        "\n",
        "ori = input(\"word: \")\n",
        "if len(ori) > 0 and ori.isalpha():\n",
        "  word = ori.lower()\n",
        "  first = word[0]\n",
        "  vov=['a','e','i','o','u']\n",
        "  for i in vov:\n",
        "    if first == i:\n",
        "      new_word = ori + pyg\n",
        "      print(new_word)\n",
        "      break\n",
        "    else:\n",
        "      new_word = ori[1:len(ori)] + first + pyg\n",
        "      print(new_word)\n",
        "      break\n"
      ],
      "metadata": {
        "colab": {
          "base_uri": "https://localhost:8080/"
        },
        "id": "K12Phss6PV1-",
        "outputId": "10070647-d6c0-43e2-84b1-e19d3b2b839f"
      },
      "execution_count": 67,
      "outputs": [
        {
          "output_type": "stream",
          "name": "stdout",
          "text": [
            "word: will\n",
            "illway\n"
          ]
        }
      ]
    },
    {
      "cell_type": "code",
      "source": [
        ""
      ],
      "metadata": {
        "id": "y_9jwqG6YmIy"
      },
      "execution_count": null,
      "outputs": []
    }
  ]
}