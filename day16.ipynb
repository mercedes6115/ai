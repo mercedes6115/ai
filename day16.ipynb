{
  "nbformat": 4,
  "nbformat_minor": 0,
  "metadata": {
    "colab": {
      "name": "day16.ipynb",
      "provenance": [],
      "collapsed_sections": [],
      "authorship_tag": "ABX9TyOCW/Vndod0udGE+ffb7zru",
      "include_colab_link": true
    },
    "kernelspec": {
      "name": "python3",
      "display_name": "Python 3"
    },
    "language_info": {
      "name": "python"
    }
  },
  "cells": [
    {
      "cell_type": "markdown",
      "metadata": {
        "id": "view-in-github",
        "colab_type": "text"
      },
      "source": [
        "<a href=\"https://colab.research.google.com/github/mercedes6115/ai/blob/main/day16.ipynb\" target=\"_parent\"><img src=\"https://colab.research.google.com/assets/colab-badge.svg\" alt=\"Open In Colab\"/></a>"
      ]
    },
    {
      "cell_type": "code",
      "execution_count": 9,
      "metadata": {
        "colab": {
          "base_uri": "https://localhost:8080/"
        },
        "id": "6-s6liGoMd5I",
        "outputId": "9001f74c-d80c-4330-ef3a-b247e6a5f83f"
      },
      "outputs": [
        {
          "output_type": "stream",
          "name": "stdout",
          "text": [
            "1 2\n",
            "2 3\n",
            "3 5\n",
            "5 8\n",
            "8 13\n",
            "13 21\n",
            "21 34\n",
            "34 55\n",
            "55 89\n",
            "89 144\n"
          ]
        },
        {
          "output_type": "execute_result",
          "data": {
            "text/plain": [
              "89"
            ]
          },
          "metadata": {},
          "execution_count": 9
        }
      ],
      "source": [
        "# 피보나치\n",
        "\n",
        "def fib(n):\n",
        "  a,b = 1,1\n",
        "  if n == 1 or n == 2:\n",
        "    return 1\n",
        "  for i in range(1,n):\n",
        "    a,b = b, a + b\n",
        "    print(a,b)\n",
        "  return a\n",
        "\n",
        "fib(11)\n"
      ]
    },
    {
      "cell_type": "code",
      "source": [
        "# 재귀 \n",
        "\n",
        "def fib(n):\n",
        "  if n==1 or n==2:\n",
        "    return 1\n",
        "  else:\n",
        "    return fib(n-1)+ fib(n-2)\n",
        "\n",
        "fib(6)\n"
      ],
      "metadata": {
        "colab": {
          "base_uri": "https://localhost:8080/"
        },
        "id": "XgPKAgK4RAVK",
        "outputId": "f3823800-004d-45a1-cbaf-ed9ec994696e"
      },
      "execution_count": 11,
      "outputs": [
        {
          "output_type": "execute_result",
          "data": {
            "text/plain": [
              "8"
            ]
          },
          "metadata": {},
          "execution_count": 11
        }
      ]
    },
    {
      "cell_type": "code",
      "source": [
        "# 람다 --> 함수 단순화\n",
        "\n",
        "fib = lambda n:1          if n<=2           else fib(n-1) + fib(n-2)\n",
        "\n",
        "fib(5) \n",
        "\n"
      ],
      "metadata": {
        "colab": {
          "base_uri": "https://localhost:8080/"
        },
        "id": "dGBgyXHqSGGt",
        "outputId": "6eca0541-1319-415d-c9a6-e78400240132"
      },
      "execution_count": 12,
      "outputs": [
        {
          "output_type": "execute_result",
          "data": {
            "text/plain": [
              "5"
            ]
          },
          "metadata": {},
          "execution_count": 12
        }
      ]
    },
    {
      "cell_type": "code",
      "source": [
        "\n",
        "# 피보나치 리스트 \n",
        "user = int(input())\n",
        "\n",
        "x = [1,1]\n",
        "y = []\n",
        "\n",
        "if user < 2:\n",
        "    print(x[0])\n",
        "elif user <3:\n",
        "    print(x[0], x[1])\n",
        "else:\n",
        "    for i in range(2,user):\n",
        "        y = x[-1] + x[-2]\n",
        "        x.append(y)\n",
        "print(x)"
      ],
      "metadata": {
        "colab": {
          "base_uri": "https://localhost:8080/"
        },
        "id": "sQgOU6GfTdF5",
        "outputId": "793313e3-eb33-444e-b970-b604f63bc5a1"
      },
      "execution_count": 18,
      "outputs": [
        {
          "output_type": "stream",
          "name": "stdout",
          "text": [
            "4\n",
            "[1, 1, 2, 3]\n"
          ]
        }
      ]
    },
    {
      "cell_type": "code",
      "source": [
        "# 2차원 리스트 \n",
        "\n",
        "#     math     korean\n",
        "# a    90       80           \n",
        "# b    80       85\n",
        "# v    100      70\n",
        "\n",
        "\n",
        "grade = [[98,80],[80,85],[100,70]]\n",
        "\n",
        "grade[2][0] # 3행 1열 인덱스 접근이니 2행 0열 \n",
        "\n",
        "\n"
      ],
      "metadata": {
        "colab": {
          "base_uri": "https://localhost:8080/"
        },
        "id": "CSutBKV-ZSLJ",
        "outputId": "05539575-aeb8-4660-9985-41b28edd79ea"
      },
      "execution_count": 19,
      "outputs": [
        {
          "output_type": "execute_result",
          "data": {
            "text/plain": [
              "100"
            ]
          },
          "metadata": {},
          "execution_count": 19
        }
      ]
    },
    {
      "cell_type": "code",
      "source": [
        "# Ask the user to enter the name, age and shoe size for four people.\n",
        "# Ask for the name of one of the people in the list and\n",
        "# display their age and shoe size.\n",
        "\n",
        "dict = {}\n",
        "\n",
        "for i in range(0,4):\n",
        "  name = input('Enter name : ')\n",
        "  age = input('Enter age : ')\n",
        "  shoe = input('Enter shoe : ')\n",
        "  dict[name]={'Age':age,'Shoe':shoe}\n",
        "\n",
        "who = input('Enter a name : ')\n",
        "print(dict[who])"
      ],
      "metadata": {
        "id": "ZhojagIll_PB"
      },
      "execution_count": null,
      "outputs": []
    },
    {
      "cell_type": "code",
      "source": [
        "n = 0\n",
        "info = [[0,0],[0,0],[0,0],[0,0]]\n",
        "for i in range(1,5):\n",
        "    name = input(\"Enter the name\")\n",
        "    age = input(\"Enter the age\")\n",
        "    shsize = input(\"Enter the shoe size\")\n",
        "    info[0][n].append(name)\n",
        "    info[1][n].append(age)\n",
        "    info[2][n].append(shsize)\n",
        "    n += 1\n",
        "print(info)"
      ],
      "metadata": {
        "id": "kAtkoMSxl_px"
      },
      "execution_count": null,
      "outputs": []
    },
    {
      "cell_type": "code",
      "source": [
        "# After gathering the two names, ages and shoe sizes, \n",
        "# ask the user to enter the name of the person they want to remove from the dict.\n",
        "# Delete this row from the data and display the other rows on separate lines.\n",
        "\n",
        "dict = {}\n",
        "\n",
        "for i in range(0,2):\n",
        "  name = input('Enter name : ')\n",
        "  age = input('Enter age : ')\n",
        "  shoe = input('Enter shoe : ')\n",
        "  dict[name]={'Age':age,'Shoe':shoe}\n",
        "\n",
        "getrid = input('Who do you want to remove from the dict?')\n",
        "del dict[getrid]\n",
        "\n",
        "for each in dict:\n",
        "  print(each, dict[each]['Age'], dict[each]['Shoe'])"
      ],
      "metadata": {
        "id": "mk4EgLpAmBKu"
      },
      "execution_count": null,
      "outputs": []
    },
    {
      "cell_type": "code",
      "source": [
        "# Reading and Writing to a File\n",
        "\n",
        "# It is all very well being able to define a list, make changes and add new data,\n",
        "# but if the next time the program is run it returns to the original data and your\n",
        "# changes are lost then it is not a lot of use. Therefore, It is sometimes necessary \n",
        "# to save the data outside of the program and this way the data can be stored,\n",
        "# along with any changes that are made.\n",
        "\n",
        "# write\n",
        "file = open('Countries.txt', 'w')\n",
        "file.write('Italy\\n')\n",
        "file.write('Germany\\n')\n",
        "file.write('Spain\\n')\n",
        "file.close()"
      ],
      "metadata": {
        "id": "8-GGL4HzmDby"
      },
      "execution_count": null,
      "outputs": []
    },
    {
      "cell_type": "code",
      "source": [
        "# read\n",
        "file = open('Countries.txt', 'r')\n",
        "print(file.read())"
      ],
      "metadata": {
        "id": "5KVYeUY6mGHM"
      },
      "execution_count": null,
      "outputs": []
    },
    {
      "cell_type": "code",
      "source": [
        "file = open('Countries.txt','a')\n",
        "file.write('France\\n')\n",
        "file.close()"
      ],
      "metadata": {
        "id": "ATiWOd0KmHdA"
      },
      "execution_count": null,
      "outputs": []
    },
    {
      "cell_type": "code",
      "source": [
        "# Display the following menu to the user:\n",
        "#      1) Create a new file\n",
        "#      2) Display the file\n",
        "#      3) Add a new item to the file\n",
        "#      Make a selection 1,2 or 3 :\n",
        "\n",
        "# Ask the user to enter 1,2 or 3. If they select anything other than 1,2 or 3 it should\n",
        "# display a suitable error message.\n",
        "\n",
        "# If the select 1, ask the user to enter a school subject and save it to a new file called\n",
        "# 'Subject.txt'. It should overwrite any existing file with a new file.\n",
        "\n",
        "# If they select 2, display the contents of the 'Subject.txt' file\n",
        "\n",
        "# if they select 3, ask the user to enter a new subject and sav e it to the file \n",
        "#and then display the entire contents of the file.\n",
        "\n",
        "# Run the program several times to test the options.\n",
        "\n",
        "##############################################################\n",
        "# Fantastic work, saving data to external files is an important programming skill. #\n",
        "##############################################################\n",
        "\n",
        "# Delete file\n",
        "# import os\n",
        "# os.remove('filename.txt')\n",
        "\n",
        "file = open('Subject.txt','w')\n",
        "file.close()\n",
        "\n",
        "\n",
        "ask = int(input('1) Create a new file\\n2)Display the file\\n3)Add a new item to the file'))\n",
        "\n",
        "\n",
        "if ask > 3:\n",
        "  print('error')\n",
        "\n",
        "elif ask == 1:\n",
        "  sub = input('학교 과목 입력하시오 >>')\n",
        "  file = open('Subject.txt','a')\n",
        "  file.write(sub)\n",
        "  file.close()\n",
        "elif ask == 2:  \n",
        "  file = open('Subject.txt','r')\n",
        "  print(file.read())\n",
        "elif ask == 3:\n",
        "  sub = input('학교 과목 입력하시오 >>')\n",
        "  file = open('Subject.txt','a')\n",
        "  file.write(sub)\n",
        "  file.close()\n",
        "  file = open('Subject.txt','r')\n",
        "  print(file.read())"
      ],
      "metadata": {
        "id": "yROdJjwRmLp4"
      },
      "execution_count": null,
      "outputs": []
    }
  ]
}