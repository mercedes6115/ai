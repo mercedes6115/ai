{
  "nbformat": 4,
  "nbformat_minor": 0,
  "metadata": {
    "colab": {
      "name": "Crawling.ipynb",
      "provenance": [],
      "collapsed_sections": [],
      "authorship_tag": "ABX9TyPwgYlKkNNtxUivhKgkw+Vt",
      "include_colab_link": true
    },
    "kernelspec": {
      "name": "python3",
      "display_name": "Python 3"
    },
    "language_info": {
      "name": "python"
    }
  },
  "cells": [
    {
      "cell_type": "markdown",
      "metadata": {
        "id": "view-in-github",
        "colab_type": "text"
      },
      "source": [
        "<a href=\"https://colab.research.google.com/github/mercedes6115/ai/blob/main/Crawling.ipynb\" target=\"_parent\"><img src=\"https://colab.research.google.com/assets/colab-badge.svg\" alt=\"Open In Colab\"/></a>"
      ]
    },
    {
      "cell_type": "markdown",
      "source": [
        ""
      ],
      "metadata": {
        "id": "nkHkG5kbEbw3"
      }
    },
    {
      "cell_type": "code",
      "execution_count": null,
      "metadata": {
        "id": "Ca4dyBgHnnh_"
      },
      "outputs": [],
      "source": [
        "import requests # 웹 연결 모듈 \n",
        "from bs4 import BeautifulSoup as bs\n",
        "import pandas \n",
        "import openpyxl\n",
        "\n",
        "html = requests.get('https://music.bugs.co.kr/chart') # 벅스뮤직\n",
        "# html1 = requests.get('https://www.melon.com/chart/index.htm') # 멜론차트 \n",
        "# html2 = requests.get('https://www.genie.co.kr/chart/top200') # 지니차트\n",
        "soup = bs(html.text,'lxml') # \n",
        "# print(soup)\n",
        "rank_lists = soup.select('.list > tbody > tr') # > 범위 축소 명령문 한단계씩 접근 ---> 이 경우 차트에 있는 100곡 정보 다 뽑아오기 \n",
        "# print(rank_list)\n",
        "'''\n",
        "ranking = rank_lists.select_one('td > div.ranking > strong').text\t# 순위\n",
        "title = rank_lists.select_one('th > .title > a').text\t\t# 제목\n",
        "artist = rank_lists.select_one('td.left > .artist > a').text\t\t# 가수\n",
        "'''\n",
        "total_list=[]\n",
        "for rank_list in rank_lists:\n",
        "    ranking = rank_list.select_one('td > div.ranking > strong').text # 순위\n",
        "    title = rank_list.select_one('th > .title > a').text # 제목\n",
        "    artist = rank_list.select_one('td.left > .artist > a').text # 가수\n",
        "\n",
        "    print(ranking, title, artist)"
      ]
    },
    {
      "cell_type": "code",
      "source": [
        "song_data = []\n",
        "rank = 1\n",
        "\n",
        "songs = soup.select('table.byChart > tbody > tr')  # -> 최종 100 추출 완료\n",
        "\n",
        "for song in songs:\n",
        "  title = song.select('p.title > a')[0].text\n",
        "  singer = song.select('p.artist > a')[0].text\n",
        "  song_data.append([rank, title, singer])\n",
        "  rank += 1\n",
        "\n",
        "song_data"
      ],
      "metadata": {
        "id": "BGYjzrRHBqzA"
      },
      "execution_count": null,
      "outputs": []
    },
    {
      "cell_type": "code",
      "source": [
        "df = pandas.DataFrame(song_data, columns = ['순위','타이틀','가수'])\n",
        "df.to_excel('bugs.xlsx', index=False)"
      ],
      "metadata": {
        "id": "6KwiLOnVByvu"
      },
      "execution_count": 23,
      "outputs": []
    },
    {
      "cell_type": "code",
      "source": [
        "from selenium import webdriver\n",
        "from selenium.webdriver.chrome.service import Service\n",
        "from bs4 import BeautifulSoup\n",
        "\n",
        "import pandas as pd\n",
        "\n",
        "\n",
        "ser = Service('C:\\chromedriver/chromedriver.exe')\n",
        "driver = webdriver.Chrome('C:\\chromedriver/chromedriver.exe')\n",
        "\n",
        "url = 'https://www.genie.co.kr/chart/top200'\n",
        "driver.get(url)\n",
        "\n",
        "\n",
        "html = driver.page_source\n",
        "soup = BeautifulSoup(html,'html.parser')\n",
        "\n",
        "\n",
        "songs = soup.select('tr.list')  \n",
        "song=songs[0]\n",
        "song_data = []\n",
        "rank = 1\n",
        "\n",
        "\n",
        "for song in songs:\n",
        "  singer = song.select('tr.list > td > a.artist.ellipsis')[0].text\n",
        "  title = song.select('tr.list> td > a.title.ellipsis')[0].text.strip()\n",
        "  mylist = [rank, title, singer]\n",
        "  song_data.append(mylist)\n",
        "  rank += 1\n",
        "\n",
        "song_data\n"
      ],
      "metadata": {
        "colab": {
          "base_uri": "https://localhost:8080/",
          "height": 394
        },
        "id": "3bNR36O6vvpe",
        "outputId": "ed0c4cda-bb34-4e0b-8314-51c0b76664cc"
      },
      "execution_count": 24,
      "outputs": [
        {
          "output_type": "error",
          "ename": "ModuleNotFoundError",
          "evalue": "ignored",
          "traceback": [
            "\u001b[0;31m---------------------------------------------------------------------------\u001b[0m",
            "\u001b[0;31mModuleNotFoundError\u001b[0m                       Traceback (most recent call last)",
            "\u001b[0;32m<ipython-input-24-284f4392b203>\u001b[0m in \u001b[0;36m<module>\u001b[0;34m()\u001b[0m\n\u001b[0;32m----> 1\u001b[0;31m \u001b[0;32mfrom\u001b[0m \u001b[0mselenium\u001b[0m \u001b[0;32mimport\u001b[0m \u001b[0mwebdriver\u001b[0m\u001b[0;34m\u001b[0m\u001b[0;34m\u001b[0m\u001b[0m\n\u001b[0m\u001b[1;32m      2\u001b[0m \u001b[0;32mfrom\u001b[0m \u001b[0mselenium\u001b[0m\u001b[0;34m.\u001b[0m\u001b[0mwebdriver\u001b[0m\u001b[0;34m.\u001b[0m\u001b[0mchrome\u001b[0m\u001b[0;34m.\u001b[0m\u001b[0mservice\u001b[0m \u001b[0;32mimport\u001b[0m \u001b[0mService\u001b[0m\u001b[0;34m\u001b[0m\u001b[0;34m\u001b[0m\u001b[0m\n\u001b[1;32m      3\u001b[0m \u001b[0;32mfrom\u001b[0m \u001b[0mbs4\u001b[0m \u001b[0;32mimport\u001b[0m \u001b[0mBeautifulSoup\u001b[0m\u001b[0;34m\u001b[0m\u001b[0;34m\u001b[0m\u001b[0m\n\u001b[1;32m      4\u001b[0m \u001b[0;34m\u001b[0m\u001b[0m\n\u001b[1;32m      5\u001b[0m \u001b[0;32mimport\u001b[0m \u001b[0mpandas\u001b[0m \u001b[0;32mas\u001b[0m \u001b[0mpd\u001b[0m\u001b[0;34m\u001b[0m\u001b[0;34m\u001b[0m\u001b[0m\n",
            "\u001b[0;31mModuleNotFoundError\u001b[0m: No module named 'selenium'",
            "",
            "\u001b[0;31m---------------------------------------------------------------------------\u001b[0;32m\nNOTE: If your import is failing due to a missing package, you can\nmanually install dependencies using either !pip or !apt.\n\nTo view examples of installing some common dependencies, click the\n\"Open Examples\" button below.\n\u001b[0;31m---------------------------------------------------------------------------\u001b[0m\n"
          ],
          "errorDetails": {
            "actions": [
              {
                "action": "open_url",
                "actionText": "Open Examples",
                "url": "/notebooks/snippets/importing_libraries.ipynb"
              }
            ]
          }
        }
      ]
    },
    {
      "cell_type": "code",
      "source": [
        "from selenium import webdriver\n",
        "from selenium.webdriver.chrome.service import Service\n",
        "from bs4 import BeautifulSoup\n",
        "\n",
        "import pandas as pd\n",
        "\n",
        "\n",
        "ser = Service('C:\\chromedriver/chromedriver.exe')\n",
        "driver = webdriver.Chrome('C:\\chromedriver/chromedriver.exe')\n",
        "\n",
        "url = ['https://www.genie.co.kr/chart/top200',\n",
        "       'https://www.genie.co.kr/chart/top200?ditc=D&ymd=20220215&hh=11&rtm=Y&pg=2',\n",
        "       'https://www.genie.co.kr/chart/top200?ditc=D&ymd=20220215&hh=11&rtm=Y&pg=3',\n",
        "       'https://www.genie.co.kr/chart/top200?ditc=D&ymd=20220215&hh=11&rtm=Y&pg=4'\n",
        "      ]\n",
        "full_song = []\n",
        "for i in url:\n",
        "    driver.get(i)\n",
        "\n",
        "    \n",
        "    html = driver.page_source\n",
        "    soup = BeautifulSoup(html,'html.parser')\n",
        "\n",
        "\n",
        "    songs = soup.select('tr.list')  \n",
        "    song=songs[0]\n",
        "    song_data = []\n",
        "    rank = 1\n",
        "\n",
        "    for song in songs:\n",
        "      singer = song.select('tr.list > td > a.artist.ellipsis')[0].text\n",
        "      title = song.select('tr.list> td > a.title.ellipsis')[0].text.strip()\n",
        "      mylist = [rank, title, singer]\n",
        "      song_data.append(mylist)\n",
        "\n",
        "    full_song.append(song_data)\n",
        "full_song"
      ],
      "metadata": {
        "id": "V5Stfs0bb-lp"
      },
      "execution_count": null,
      "outputs": []
    }
  ]
}