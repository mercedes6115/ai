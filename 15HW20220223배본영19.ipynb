{
  "nbformat": 4,
  "nbformat_minor": 0,
  "metadata": {
    "colab": {
      "name": "15HW20220223배본영19.ipynb",
      "provenance": [],
      "collapsed_sections": [],
      "authorship_tag": "ABX9TyPuOS3hUhcoHkONEchzSzu2",
      "include_colab_link": true
    },
    "kernelspec": {
      "name": "python3",
      "display_name": "Python 3"
    },
    "language_info": {
      "name": "python"
    }
  },
  "cells": [
    {
      "cell_type": "markdown",
      "metadata": {
        "id": "view-in-github",
        "colab_type": "text"
      },
      "source": [
        "<a href=\"https://colab.research.google.com/github/mercedes6115/ai/blob/main/15HW20220223%EB%B0%B0%EB%B3%B8%EC%98%8119.ipynb\" target=\"_parent\"><img src=\"https://colab.research.google.com/assets/colab-badge.svg\" alt=\"Open In Colab\"/></a>"
      ]
    },
    {
      "cell_type": "code",
      "execution_count": null,
      "metadata": {
        "id": "x4b0IQlao578"
      },
      "outputs": [],
      "source": [
        "# 19"
      ]
    },
    {
      "cell_type": "code",
      "source": [
        "# 배본영"
      ],
      "metadata": {
        "id": "KfTQGmYJuvRq"
      },
      "execution_count": null,
      "outputs": []
    },
    {
      "cell_type": "code",
      "source": [
        "# 3 \n",
        "def call(var1=20, var2=5,var3=2):\n",
        "  print((var1*var2)-var3,end='')\n",
        "call(var2=5,var3=3,var1=4)\n",
        "# a"
      ],
      "metadata": {
        "colab": {
          "base_uri": "https://localhost:8080/"
        },
        "id": "ojoxJO4OuwoQ",
        "outputId": "1b4e9461-10c0-48d7-b46f-97dcf2261889"
      },
      "execution_count": 1,
      "outputs": [
        {
          "output_type": "stream",
          "name": "stdout",
          "text": [
            "17"
          ]
        }
      ]
    },
    {
      "cell_type": "code",
      "source": [
        "# 4 \n",
        "myvar =5 \n",
        "def printvar():\n",
        "  print(myvar)\n",
        "print(type(printvar()))\n",
        "# d"
      ],
      "metadata": {
        "colab": {
          "base_uri": "https://localhost:8080/"
        },
        "id": "JG5RNZdLvL1V",
        "outputId": "0c8a4bf9-cb54-4267-ebed-39a7917ba043"
      },
      "execution_count": 3,
      "outputs": [
        {
          "output_type": "stream",
          "name": "stdout",
          "text": [
            "5\n",
            "<class 'NoneType'>\n"
          ]
        }
      ]
    },
    {
      "cell_type": "code",
      "source": [
        "# 5\n",
        "for i in range(0,5):\n",
        "  print(i,end='')\n",
        "  if i ==2:\n",
        "    continue\n",
        "# b"
      ],
      "metadata": {
        "colab": {
          "base_uri": "https://localhost:8080/"
        },
        "id": "BFHV1ks0vL5Q",
        "outputId": "2832a94d-7dd5-4468-dfdc-b887ebee3780"
      },
      "execution_count": 4,
      "outputs": [
        {
          "output_type": "stream",
          "name": "stdout",
          "text": [
            "01234"
          ]
        }
      ]
    },
    {
      "cell_type": "code",
      "source": [
        "# 6\n",
        "for i in range(1,5):\n",
        "  print(i,end='')\n",
        "  if i ==3:\n",
        "    break\n",
        "# a"
      ],
      "metadata": {
        "colab": {
          "base_uri": "https://localhost:8080/"
        },
        "id": "L3KHluYXvMAE",
        "outputId": "d0eeb251-224a-4389-84f3-96b031e2a0db"
      },
      "execution_count": 5,
      "outputs": [
        {
          "output_type": "stream",
          "name": "stdout",
          "text": [
            "123"
          ]
        }
      ]
    },
    {
      "cell_type": "code",
      "source": [
        "# 7\n",
        "x = {'x':1,'y':2,'z':3}\n",
        "for i in x:\n",
        "  print(i,end='')\n",
        "# a"
      ],
      "metadata": {
        "colab": {
          "base_uri": "https://localhost:8080/"
        },
        "id": "pBj2NyovvMDn",
        "outputId": "d9ac5e26-a465-4d8e-ba2e-f18f304b46f0"
      },
      "execution_count": 6,
      "outputs": [
        {
          "output_type": "stream",
          "name": "stdout",
          "text": [
            "xyz"
          ]
        }
      ]
    },
    {
      "cell_type": "code",
      "source": [
        "# 8 \n",
        "x=['P','y','t','h','o','n']\n",
        "for i in enumerate(x):\n",
        "  print(i,end='')\n",
        "# d"
      ],
      "metadata": {
        "colab": {
          "base_uri": "https://localhost:8080/"
        },
        "id": "cRm2bMylvMFv",
        "outputId": "50118659-6444-47e3-99db-9bdd9dee0304"
      },
      "execution_count": 7,
      "outputs": [
        {
          "output_type": "stream",
          "name": "stdout",
          "text": [
            "(0, 'P')(1, 'y')(2, 't')(3, 'h')(4, 'o')(5, 'n')"
          ]
        }
      ]
    },
    {
      "cell_type": "code",
      "source": [
        "#9\n",
        "for i in range(1,25,5):\n",
        "  print(i,end='')\n",
        "# a"
      ],
      "metadata": {
        "colab": {
          "base_uri": "https://localhost:8080/"
        },
        "id": "vMJpiKDuvMH2",
        "outputId": "6dc46d7c-8e0f-478c-a8ff-796a9fba8796"
      },
      "execution_count": 8,
      "outputs": [
        {
          "output_type": "stream",
          "name": "stdout",
          "text": [
            "16111621"
          ]
        }
      ]
    },
    {
      "cell_type": "code",
      "source": [
        "# 10\n",
        "x=1\n",
        "while x<5:\n",
        "  print(x,end='')\n",
        "# c"
      ],
      "metadata": {
        "id": "SEAuKnc8vMJn"
      },
      "execution_count": null,
      "outputs": []
    },
    {
      "cell_type": "code",
      "source": [
        "# 11\n",
        "x,y = 2,5\n",
        "while y-x<5:\n",
        "  print(x*y, end='')\n",
        "  x+=3\n",
        "  y+=4\n",
        "# a"
      ],
      "metadata": {
        "colab": {
          "base_uri": "https://localhost:8080/"
        },
        "id": "Xcbl2M72vMLf",
        "outputId": "93307ce8-9442-4c19-af46-a6c6efbd6e1e"
      },
      "execution_count": 10,
      "outputs": [
        {
          "output_type": "stream",
          "name": "stdout",
          "text": [
            "1045"
          ]
        }
      ]
    },
    {
      "cell_type": "code",
      "source": [
        "# 12 \n",
        "x=40\n",
        "y=25\n",
        "if x+y >=100:\n",
        "  print('true')\n",
        "elif x+y ==50:\n",
        "  print('not true')\n",
        "elif x+y <=90:\n",
        "  print('false')\n",
        "else:\n",
        "  print('not false')\n",
        "# b "
      ],
      "metadata": {
        "colab": {
          "base_uri": "https://localhost:8080/"
        },
        "id": "dRc49tO0vMNU",
        "outputId": "223b871b-8e49-4b42-b006-5e67c612d2a6"
      },
      "execution_count": 11,
      "outputs": [
        {
          "output_type": "stream",
          "name": "stdout",
          "text": [
            "false\n"
          ]
        }
      ]
    },
    {
      "cell_type": "code",
      "source": [
        "# 13\n",
        "def prime(number): # 소수를 구하는 함수 선언\n",
        "    if number == 1: # 1은 특수경우로 취급하여 바로 false\n",
        "        return False\n",
        "    else: # 그 외 숫자는 순서대로 소수인지 판별시작\n",
        "        for i in range(2, int(number ** 0.5) + 1): # 제곱근한 수 이하의 소수들의 배수들을 제거하고 남은 숫자들이 소수다 --> 에라토스테네스의 체 \n",
        "            if number % i == 0: # 약수가 있다 == 소수가 아니다 이런경우에 false\n",
        "                return False\n",
        "        return True # 그외에는 에라토스테네스의 체에 의해 소수로 판정\n",
        "\n",
        "prime_no= int(input('Input: ')) # 소수를 판별할 숫자를 입력받음\n",
        "print(f'Output: {prime(prime_no)}') #소수인지 출력으로 판별 "
      ],
      "metadata": {
        "id": "W8PJ4CHAvMRo"
      },
      "execution_count": null,
      "outputs": []
    }
  ]
}