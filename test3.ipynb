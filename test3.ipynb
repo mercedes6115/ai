{
  "nbformat": 4,
  "nbformat_minor": 0,
  "metadata": {
    "colab": {
      "name": "test3.ipynb",
      "provenance": [],
      "collapsed_sections": [],
      "authorship_tag": "ABX9TyOpm1wJivhlenv8AzcfHuPl",
      "include_colab_link": true
    },
    "kernelspec": {
      "name": "python3",
      "display_name": "Python 3"
    },
    "language_info": {
      "name": "python"
    }
  },
  "cells": [
    {
      "cell_type": "markdown",
      "metadata": {
        "id": "view-in-github",
        "colab_type": "text"
      },
      "source": [
        "<a href=\"https://colab.research.google.com/github/mercedes6115/ai/blob/main/test3.ipynb\" target=\"_parent\"><img src=\"https://colab.research.google.com/assets/colab-badge.svg\" alt=\"Open In Colab\"/></a>"
      ]
    },
    {
      "cell_type": "code",
      "execution_count": 8,
      "metadata": {
        "colab": {
          "base_uri": "https://localhost:8080/"
        },
        "id": "Ma8ED7mPeUkx",
        "outputId": "118ffffa-2ba2-4607-f8df-cd8a526aac6d"
      },
      "outputs": [
        {
          "output_type": "stream",
          "name": "stdout",
          "text": [
            "[0, 1, 1, 2, 3, 5, 8, 13, 21, 34, 55, 89]\n",
            "12개의 수가 정상적으로 저장되었습니다\n"
          ]
        }
      ],
      "source": [
        "def fib(n):\n",
        "  if n==1 or n==2:\n",
        "    return 1\n",
        "  elif n == 0 :\n",
        "    return 0\n",
        "  else:\n",
        "    return fib(n-1)+ fib(n-2)\n",
        "\n",
        "i=0 # 100이하의 피보나치 수를 찾기위한 인덱스\n",
        "fibo_list=[] # 저장할 리스트 \n",
        "while fib(i) <= 100: # 조건 100 이하일 동안은\n",
        "  fibo_list.append(fib(i)) # 리스트에 피보나치 수를 하나씩 증가 \n",
        "  i+=1 # 인덱스 하나씩 증가 \n",
        "print(fibo_list) # 결과 100이하인 피보나치 수를 저장한 리스트를 출력\n",
        "print(f'{len(fibo_list)}개의 수가 정상적으로 저장되었습니다') # 리스트 안에 몇개가 저장되었는지 확인하기 위한 출력문"
      ]
    }
  ]
}