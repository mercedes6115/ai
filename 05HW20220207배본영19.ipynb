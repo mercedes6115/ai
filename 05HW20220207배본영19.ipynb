{
  "nbformat": 4,
  "nbformat_minor": 0,
  "metadata": {
    "colab": {
      "name": "05HW20220207배본영19.ipynb",
      "provenance": [],
      "collapsed_sections": [],
      "authorship_tag": "ABX9TyPplSEgOv9ilsXHXQDKPs+D",
      "include_colab_link": true
    },
    "kernelspec": {
      "name": "python3",
      "display_name": "Python 3"
    },
    "language_info": {
      "name": "python"
    }
  },
  "cells": [
    {
      "cell_type": "markdown",
      "metadata": {
        "id": "view-in-github",
        "colab_type": "text"
      },
      "source": [
        "<a href=\"https://colab.research.google.com/github/mercedes6115/ai/blob/main/05HW20220207%EB%B0%B0%EB%B3%B8%EC%98%8119.ipynb\" target=\"_parent\"><img src=\"https://colab.research.google.com/assets/colab-badge.svg\" alt=\"Open In Colab\"/></a>"
      ]
    },
    {
      "cell_type": "code",
      "execution_count": 2,
      "metadata": {
        "colab": {
          "base_uri": "https://localhost:8080/"
        },
        "id": "z6cdVLKJNZGe",
        "outputId": "f951abc1-c34b-4e63-ac4b-b2b9eeb65c77"
      },
      "outputs": [
        {
          "output_type": "stream",
          "name": "stdout",
          "text": [
            "안녕\n"
          ]
        }
      ],
      "source": [
        "#211\n",
        "def printing(strings):\n",
        "  print(strings)\n",
        "\n",
        "printing(\"안녕\")\n",
        "\n",
        "#입력한 문자열이 출력됩니다\n"
      ]
    },
    {
      "cell_type": "code",
      "source": [
        "#212\n",
        "\n",
        "#두 수의 합이 출력됩니다"
      ],
      "metadata": {
        "id": "hW5DoLVZN2ya"
      },
      "execution_count": null,
      "outputs": []
    },
    {
      "cell_type": "code",
      "source": [
        "#213\n",
        "\n",
        "#매개변수에 전달인자값을 안줬기 때문입니다 "
      ],
      "metadata": {
        "id": "J8mTaz3XN9tp"
      },
      "execution_count": null,
      "outputs": []
    },
    {
      "cell_type": "code",
      "source": [
        "#214\n",
        "#자료형이 다른 두 data를 더할 수 없기 때문이다"
      ],
      "metadata": {
        "id": "rjYctrSGOE3R"
      },
      "execution_count": null,
      "outputs": []
    },
    {
      "cell_type": "code",
      "source": [
        "def print_with_smile(a):\n",
        "  print(f'{a}:D')\n",
        "\n",
        "print_with_smile('B')"
      ],
      "metadata": {
        "colab": {
          "base_uri": "https://localhost:8080/"
        },
        "id": "vaXlZrOjOOu8",
        "outputId": "6bf9898a-bfd1-48cc-f28a-3d8d52104fb1"
      },
      "execution_count": 3,
      "outputs": [
        {
          "output_type": "stream",
          "name": "stdout",
          "text": [
            "B:D\n"
          ]
        }
      ]
    },
    {
      "cell_type": "code",
      "source": [
        "def print_with_smile(a):\n",
        "  print(f'{a}:D')\n",
        "print_with_smile('안녕하세요')"
      ],
      "metadata": {
        "colab": {
          "base_uri": "https://localhost:8080/"
        },
        "id": "tDOl0cK9OhUp",
        "outputId": "29397492-ea83-444f-ef78-4b28598cbac9"
      },
      "execution_count": 5,
      "outputs": [
        {
          "output_type": "stream",
          "name": "stdout",
          "text": [
            "안녕하세요:D\n"
          ]
        }
      ]
    },
    {
      "cell_type": "code",
      "source": [
        "def  print_upper_price(price):\n",
        "  print(int(price * 1.3))\n",
        "\n",
        "print_upper_price(1000)"
      ],
      "metadata": {
        "colab": {
          "base_uri": "https://localhost:8080/"
        },
        "id": "13mu7eDnOoUC",
        "outputId": "5c31e233-2ca8-48a1-a909-03c9a7594ab7"
      },
      "execution_count": 7,
      "outputs": [
        {
          "output_type": "stream",
          "name": "stdout",
          "text": [
            "1300\n"
          ]
        }
      ]
    },
    {
      "cell_type": "code",
      "source": [
        "def print_arithmetic_operation(a,b):\n",
        "  print(f'{a} + {b} = {a+b}')\n",
        "  print(f'{a} - {b} = {a-b}')\n",
        "  print(f'{a} * {b} = {a*b}')\n",
        "  print(f'{a} / {b} = {a/b}')\n",
        "print_arithmetic_operation(3,4)"
      ],
      "metadata": {
        "colab": {
          "base_uri": "https://localhost:8080/"
        },
        "id": "iPpZey5WO1Tq",
        "outputId": "87528629-018e-409e-c3b8-8cdb5f179086"
      },
      "execution_count": 9,
      "outputs": [
        {
          "output_type": "stream",
          "name": "stdout",
          "text": [
            "3 + 4 = 7\n",
            "3 - 4 = -1\n",
            "3 * 4 = 12\n",
            "3 / 4 = 0.75\n"
          ]
        }
      ]
    },
    {
      "cell_type": "code",
      "source": [
        "def print_max(a,b,c):\n",
        "  max=0\n",
        "  if a>b and a>c:\n",
        "    max=a\n",
        "  elif b>c:\n",
        "    max=b\n",
        "  else:\n",
        "    max=c\n",
        "  print(max)\n",
        "\n",
        "print_max(1,5,6)\n",
        "\n"
      ],
      "metadata": {
        "colab": {
          "base_uri": "https://localhost:8080/"
        },
        "id": "zTpNU2jsPPGv",
        "outputId": "f9996483-a99a-4e61-a9b2-4354d3435550"
      },
      "execution_count": 11,
      "outputs": [
        {
          "output_type": "stream",
          "name": "stdout",
          "text": [
            "6\n"
          ]
        }
      ]
    },
    {
      "cell_type": "code",
      "source": [
        "def print_reverse(a):\n",
        "  b = a[::-1]\n",
        "  print(b)\n",
        "\n",
        "print_reverse('abcde')\n"
      ],
      "metadata": {
        "colab": {
          "base_uri": "https://localhost:8080/"
        },
        "id": "B0ldbe-9QUmr",
        "outputId": "8f98626d-ca99-4235-986a-1048aed22748"
      },
      "execution_count": 16,
      "outputs": [
        {
          "output_type": "stream",
          "name": "stdout",
          "text": [
            "edcba\n"
          ]
        }
      ]
    },
    {
      "cell_type": "code",
      "source": [
        "def print_score(a):\n",
        "  print(sum(a,0)/len(a))\n",
        "\n",
        "\n",
        "print_score([1,2,3])"
      ],
      "metadata": {
        "colab": {
          "base_uri": "https://localhost:8080/"
        },
        "id": "OFku19W4Rtra",
        "outputId": "16098aea-7af0-496e-c69c-7c752163c6fb"
      },
      "execution_count": 18,
      "outputs": [
        {
          "output_type": "stream",
          "name": "stdout",
          "text": [
            "2.0\n"
          ]
        }
      ]
    },
    {
      "cell_type": "code",
      "source": [
        "def print_even(a):\n",
        "  for i in a:\n",
        "    if i%2 == 0:\n",
        "      print(i)\n",
        "\n",
        "print_even([1,3,2,10,12,11,15])"
      ],
      "metadata": {
        "colab": {
          "base_uri": "https://localhost:8080/"
        },
        "id": "a6czoWLRSD4f",
        "outputId": "72f28c06-7452-4ef3-e4a7-f007ddcad67b"
      },
      "execution_count": 21,
      "outputs": [
        {
          "output_type": "stream",
          "name": "stdout",
          "text": [
            "2\n",
            "10\n",
            "12\n"
          ]
        }
      ]
    },
    {
      "cell_type": "code",
      "source": [
        "def print_keys(a):\n",
        "  for key,val in a.items():\n",
        "    print(key)\n",
        "\n",
        "print_keys({\"이름\":\"김말똥\", \"나이\":30, \"성별\":0})"
      ],
      "metadata": {
        "colab": {
          "base_uri": "https://localhost:8080/"
        },
        "id": "XdrvqsJ0SlGH",
        "outputId": "e49d99a8-f606-49ea-d1a7-ad4dc160f15f"
      },
      "execution_count": 22,
      "outputs": [
        {
          "output_type": "stream",
          "name": "stdout",
          "text": [
            "이름\n",
            "나이\n",
            "성별\n"
          ]
        }
      ]
    },
    {
      "cell_type": "code",
      "source": [
        "my_dict = {\"10/26\" : [100, 130, 100, 100],\n",
        "           \"10/27\" : [10, 12, 10, 11]}\n",
        "\n",
        "def print_value_by_key (my_dict,key):\n",
        "  for keys,val in my_dict.items():\n",
        "    if keys == key:\n",
        "      print(val)\n",
        "print_value_by_key (my_dict, \"10/26\")"
      ],
      "metadata": {
        "colab": {
          "base_uri": "https://localhost:8080/"
        },
        "id": "C2EJjIzZS5wX",
        "outputId": "05f5b8f7-5b2c-41f9-c9b6-297edffb7a43"
      },
      "execution_count": 23,
      "outputs": [
        {
          "output_type": "stream",
          "name": "stdout",
          "text": [
            "[100, 130, 100, 100]\n"
          ]
        }
      ]
    },
    {
      "cell_type": "code",
      "source": [
        "def print_5xn(string):\n",
        "  a=1\n",
        "  for i in range(0,len(string),5):\n",
        "    print(string[i:i+5])\n",
        "    print(\"\\n\")\n",
        "\n",
        "\n",
        "print_5xn(\"아이엠어보이유알어걸\")\n",
        "      \n",
        "\n"
      ],
      "metadata": {
        "colab": {
          "base_uri": "https://localhost:8080/"
        },
        "id": "_3aCzighThhk",
        "outputId": "802b7d26-ee11-4b07-9ebc-30967e4f9257"
      },
      "execution_count": 27,
      "outputs": [
        {
          "output_type": "stream",
          "name": "stdout",
          "text": [
            "아이엠어보\n",
            "\n",
            "\n",
            "이유알어걸\n",
            "\n",
            "\n"
          ]
        }
      ]
    },
    {
      "cell_type": "code",
      "source": [
        "def print_mxn(string,m):\n",
        "  a=1\n",
        "  for i in range(0,len(string),m):\n",
        "    print(string[i:i+3])\n",
        "    print(\"\\n\")\n",
        "\n",
        "print_mxn(\"아이엠어보이유알어걸\", 3)"
      ],
      "metadata": {
        "colab": {
          "base_uri": "https://localhost:8080/"
        },
        "id": "8QSfXla2VKCb",
        "outputId": "783c94db-5c2e-42fa-8f71-f6b0ae35014a"
      },
      "execution_count": 29,
      "outputs": [
        {
          "output_type": "stream",
          "name": "stdout",
          "text": [
            "아이엠\n",
            "\n",
            "\n",
            "어보이\n",
            "\n",
            "\n",
            "유알어\n",
            "\n",
            "\n",
            "걸\n",
            "\n",
            "\n"
          ]
        }
      ]
    },
    {
      "cell_type": "code",
      "source": [
        "def calc_monthly_salary(annual_salary):\n",
        "  print(annual_salary//12)\n",
        "\n",
        "calc_monthly_salary(12000000)\n"
      ],
      "metadata": {
        "colab": {
          "base_uri": "https://localhost:8080/"
        },
        "id": "6fji7pVnVVCA",
        "outputId": "0ad21b23-766b-47a5-b411-e095d42c73f9"
      },
      "execution_count": 30,
      "outputs": [
        {
          "output_type": "stream",
          "name": "stdout",
          "text": [
            "1000000\n"
          ]
        }
      ]
    },
    {
      "cell_type": "code",
      "source": [
        "def my_print (a, b) :\n",
        " print(\"왼쪽:\", a)\n",
        " print(\"오른쪽:\", b)\n",
        "\n",
        "my_print(a=100, b=200)"
      ],
      "metadata": {
        "colab": {
          "base_uri": "https://localhost:8080/"
        },
        "id": "b86KB64CVkgZ",
        "outputId": "f68ad301-1927-4c97-b367-31151a53b35c"
      },
      "execution_count": 31,
      "outputs": [
        {
          "output_type": "stream",
          "name": "stdout",
          "text": [
            "왼쪽: 100\n",
            "오른쪽: 200\n"
          ]
        }
      ]
    },
    {
      "cell_type": "code",
      "source": [
        "def my_print (a, b) :\n",
        " print(\"왼쪽:\", a)\n",
        " print(\"오른쪽:\", b)\n",
        "\n",
        "my_print(b=100, a=200) #순서가달라도 지정해준 값을 따라간다"
      ],
      "metadata": {
        "colab": {
          "base_uri": "https://localhost:8080/"
        },
        "id": "GW84fcmxVt6s",
        "outputId": "731bfbe6-3877-4bf1-f10b-02b19d6542d8"
      },
      "execution_count": 32,
      "outputs": [
        {
          "output_type": "stream",
          "name": "stdout",
          "text": [
            "왼쪽: 200\n",
            "오른쪽: 100\n"
          ]
        }
      ]
    }
  ]
}