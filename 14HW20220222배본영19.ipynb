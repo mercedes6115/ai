{
  "nbformat": 4,
  "nbformat_minor": 0,
  "metadata": {
    "colab": {
      "name": "14HW20220222배본영19.ipynb",
      "provenance": [],
      "collapsed_sections": [],
      "authorship_tag": "ABX9TyMQuMWIcpP81n2+FmeQtWlj",
      "include_colab_link": true
    },
    "kernelspec": {
      "name": "python3",
      "display_name": "Python 3"
    },
    "language_info": {
      "name": "python"
    }
  },
  "cells": [
    {
      "cell_type": "markdown",
      "metadata": {
        "id": "view-in-github",
        "colab_type": "text"
      },
      "source": [
        "<a href=\"https://colab.research.google.com/github/mercedes6115/ai/blob/main/14HW20220222%EB%B0%B0%EB%B3%B8%EC%98%8119.ipynb\" target=\"_parent\"><img src=\"https://colab.research.google.com/assets/colab-badge.svg\" alt=\"Open In Colab\"/></a>"
      ]
    },
    {
      "cell_type": "code",
      "execution_count": null,
      "metadata": {
        "id": "C1mqBXocc6z6"
      },
      "outputs": [],
      "source": [
        "# 2\n",
        "# d 주석처리 "
      ]
    },
    {
      "cell_type": "code",
      "source": [
        "# 3\n",
        "# d"
      ],
      "metadata": {
        "id": "AA2su6fBeIdf"
      },
      "execution_count": null,
      "outputs": []
    },
    {
      "cell_type": "code",
      "source": [
        "# 4\n",
        "x=3\n",
        "y=7\n",
        "print(x==y)\n",
        "# b"
      ],
      "metadata": {
        "colab": {
          "base_uri": "https://localhost:8080/"
        },
        "id": "hlEAozVxdt4-",
        "outputId": "958fabd4-0338-4e88-dc9d-a944adf5bdc2"
      },
      "execution_count": 1,
      "outputs": [
        {
          "output_type": "stream",
          "name": "stdout",
          "text": [
            "False\n"
          ]
        }
      ]
    },
    {
      "cell_type": "code",
      "source": [
        "# 5\n",
        "x= '24'+'16'\n",
        "print(x)\n",
        "# b"
      ],
      "metadata": {
        "id": "8qGV3h0desVi"
      },
      "execution_count": null,
      "outputs": []
    },
    {
      "cell_type": "code",
      "source": [
        "# 6\n",
        "x= input('num:')\n",
        "y = int(x)\n",
        "print(type(y))\n",
        "# a"
      ],
      "metadata": {
        "colab": {
          "base_uri": "https://localhost:8080/"
        },
        "id": "hZlldynOesfQ",
        "outputId": "4332139a-4935-4a44-97e3-7a68b25b023d"
      },
      "execution_count": 3,
      "outputs": [
        {
          "output_type": "stream",
          "name": "stdout",
          "text": [
            "num:50\n",
            "<class 'int'>\n"
          ]
        }
      ]
    },
    {
      "cell_type": "code",
      "source": [
        "# 7\n",
        "x,y,z = 3,4,5\n",
        "print(x)\n",
        "print(y)\n",
        "print(z)\n",
        "# c"
      ],
      "metadata": {
        "colab": {
          "base_uri": "https://localhost:8080/"
        },
        "id": "SrCxdPxwejgL",
        "outputId": "18abeb35-4258-41bf-c78a-2867f670b9f5"
      },
      "execution_count": 4,
      "outputs": [
        {
          "output_type": "stream",
          "name": "stdout",
          "text": [
            "3\n",
            "4\n",
            "5\n"
          ]
        }
      ]
    },
    {
      "cell_type": "code",
      "source": [
        "# 8\n",
        "x=[5,4,3,2]\n",
        "x.append(1)\n",
        "print(x)\n",
        "# b"
      ],
      "metadata": {
        "colab": {
          "base_uri": "https://localhost:8080/"
        },
        "id": "pMqvk7vyfJJN",
        "outputId": "9c1ad54a-b39c-41ec-9709-9f99b986cbbd"
      },
      "execution_count": 5,
      "outputs": [
        {
          "output_type": "stream",
          "name": "stdout",
          "text": [
            "[5, 4, 3, 2, 1]\n"
          ]
        }
      ]
    },
    {
      "cell_type": "code",
      "source": [
        "# 9\n",
        "x = [5,3,6,2,4,0,7]\n",
        "del x [:]\n",
        "print(x)\n",
        "# a"
      ],
      "metadata": {
        "colab": {
          "base_uri": "https://localhost:8080/"
        },
        "id": "Ck1gmEBefJPQ",
        "outputId": "9b4c7de9-aaa4-499e-f918-7c117ca2e236"
      },
      "execution_count": 6,
      "outputs": [
        {
          "output_type": "stream",
          "name": "stdout",
          "text": [
            "[]\n"
          ]
        }
      ]
    },
    {
      "cell_type": "code",
      "source": [
        "# 10\n",
        "x = False\n",
        "print(type(x))\n",
        "# d"
      ],
      "metadata": {
        "colab": {
          "base_uri": "https://localhost:8080/"
        },
        "id": "l4-L1wLbgZ8H",
        "outputId": "84a92938-78c0-4365-f069-d615f1ea2355"
      },
      "execution_count": 8,
      "outputs": [
        {
          "output_type": "stream",
          "name": "stdout",
          "text": [
            "<class 'bool'>\n"
          ]
        }
      ]
    },
    {
      "cell_type": "code",
      "source": [
        "# 11\n",
        "false = \"This is not true\"\n",
        "x = false\n",
        "print(type(x))\n",
        "# b"
      ],
      "metadata": {
        "colab": {
          "base_uri": "https://localhost:8080/"
        },
        "id": "_qbR9Q3fgxEe",
        "outputId": "bbb512e7-d298-4a5d-ccdd-e67d54b2a614"
      },
      "execution_count": 10,
      "outputs": [
        {
          "output_type": "stream",
          "name": "stdout",
          "text": [
            "<class 'str'>\n"
          ]
        }
      ]
    },
    {
      "cell_type": "code",
      "source": [
        "# 12 \n",
        "sum = 0\n",
        "sum1 = 0\n",
        "for i in range(0,1000,3):\n",
        "  sum += i\n",
        "for i in range(0,1000,5):\n",
        "  sum1 += i\n",
        "\n",
        "print(sum1+sum)"
      ],
      "metadata": {
        "colab": {
          "base_uri": "https://localhost:8080/"
        },
        "id": "mkpWIiddhKKJ",
        "outputId": "bf0729f8-0855-47da-aaf7-164c5577c281"
      },
      "execution_count": 16,
      "outputs": [
        {
          "output_type": "stream",
          "name": "stdout",
          "text": [
            "266333\n"
          ]
        }
      ]
    }
  ]
}