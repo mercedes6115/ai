{
  "nbformat": 4,
  "nbformat_minor": 0,
  "metadata": {
    "colab": {
      "name": "02HW20220126배본영19.ipynb",
      "provenance": [],
      "collapsed_sections": [],
      "authorship_tag": "ABX9TyMGQWe56VEsLFzq6WC1GGqm",
      "include_colab_link": true
    },
    "kernelspec": {
      "name": "python3",
      "display_name": "Python 3"
    },
    "language_info": {
      "name": "python"
    }
  },
  "cells": [
    {
      "cell_type": "markdown",
      "metadata": {
        "id": "view-in-github",
        "colab_type": "text"
      },
      "source": [
        "<a href=\"https://colab.research.google.com/github/mercedes6115/ai/blob/main/02HW20220126%EB%B0%B0%EB%B3%B8%EC%98%8119.ipynb\" target=\"_parent\"><img src=\"https://colab.research.google.com/assets/colab-badge.svg\" alt=\"Open In Colab\"/></a>"
      ]
    },
    {
      "cell_type": "code",
      "execution_count": null,
      "metadata": {
        "id": "5q-FBvvbahgT"
      },
      "outputs": [],
      "source": [
        "#051\n",
        "\n",
        "movie_rank=['닥터 스트레인지','스플릿','럭키']\n",
        "print(movie_rank)"
      ]
    },
    {
      "cell_type": "code",
      "source": [
        "movie_rank=['닥터 스트레인지','스플릿','럭키']\n",
        "movie_rank.append('배트맨')\n",
        "print(movie_rank)"
      ],
      "metadata": {
        "colab": {
          "base_uri": "https://localhost:8080/"
        },
        "id": "3Qy-Vuoua0Qt",
        "outputId": "8bb50f1b-397e-45b9-b32b-a277dde0c8e0"
      },
      "execution_count": 1,
      "outputs": [
        {
          "output_type": "stream",
          "name": "stdout",
          "text": [
            "['닥터 스트레인지', '스플릿', '럭키', '배트맨']\n"
          ]
        }
      ]
    },
    {
      "cell_type": "code",
      "source": [
        "movie_rank=['닥터 스트레인지','스플릿','럭키','배트맨']\n",
        "movie_rank.insert(1,'슈퍼맨')\n",
        "print(movie_rank)\n"
      ],
      "metadata": {
        "colab": {
          "base_uri": "https://localhost:8080/"
        },
        "id": "Ri1YcYk2bApK",
        "outputId": "8c20fd9b-5ba7-4246-edc4-ebe0a9cf071a"
      },
      "execution_count": 3,
      "outputs": [
        {
          "output_type": "stream",
          "name": "stdout",
          "text": [
            "['닥터 스트레인지', '슈퍼맨', '스플릿', '럭키', '배트맨']\n"
          ]
        }
      ]
    },
    {
      "cell_type": "code",
      "source": [
        "movie_rank = ['닥터 스트레인지', '슈퍼맨', '스플릿', '럭키', '배트맨']\n",
        "movie_rank.remove('럭키')\n",
        "print(movie_rank)"
      ],
      "metadata": {
        "colab": {
          "base_uri": "https://localhost:8080/"
        },
        "id": "q53jfICfbmZs",
        "outputId": "20c0ffaf-e843-42da-ea71-d968c7fc39ab"
      },
      "execution_count": 4,
      "outputs": [
        {
          "output_type": "stream",
          "name": "stdout",
          "text": [
            "['닥터 스트레인지', '슈퍼맨', '스플릿', '배트맨']\n"
          ]
        }
      ]
    },
    {
      "cell_type": "code",
      "source": [
        "movie_rank = ['닥터 스트레인지', '슈퍼맨', '스플릿', '배트맨']\n",
        "movie_rank.pop()\n",
        "movie_rank.pop()\n",
        "print(movie_rank)"
      ],
      "metadata": {
        "colab": {
          "base_uri": "https://localhost:8080/"
        },
        "id": "VZAqcfeibzlN",
        "outputId": "61971496-d016-4fc1-ba6f-389b59a7ef9e"
      },
      "execution_count": 5,
      "outputs": [
        {
          "output_type": "stream",
          "name": "stdout",
          "text": [
            "['닥터 스트레인지', '슈퍼맨']\n"
          ]
        }
      ]
    },
    {
      "cell_type": "code",
      "source": [
        "lang1 = [\"C\", \"C++\", \"JAVA\"]\n",
        "lang2 = [\"Python\", \"Go\", \"C#\"]\n",
        "\n",
        "langs=lang1+lang2\n",
        "\n",
        "print(langs)\n"
      ],
      "metadata": {
        "colab": {
          "base_uri": "https://localhost:8080/"
        },
        "id": "IUD_ojGdb9R4",
        "outputId": "7086329b-0136-40eb-f850-6673a46bbfd9"
      },
      "execution_count": 8,
      "outputs": [
        {
          "output_type": "stream",
          "name": "stdout",
          "text": [
            "['C', 'C++', 'JAVA', 'Python', 'Go', 'C#']\n"
          ]
        }
      ]
    },
    {
      "cell_type": "code",
      "source": [
        "nums = [1, 2, 3, 4, 5, 6, 7]\n",
        "\n",
        "print(f'max: {max(nums)}')\n",
        "print(f'min: {min(nums)}')"
      ],
      "metadata": {
        "colab": {
          "base_uri": "https://localhost:8080/"
        },
        "id": "m-kMMg-vcAG5",
        "outputId": "13fe3add-1849-4217-f3c0-e8a05176f047"
      },
      "execution_count": 9,
      "outputs": [
        {
          "output_type": "stream",
          "name": "stdout",
          "text": [
            "max: 7\n",
            "min: 1\n"
          ]
        }
      ]
    },
    {
      "cell_type": "code",
      "source": [
        "nums = [1, 2, 3, 4, 5]\n",
        "print(f'{nums[-1]*(nums[-1]+1)//2}')"
      ],
      "metadata": {
        "colab": {
          "base_uri": "https://localhost:8080/"
        },
        "id": "FzwLcu8RcZVV",
        "outputId": "2ece8baa-7b23-48a8-f10e-33ccf79645fa"
      },
      "execution_count": 11,
      "outputs": [
        {
          "output_type": "stream",
          "name": "stdout",
          "text": [
            "15\n"
          ]
        }
      ]
    },
    {
      "cell_type": "code",
      "source": [
        "cook = [\"피자\", \"김밥\", \"만두\", \"양념치킨\", \"족발\", \"피자\", \"김치만두\", \n",
        "\"쫄면\", \"쏘세지\", \"라면\", \"팥빙수\", \"김치전\"]\n",
        "\n",
        "print(len(cook))"
      ],
      "metadata": {
        "colab": {
          "base_uri": "https://localhost:8080/"
        },
        "id": "rVc6CpHIdQfg",
        "outputId": "7d9ce693-8cac-4b17-91d4-db9069e106ea"
      },
      "execution_count": 12,
      "outputs": [
        {
          "output_type": "stream",
          "name": "stdout",
          "text": [
            "12\n"
          ]
        }
      ]
    },
    {
      "cell_type": "code",
      "source": [
        "nums = [1, 2, 3, 4, 5]\n",
        "total=sum(nums)\n",
        "\n",
        "print(f'{total/len(nums)}')"
      ],
      "metadata": {
        "colab": {
          "base_uri": "https://localhost:8080/"
        },
        "id": "0N_oqIfLdUwY",
        "outputId": "06b15ea8-ddfc-407d-93cf-8125a574a9cb"
      },
      "execution_count": 13,
      "outputs": [
        {
          "output_type": "stream",
          "name": "stdout",
          "text": [
            "3.0\n"
          ]
        }
      ]
    },
    {
      "cell_type": "code",
      "source": [
        "a=input('>>')\n",
        "if a.islower()==True:\n",
        "  print(a.upper())\n",
        "else:\n",
        "  print(a.lower())"
      ],
      "metadata": {
        "colab": {
          "base_uri": "https://localhost:8080/"
        },
        "id": "m-UTxsFkdm-k",
        "outputId": "bcc111f1-2c91-4820-c83a-2cb129feb209"
      },
      "execution_count": 19,
      "outputs": [
        {
          "output_type": "stream",
          "name": "stdout",
          "text": [
            ">>A\n",
            "a\n"
          ]
        }
      ]
    },
    {
      "cell_type": "code",
      "source": [
        "a=int(input('>> score:'))\n",
        "ch=''\n",
        "\n",
        "if 100>= a >80:\n",
        "  ch='A'\n",
        "elif 80>= a >60:\n",
        "  ch='B'\n",
        "elif 60>= a >40:\n",
        "  ch='C'\n",
        "elif 40>= a >20:\n",
        "  ch='D'\n",
        "elif 20>= a >=0:\n",
        "  ch='E'\n",
        "print(f'grade is {ch}')"
      ],
      "metadata": {
        "colab": {
          "base_uri": "https://localhost:8080/"
        },
        "id": "1bl6lhcreHvg",
        "outputId": "ecfa8a4b-1956-4b87-af33-2f14d980d287"
      },
      "execution_count": 21,
      "outputs": [
        {
          "output_type": "stream",
          "name": "stdout",
          "text": [
            ">> score:19\n",
            "grade is E\n"
          ]
        }
      ]
    },
    {
      "cell_type": "code",
      "source": [
        "a,b=input('입력:').split()\n",
        "a=float(a)\n",
        "if b =='달러':\n",
        "  exchange= 1167*a\n",
        "elif b =='엔':\n",
        "  exchange= 1.096*a\n",
        "elif b =='유로':\n",
        "  exchange= 1268*a\n",
        "elif b =='위안':\n",
        "  exchange= 171*a\n",
        "\n",
        "print(f'{exchange}')\n"
      ],
      "metadata": {
        "colab": {
          "base_uri": "https://localhost:8080/"
        },
        "id": "y9nhseBTesdI",
        "outputId": "417335dd-50c1-4667-f04f-5a3530b41eaa"
      },
      "execution_count": 25,
      "outputs": [
        {
          "output_type": "stream",
          "name": "stdout",
          "text": [
            "입력:100 달러\n",
            "116700.0\n"
          ]
        }
      ]
    },
    {
      "cell_type": "code",
      "source": [
        "list1=[]\n",
        "num1=int(input('input number1:'))\n",
        "list1.append(num1)\n",
        "num2=int(input('input number2:'))\n",
        "list1.append(num1)\n",
        "num3=int(input('input number3:'))\n",
        "list1.append(num1)\n",
        "\n",
        "print(max(list1))\n"
      ],
      "metadata": {
        "colab": {
          "base_uri": "https://localhost:8080/"
        },
        "id": "3iYQsnt0fZZn",
        "outputId": "671530f8-2a1f-48da-e50e-12e5de53f033"
      },
      "execution_count": 26,
      "outputs": [
        {
          "output_type": "stream",
          "name": "stdout",
          "text": [
            "input number1:100\n",
            "input number2:20\n",
            "input number3:32\n",
            "100\n"
          ]
        }
      ]
    },
    {
      "cell_type": "code",
      "source": [
        "number=input('휴대전화 번호 입력: ')\n",
        "\n",
        "if number[0:3]=='011':\n",
        "  service='SKT'\n",
        "elif number[0:3]=='016':\n",
        "  service='KT'\n",
        "elif number[0:3]=='019':\n",
        "  service='LGU'\n",
        "elif number[0:3]=='010':\n",
        "  service='알수없음'\n",
        "print(f'당신은 {service} 사용자입니다')"
      ],
      "metadata": {
        "colab": {
          "base_uri": "https://localhost:8080/"
        },
        "id": "7ws6f5ujfspn",
        "outputId": "0534c404-cbb8-425f-ad0f-adbc19673250"
      },
      "execution_count": 28,
      "outputs": [
        {
          "output_type": "stream",
          "name": "stdout",
          "text": [
            "휴대전화 번호 입력: 016-548-5548\n",
            "당신은 KT 사용자입니다\n"
          ]
        }
      ]
    },
    {
      "cell_type": "code",
      "source": [
        "a=input('>> 우편번호: ')\n",
        "b=int(a[2])\n",
        "if 0<= b<3:\n",
        "  loc='강북구'\n",
        "elif 3<= b<6:\n",
        "  loc='도봉구'\n",
        "elif 6<= b<10:\n",
        "  loc='노원구'\n",
        "\n",
        "print(f'{loc}')"
      ],
      "metadata": {
        "colab": {
          "base_uri": "https://localhost:8080/"
        },
        "id": "cGBOt1GngViJ",
        "outputId": "95e9b879-f329-4ab2-fb82-d4150d1a80c6"
      },
      "execution_count": 79,
      "outputs": [
        {
          "output_type": "stream",
          "name": "stdout",
          "text": [
            ">> 우편번호: 01923\n",
            "노원구\n"
          ]
        }
      ]
    },
    {
      "cell_type": "code",
      "source": [
        "a=input('>> 주민등록번호: ')\n",
        "b=int(a[7])\n",
        "if b == 1:\n",
        "  gender='남자'\n",
        "elif b!=1:\n",
        "  gender='여자'\n",
        "\n",
        "print(gender)"
      ],
      "metadata": {
        "colab": {
          "base_uri": "https://localhost:8080/"
        },
        "id": "gZFY_pKXhEyq",
        "outputId": "60446408-115f-4323-fafd-9860b424946a"
      },
      "execution_count": 32,
      "outputs": [
        {
          "output_type": "stream",
          "name": "stdout",
          "text": [
            ">> 주민등록번호: 965589-25659878\n",
            "여자\n"
          ]
        }
      ]
    },
    {
      "cell_type": "code",
      "source": [
        "a=input('>> 주민등록번호: ')\n",
        "b=int(a[8:10])\n",
        "\n",
        "if 0<= b <=8:\n",
        "  place='서울 입니다.'\n",
        "else: \n",
        "  place='서울이 아닙니다'\n",
        "print(place)\n",
        "\n"
      ],
      "metadata": {
        "colab": {
          "base_uri": "https://localhost:8080/"
        },
        "id": "q7fRIE6shi9j",
        "outputId": "e8e78455-8ca4-4c48-8dee-c5827cf20b14"
      },
      "execution_count": 39,
      "outputs": [
        {
          "output_type": "stream",
          "name": "stdout",
          "text": [
            ">> 주민등록번호: 960509-166521\n",
            "서울이 아닙니다\n"
          ]
        }
      ]
    },
    {
      "cell_type": "code",
      "source": [
        "a=list(input('>> 주민등록번호: '))\n",
        "a.remove('-')\n",
        "\n",
        "first=(int(a[0])*2 + int(a[1])*3 + int(a[2])*4 + int(a[3])*5 + int(a[4])*6 + int(a[5])*7 + int(a[6])*8 + int(a[7])*9 + int(a[8])*2 + int(a[9])*3 + int(a[10])*4 + int(a[11])*5)\n",
        "\n",
        "first = first % 11\n",
        "\n",
        "second=11-first\n",
        "\n",
        "if second > 10:\n",
        "  second = 1\n",
        "  if second == int(a[-1]):\n",
        "    print(\"유효한 주민등록번호입니다.\")\n",
        "  elif second != int(a[-1]):\n",
        "    print(\"유효하지 않은 주민등록번호입니다.\")\n",
        "elif second ==10:\n",
        "  second=0\n",
        "  if second == int(a[-1]):\n",
        "    print(\"유효한 주민등록번호입니다.\")\n",
        "  elif second != int(a[-1]):\n",
        "    print(\"유효하지 않은 주민등록번호입니다.\")\n",
        "\n",
        "elif second != int(a[-1]):\n",
        "  print(\"유효하지 않은 주민등록번호입니다.\")"
      ],
      "metadata": {
        "colab": {
          "base_uri": "https://localhost:8080/"
        },
        "id": "NAxEqoK4jAS6",
        "outputId": "4dd9aaef-ebd6-4ffb-f853-285bda78b9dc"
      },
      "execution_count": 77,
      "outputs": [
        {
          "output_type": "stream",
          "name": "stdout",
          "text": [
            ">> 주민등록번호: 990804-1068911\n",
            "['9', '9', '0', '8', '0', '4', '1', '0', '6', '8', '9', '1', '1']\n",
            "['1', '1']\n",
            "['1', '1']\n",
            "유효한 주민등록번호입니다.\n"
          ]
        }
      ]
    },
    {
      "cell_type": "code",
      "source": [
        "import requests\n",
        "btc = requests.get(\"https://api.bithumb.com/public/ticker/\").json()['data']\n",
        "# 이 문제는 문제뜻을 이해를 못했습니다 제가 코인을 한번도 안해봐서,,,\n",
        "print(btc)"
      ],
      "metadata": {
        "colab": {
          "base_uri": "https://localhost:8080/"
        },
        "id": "GT8-Y5Q5rWCs",
        "outputId": "e618c1b0-35b6-42db-9f67-e10dd3c97635"
      },
      "execution_count": 78,
      "outputs": [
        {
          "output_type": "stream",
          "name": "stdout",
          "text": [
            "{'opening_price': '44198000', 'closing_price': '45874000', 'min_price': '43900000', 'max_price': '46291000', 'units_traded': '2472.50333266', 'acc_trade_value': '111479430034.5991', 'prev_closing_price': '44178000', 'units_traded_24H': '3165.65836733', 'acc_trade_value_24H': '142307040008.9535', 'fluctate_24H': '1780000', 'fluctate_rate_24H': '4.04', 'date': '1643188705442'}\n"
          ]
        }
      ]
    },
    {
      "cell_type": "code",
      "source": [
        ""
      ],
      "metadata": {
        "id": "HQZjF0iom2ue"
      },
      "execution_count": null,
      "outputs": []
    },
    {
      "cell_type": "code",
      "source": [
        ""
      ],
      "metadata": {
        "id": "zWw2YM7ir-PF"
      },
      "execution_count": null,
      "outputs": []
    }
  ]
}