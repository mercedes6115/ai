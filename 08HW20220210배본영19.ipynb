{
  "nbformat": 4,
  "nbformat_minor": 0,
  "metadata": {
    "colab": {
      "name": "08HW20220210배본영19.ipynb",
      "provenance": [],
      "collapsed_sections": [],
      "authorship_tag": "ABX9TyMaF2yrcZKAVPNsMaTghWEC",
      "include_colab_link": true
    },
    "kernelspec": {
      "name": "python3",
      "display_name": "Python 3"
    },
    "language_info": {
      "name": "python"
    }
  },
  "cells": [
    {
      "cell_type": "markdown",
      "metadata": {
        "id": "view-in-github",
        "colab_type": "text"
      },
      "source": [
        "<a href=\"https://colab.research.google.com/github/mercedes6115/ai/blob/main/08HW20220210%EB%B0%B0%EB%B3%B8%EC%98%8119.ipynb\" target=\"_parent\"><img src=\"https://colab.research.google.com/assets/colab-badge.svg\" alt=\"Open In Colab\"/></a>"
      ]
    },
    {
      "cell_type": "code",
      "execution_count": 2,
      "metadata": {
        "colab": {
          "base_uri": "https://localhost:8080/"
        },
        "id": "ntLJTRM-pobq",
        "outputId": "d6a78f92-6622-4388-d2b7-ed78ea926198"
      },
      "outputs": [
        {
          "output_type": "stream",
          "name": "stdout",
          "text": [
            "False\n"
          ]
        }
      ],
      "source": [
        "# 456\n",
        "import keyword \n",
        "print(keyword.iskeyword('Python'))\n",
        "# d"
      ]
    },
    {
      "cell_type": "code",
      "source": [
        "#457\n",
        "import random \n",
        "x = [3, 8, 6, 5, 0] \n",
        "print(random.choice(x))\n",
        "# a"
      ],
      "metadata": {
        "colab": {
          "base_uri": "https://localhost:8080/"
        },
        "id": "jmM6krSsqKGB",
        "outputId": "7ad9a8c5-961b-4ab4-e9d4-70af11e87a2c"
      },
      "execution_count": 6,
      "outputs": [
        {
          "output_type": "stream",
          "name": "stdout",
          "text": [
            "3\n"
          ]
        }
      ]
    },
    {
      "cell_type": "code",
      "source": [
        "# 458\n",
        "import random \n",
        "x = [3, 8, 6, 5, 0] \n",
        "random.shuffle(x) \n",
        "print(x)\n",
        "# b"
      ],
      "metadata": {
        "colab": {
          "base_uri": "https://localhost:8080/"
        },
        "id": "nbKr_mmoqUNi",
        "outputId": "c52fbc01-7db6-40b2-b725-43fe8f5de8de"
      },
      "execution_count": 9,
      "outputs": [
        {
          "output_type": "stream",
          "name": "stdout",
          "text": [
            "[3, 6, 0, 5, 8]\n"
          ]
        }
      ]
    },
    {
      "cell_type": "code",
      "source": [
        "# 459\n",
        "import random \n",
        "x = [3, 8, 6, 5, 0] \n",
        "y = random.shuffle(x) \n",
        "print(y)\n",
        "# c "
      ],
      "metadata": {
        "colab": {
          "base_uri": "https://localhost:8080/"
        },
        "id": "XoMcXvaFqh7s",
        "outputId": "9cc9ccec-bef1-4d1d-cc17-16a9ecd4697e"
      },
      "execution_count": 12,
      "outputs": [
        {
          "output_type": "stream",
          "name": "stdout",
          "text": [
            "None\n"
          ]
        }
      ]
    },
    {
      "cell_type": "code",
      "source": [
        "# 460\n",
        "import sys \n",
        "x = sys.stdout.write('Python Jobs')\n",
        "# b"
      ],
      "metadata": {
        "colab": {
          "base_uri": "https://localhost:8080/"
        },
        "id": "pDbogi2PqhTk",
        "outputId": "c2f40a9e-b906-45be-c6c0-d5a705f892da"
      },
      "execution_count": 13,
      "outputs": [
        {
          "output_type": "stream",
          "name": "stdout",
          "text": [
            "Python Jobs"
          ]
        }
      ]
    },
    {
      "cell_type": "code",
      "source": [
        "# 461\n",
        "import time \n",
        "print(time.time()) \n",
        "# a"
      ],
      "metadata": {
        "colab": {
          "base_uri": "https://localhost:8080/"
        },
        "id": "SrX6Ou9DqyUM",
        "outputId": "167367d4-29c1-4bde-f966-ad7f26d324d3"
      },
      "execution_count": 16,
      "outputs": [
        {
          "output_type": "stream",
          "name": "stdout",
          "text": [
            "1644480390.7308965\n"
          ]
        }
      ]
    },
    {
      "cell_type": "code",
      "source": [
        "# 462\n",
        "import time \n",
        "print(time.time())\n",
        "\n",
        "# d"
      ],
      "metadata": {
        "colab": {
          "base_uri": "https://localhost:8080/"
        },
        "id": "7FhKshNxrIrR",
        "outputId": "73fd6130-79e9-4830-fba5-f31cf5c458f1"
      },
      "execution_count": 17,
      "outputs": [
        {
          "output_type": "stream",
          "name": "stdout",
          "text": [
            "<class 'float'>\n"
          ]
        }
      ]
    },
    {
      "cell_type": "code",
      "source": [
        "# 463\n",
        "import time \n",
        "print(time.asctime())\n",
        "# a"
      ],
      "metadata": {
        "colab": {
          "base_uri": "https://localhost:8080/"
        },
        "id": "tGETIQPNrSos",
        "outputId": "0e9ca3ae-57b4-4e06-e9cf-8f486282f666"
      },
      "execution_count": 19,
      "outputs": [
        {
          "output_type": "stream",
          "name": "stdout",
          "text": [
            "Thu Feb 10 08:08:55 2022\n"
          ]
        }
      ]
    },
    {
      "cell_type": "code",
      "source": [
        "# 464\n",
        "# a"
      ],
      "metadata": {
        "id": "HPIi-aJ-rTUl"
      },
      "execution_count": null,
      "outputs": []
    },
    {
      "cell_type": "code",
      "source": [
        "# 465\n",
        "import time \n",
        "y = (2016, 2, 10, 12, 45, 32, 5, 0, 0) \n",
        "print(time.asctime(y))\n",
        "# c "
      ],
      "metadata": {
        "colab": {
          "base_uri": "https://localhost:8080/"
        },
        "id": "s4cMCuIcrh24",
        "outputId": "f069e61e-1978-4529-f138-7c084c089d98"
      },
      "execution_count": 20,
      "outputs": [
        {
          "output_type": "stream",
          "name": "stdout",
          "text": [
            "Sat Feb 10 12:45:32 2016\n"
          ]
        }
      ]
    },
    {
      "cell_type": "code",
      "source": [
        "# 466\n",
        "import time \n",
        "y = time.asctime() \n",
        "print(y[:3])\n",
        "# c 요일만 뽑아낸다"
      ],
      "metadata": {
        "colab": {
          "base_uri": "https://localhost:8080/"
        },
        "id": "Xn4czn6Wrp7n",
        "outputId": "8b922f90-a9a1-436b-e02b-5e76cabd702a"
      },
      "execution_count": 22,
      "outputs": [
        {
          "output_type": "stream",
          "name": "stdout",
          "text": [
            "Thu\n"
          ]
        }
      ]
    },
    {
      "cell_type": "code",
      "source": [
        "# 467\n",
        "import random \n",
        "print(int(random.random()*10))\n",
        "# b"
      ],
      "metadata": {
        "colab": {
          "base_uri": "https://localhost:8080/"
        },
        "id": "vWxLhGlAryLZ",
        "outputId": "438538c7-772d-4c17-de2c-328ac9de6f3d"
      },
      "execution_count": 28,
      "outputs": [
        {
          "output_type": "stream",
          "name": "stdout",
          "text": [
            "4\n"
          ]
        }
      ]
    },
    {
      "cell_type": "code",
      "source": [
        "# 468\n",
        "import random \n",
        "print(int(random.random()*10) + 1)\n",
        "# d"
      ],
      "metadata": {
        "colab": {
          "base_uri": "https://localhost:8080/"
        },
        "id": "7qWQkWevr7Z-",
        "outputId": "b97460ab-eb6b-4698-d5c4-91c97e0b725c"
      },
      "execution_count": 41,
      "outputs": [
        {
          "output_type": "stream",
          "name": "stdout",
          "text": [
            "7\n"
          ]
        }
      ]
    },
    {
      "cell_type": "code",
      "source": [
        "# 469\n",
        "import random \n",
        "print(random.sample(range(20), 5))\n",
        "# a"
      ],
      "metadata": {
        "colab": {
          "base_uri": "https://localhost:8080/"
        },
        "id": "sRtbM33JsI-l",
        "outputId": "60d0a7b7-2aa8-415c-c3ff-643532f9ebb2"
      },
      "execution_count": 67,
      "outputs": [
        {
          "output_type": "stream",
          "name": "stdout",
          "text": [
            "[9, 11, 2, 14, 3]\n"
          ]
        }
      ]
    },
    {
      "cell_type": "code",
      "source": [
        "# 470\n",
        "import random \n",
        "print(random.sample(range(5, 20), 4)) \n",
        "# c"
      ],
      "metadata": {
        "colab": {
          "base_uri": "https://localhost:8080/"
        },
        "id": "_UcMT_xOsaFB",
        "outputId": "4c10476f-4cfd-42b8-cf9e-8b86bcb0cf68"
      },
      "execution_count": 73,
      "outputs": [
        {
          "output_type": "stream",
          "name": "stdout",
          "text": [
            "[9, 15, 19, 18]\n"
          ]
        }
      ]
    },
    {
      "cell_type": "code",
      "source": [
        "# 471\n",
        "# d\n"
      ],
      "metadata": {
        "id": "9I_F4dCysis1"
      },
      "execution_count": 75,
      "outputs": []
    },
    {
      "cell_type": "code",
      "source": [
        "# 472\n",
        "a = \"Python Practice’\n",
        "# a "
      ],
      "metadata": {
        "id": "DrZZ5TEjsqRU"
      },
      "execution_count": null,
      "outputs": []
    },
    {
      "cell_type": "code",
      "source": [
        "# 473\n",
        "a= true # True\n",
        "# d "
      ],
      "metadata": {
        "id": "4tyS-Wves0HZ"
      },
      "execution_count": null,
      "outputs": []
    },
    {
      "cell_type": "code",
      "source": [
        "# 474\n",
        "# d\n"
      ],
      "metadata": {
        "id": "V6p8MiEYs62R"
      },
      "execution_count": 78,
      "outputs": []
    },
    {
      "cell_type": "code",
      "source": [
        "# 475\n",
        "def xyz():\n",
        "  a = 56\n",
        "xyz()\n",
        "print(a)\n",
        "# a"
      ],
      "metadata": {
        "id": "HZi_h3ictQE1"
      },
      "execution_count": null,
      "outputs": []
    },
    {
      "cell_type": "code",
      "source": [
        "# 피보나치 수열 \n",
        "\n",
        "def fibbo(n):\n",
        "    curr, next = 0, 1\n",
        "    for _ in range(n):\n",
        "        curr, next = next, curr + next\n",
        "    return curr\n",
        "n = int(input(\"num? : \"))\n",
        "fibbo(n)"
      ],
      "metadata": {
        "colab": {
          "base_uri": "https://localhost:8080/"
        },
        "id": "eOb-DPpatZcN",
        "outputId": "6718a0bd-2774-479e-c9e2-ca90dad002c3"
      },
      "execution_count": 87,
      "outputs": [
        {
          "name": "stdout",
          "output_type": "stream",
          "text": [
            "num? : 777\n"
          ]
        },
        {
          "output_type": "execute_result",
          "data": {
            "text/plain": [
              "1081213530912648191985419587942084110095342850438593857649766278346130479286685742885693301250359913460718567974798268702550329302771992851392180275594318434818082"
            ]
          },
          "metadata": {},
          "execution_count": 87
        }
      ]
    },
    {
      "cell_type": "code",
      "source": [
        ""
      ],
      "metadata": {
        "id": "3Ajt53Z5tvZP"
      },
      "execution_count": null,
      "outputs": []
    }
  ]
}