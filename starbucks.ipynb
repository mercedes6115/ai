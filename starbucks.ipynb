{
  "nbformat": 4,
  "nbformat_minor": 0,
  "metadata": {
    "colab": {
      "name": "starbucks.ipynb",
      "provenance": [],
      "collapsed_sections": [],
      "authorship_tag": "ABX9TyNSYBzDJuFoIc7UxFYU9Ldh",
      "include_colab_link": true
    },
    "kernelspec": {
      "name": "python3",
      "display_name": "Python 3"
    },
    "language_info": {
      "name": "python"
    }
  },
  "cells": [
    {
      "cell_type": "markdown",
      "metadata": {
        "id": "view-in-github",
        "colab_type": "text"
      },
      "source": [
        "<a href=\"https://colab.research.google.com/github/mercedes6115/ai/blob/main/starbucks.ipynb\" target=\"_parent\"><img src=\"https://colab.research.google.com/assets/colab-badge.svg\" alt=\"Open In Colab\"/></a>"
      ]
    },
    {
      "cell_type": "code",
      "execution_count": null,
      "metadata": {
        "id": "D4umYdOL-FEk"
      },
      "outputs": [],
      "source": [
        "from selenium import webdriver       # 파이썬으로 브라우저 컨트롤 모듈\n",
        "from bs4 import BeautifulSoup as bs # 클롤링한 데이터 정제 모듈\n",
        "import pandas as pd                      # 데이터 분석 모듈"
      ]
    },
    {
      "cell_type": "code",
      "source": [
        "driver = webdriver.Chrome('chromedriver.exe')\n",
        "driver.get('https://www.starbucks.co.kr/store/store_map.do')"
      ],
      "metadata": {
        "id": "8zH1m-fD-Jh3"
      },
      "execution_count": null,
      "outputs": []
    },
    {
      "cell_type": "code",
      "source": [
        "area_btn = '#container > div > form > fieldset > div > section > article.find_store_cont > article > header.loca_search > h3 > a'\n",
        "driver.find_element_by_css_selector(area_btn).click()"
      ],
      "metadata": {
        "id": "V3NlI_UO-KyY"
      },
      "execution_count": null,
      "outputs": []
    },
    {
      "cell_type": "code",
      "source": [
        "seoul_btn = '#container > div > form > fieldset > div > section > article.find_store_cont > article > article:nth-child(4) > div.loca_step1 > div.loca_step1_cont > ul > li:nth-child(1) > a'\n",
        "driver.find_element_by_css_selector(seoul_btn).click()"
      ],
      "metadata": {
        "id": "t_dk0oGN-L_w"
      },
      "execution_count": null,
      "outputs": []
    },
    {
      "cell_type": "code",
      "source": [
        "all_btn = '#mCSB_2_container > ul > li:nth-child(1) > a'\n",
        "driver.find_element_by_css_selector(all_btn).click()"
      ],
      "metadata": {
        "id": "IyqFid30-NUI"
      },
      "execution_count": null,
      "outputs": []
    },
    {
      "cell_type": "code",
      "source": [
        "html = driver.page_source   # 전체 페이저 소스 읽어오기\n",
        "soup = bs(html)                # bs으로 데이터 정제"
      ],
      "metadata": {
        "id": "TzZ7X5ED-O_Q"
      },
      "execution_count": null,
      "outputs": []
    },
    {
      "cell_type": "code",
      "source": [
        "starbucks_list = soup.select('ul.quickSearchResultBoxSidoGugun > li.quickResultLstCon')                # 서울 전체 스타벅스 목록만 읽어오기\n",
        "\n",
        "len(starbucks_list)"
      ],
      "metadata": {
        "id": "jV7ZO-JD-QnQ"
      },
      "execution_count": null,
      "outputs": []
    },
    {
      "cell_type": "code",
      "source": [
        "star = starbucks_list[0]\n",
        "star"
      ],
      "metadata": {
        "id": "1b9lwJug-Rwn"
      },
      "execution_count": null,
      "outputs": []
    },
    {
      "cell_type": "code",
      "source": [
        "#name = star['data-name']            # 지점명\n",
        "name = star.select('strong')[0].text.strip()\n",
        "lat =  star['data-lat'].strip()             # 위도\n",
        "lng =  star['data-long'].strip()          # 경도\n",
        "\n",
        "addr =  str(star.select('p')[0]).split('<br/>')[0].split('>')[1]    # 주소\n",
        "tel = str(star.select('p')[0]).split('<br/>')[1].split('<')[0]        # 전화번호"
      ],
      "metadata": {
        "id": "-o7v19la-U9P"
      },
      "execution_count": null,
      "outputs": []
    },
    {
      "cell_type": "code",
      "source": [
        "starbucks = []\n",
        "for star in starbucks_list:\n",
        "    name = star.select('strong')[0].text.strip()\n",
        "    lat =  star['data-lat'].strip()             # 위도\n",
        "    lng =  star['data-long'].strip()          # 경도\n",
        "\n",
        "    addr =  str(star.select('p')[0]).split('<br/>')[0].split('>')[1]    # 주소\n",
        "    tel = str(star.select('p')[0]).split('<br/>')[1].split('<')[0]        # 전화번호\n",
        "\n",
        "    starbucks.append([name, lat, lng, addr, tel])"
      ],
      "metadata": {
        "id": "euAFltM--VZ5"
      },
      "execution_count": null,
      "outputs": []
    },
    {
      "cell_type": "code",
      "source": [
        "# 데이터 프레임 생성\n",
        "columns = ['매장명','위도','경도','주소','전화번호']\n",
        "seoul_starbucks = pd.DataFrame(starbucks, columns = columns)\n",
        "\n",
        "seoul_starbucks.to_excel('seoul_starbucks.xlsx', index=False)"
      ],
      "metadata": {
        "id": "braHrduT-aKf"
      },
      "execution_count": null,
      "outputs": []
    },
    {
      "cell_type": "code",
      "source": [
        ""
      ],
      "metadata": {
        "id": "67HFDdPp-bW3"
      },
      "execution_count": null,
      "outputs": []
    }
  ]
}