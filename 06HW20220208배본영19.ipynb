{
  "nbformat": 4,
  "nbformat_minor": 0,
  "metadata": {
    "colab": {
      "name": "06HW20220208배본영19.ipynb",
      "provenance": [],
      "collapsed_sections": [],
      "authorship_tag": "ABX9TyMYDJU4mSC+ssIRUuLKiz4P",
      "include_colab_link": true
    },
    "kernelspec": {
      "name": "python3",
      "display_name": "Python 3"
    },
    "language_info": {
      "name": "python"
    }
  },
  "cells": [
    {
      "cell_type": "markdown",
      "metadata": {
        "id": "view-in-github",
        "colab_type": "text"
      },
      "source": [
        "<a href=\"https://colab.research.google.com/github/mercedes6115/ai/blob/main/06HW20220208%EB%B0%B0%EB%B3%B8%EC%98%8119.ipynb\" target=\"_parent\"><img src=\"https://colab.research.google.com/assets/colab-badge.svg\" alt=\"Open In Colab\"/></a>"
      ]
    },
    {
      "cell_type": "code",
      "execution_count": null,
      "metadata": {
        "colab": {
          "base_uri": "https://localhost:8080/",
          "height": 208
        },
        "id": "EksRflsHX5XN",
        "outputId": "cd5d153b-ef04-4dbf-f340-e42de925900c"
      },
      "outputs": [
        {
          "output_type": "error",
          "ename": "NameError",
          "evalue": "ignored",
          "traceback": [
            "\u001b[0;31m---------------------------------------------------------------------------\u001b[0m",
            "\u001b[0;31mNameError\u001b[0m                                 Traceback (most recent call last)",
            "\u001b[0;32m<ipython-input-1-c05d6f7c15b8>\u001b[0m in \u001b[0;36m<module>\u001b[0;34m()\u001b[0m\n\u001b[1;32m      3\u001b[0m \u001b[0;34m\u001b[0m\u001b[0m\n\u001b[1;32m      4\u001b[0m \u001b[0mn_plus_1\u001b[0m\u001b[0;34m(\u001b[0m\u001b[0;36m3\u001b[0m\u001b[0;34m)\u001b[0m\u001b[0;34m\u001b[0m\u001b[0;34m\u001b[0m\u001b[0m\n\u001b[0;32m----> 5\u001b[0;31m \u001b[0mprint\u001b[0m \u001b[0;34m(\u001b[0m\u001b[0mresult\u001b[0m\u001b[0;34m)\u001b[0m\u001b[0;34m\u001b[0m\u001b[0;34m\u001b[0m\u001b[0m\n\u001b[0m",
            "\u001b[0;31mNameError\u001b[0m: name 'result' is not defined"
          ]
        }
      ],
      "source": [
        "#231\n",
        "\n",
        "#에러 결과값이 선언되지 않았음"
      ]
    },
    {
      "cell_type": "code",
      "source": [
        "#232\n",
        "def make_url(a):\n",
        "  print(f'www.{a}.com')\n",
        "\n",
        "make_url('naver')"
      ],
      "metadata": {
        "colab": {
          "base_uri": "https://localhost:8080/"
        },
        "id": "bKWndBF7YL6Z",
        "outputId": "fb48b4ae-e3a1-4f50-9b17-e8839cfd763d"
      },
      "execution_count": null,
      "outputs": [
        {
          "output_type": "stream",
          "name": "stdout",
          "text": [
            "www.naver.com\n"
          ]
        }
      ]
    },
    {
      "cell_type": "code",
      "source": [
        "#233\n",
        "def make_list(a):\n",
        "  ch=list(a)\n",
        "  print(ch)\n",
        "make_list(\"abcd\")"
      ],
      "metadata": {
        "colab": {
          "base_uri": "https://localhost:8080/"
        },
        "id": "yqG_ot7QYW6Y",
        "outputId": "a435c35b-8361-4858-fbe0-789f9a7a6da5"
      },
      "execution_count": null,
      "outputs": [
        {
          "output_type": "stream",
          "name": "stdout",
          "text": [
            "['a', 'b', 'c', 'd']\n"
          ]
        }
      ]
    },
    {
      "cell_type": "code",
      "source": [
        "#234\n",
        "def pickup_even(a):\n",
        "  b=[]\n",
        "  for i in a:\n",
        "    if i %2 == 0:\n",
        "      b.append(i)\n",
        "  print(b)\n",
        "\n",
        "pickup_even([3,4,5,6,7,8])"
      ],
      "metadata": {
        "colab": {
          "base_uri": "https://localhost:8080/"
        },
        "id": "tWIiPBt_YjPZ",
        "outputId": "400f79e9-8b1f-4755-e2d8-8e75296fdfc8"
      },
      "execution_count": null,
      "outputs": [
        {
          "output_type": "stream",
          "name": "stdout",
          "text": [
            "[4, 6, 8]\n"
          ]
        }
      ]
    },
    {
      "cell_type": "code",
      "source": [
        "#235\n",
        "def convert_int(a):\n",
        "  new_a=a.replace(',','')\n",
        "  new_a=int(new_a)\n",
        "  print(new_a)\n",
        "convert_int(\"1,234,567\")"
      ],
      "metadata": {
        "colab": {
          "base_uri": "https://localhost:8080/"
        },
        "id": "92rtmrYmY98b",
        "outputId": "53e25d32-e317-446c-bce0-82126fd8491f"
      },
      "execution_count": null,
      "outputs": [
        {
          "output_type": "stream",
          "name": "stdout",
          "text": [
            "1234567\n"
          ]
        }
      ]
    },
    {
      "cell_type": "code",
      "source": [
        "#236\n",
        "def 함수(num) :\n",
        " return num + 4\n",
        "a = 함수(10) # 14\n",
        "b = 함수(a) # 18\n",
        "c = 함수(b) # 22 값이 덮어씌워진다\n",
        "print(c)"
      ],
      "metadata": {
        "colab": {
          "base_uri": "https://localhost:8080/"
        },
        "id": "SE6lq7dQZjMk",
        "outputId": "3cfa3de7-31db-4aa6-9b3f-af945d8d1fa5"
      },
      "execution_count": null,
      "outputs": [
        {
          "output_type": "stream",
          "name": "stdout",
          "text": [
            "22\n"
          ]
        }
      ]
    },
    {
      "cell_type": "code",
      "source": [
        "#237\n",
        "def fff(num):\n",
        "  return num+4\n",
        "c=fff(fff(fff(10)))\n",
        "\n",
        "print(c) # 위와 같은 결과 갚이 덮어씌워지면서 계속 더해진다"
      ],
      "metadata": {
        "colab": {
          "base_uri": "https://localhost:8080/"
        },
        "id": "-133hMNkZtyV",
        "outputId": "2328682f-b600-4cbc-b7f1-8909e0f12086"
      },
      "execution_count": null,
      "outputs": [
        {
          "output_type": "stream",
          "name": "stdout",
          "text": [
            "22\n"
          ]
        }
      ]
    },
    {
      "cell_type": "code",
      "source": [
        "#238\n",
        "def a_1(num) :\n",
        " return num + 4\n",
        "def a_2(num) :\n",
        " return num * 10\n",
        "a = a_1(10) # 14\n",
        "c = a_2(a) # 140\n",
        "print(c)\n"
      ],
      "metadata": {
        "colab": {
          "base_uri": "https://localhost:8080/"
        },
        "id": "cehcf-C-Z6RY",
        "outputId": "e81ed8e1-537e-4dc2-f376-e34322326b8a"
      },
      "execution_count": null,
      "outputs": [
        {
          "output_type": "stream",
          "name": "stdout",
          "text": [
            "140\n"
          ]
        }
      ]
    },
    {
      "cell_type": "code",
      "source": [
        "#239\n",
        "def  a_1(num) :\n",
        " return num + 4\n",
        "def a_2(num) :\n",
        " num = num + 2\n",
        " return a_1(num)\n",
        "c = a_2(10) # 14에 c에 넣어지면서 2가 더해진다 첫번째 함수의 결과값이 두번쨰 함수에 전달된다\n",
        "print(c)"
      ],
      "metadata": {
        "colab": {
          "base_uri": "https://localhost:8080/"
        },
        "id": "KewxUsE-aFKZ",
        "outputId": "bfd02346-5b81-4e16-ec4e-09cdd625cae8"
      },
      "execution_count": null,
      "outputs": [
        {
          "output_type": "stream",
          "name": "stdout",
          "text": [
            "16\n"
          ]
        }
      ]
    },
    {
      "cell_type": "code",
      "source": [
        "#240 \n",
        "def a_0(num) :\n",
        " return num * 2\n",
        "def a_1(num) :\n",
        " return a_0(num + 2)\n",
        "def a_2(num) :\n",
        "  num = num + 10\n",
        "  return a_1(num)\n",
        "c = a_2(2) #2번 함수 -> 1번함수-> 0번함수 3차례 걸쳐서 계산결과가 나온다\n",
        "print(c)\n"
      ],
      "metadata": {
        "colab": {
          "base_uri": "https://localhost:8080/"
        },
        "id": "eqEwoPL9aWek",
        "outputId": "18de4294-c2a7-4f42-ec3d-fd5011a8297a"
      },
      "execution_count": null,
      "outputs": [
        {
          "output_type": "stream",
          "name": "stdout",
          "text": [
            "28\n"
          ]
        }
      ]
    },
    {
      "cell_type": "code",
      "source": [
        "#291\n",
        "f = open(\"바탕 화면/매수종목1.txt\", 'w')\n",
        "f.write('005930')\n",
        "f.write('005380')\n",
        "f.write('035420')\n",
        "f.close()\n"
      ],
      "metadata": {
        "colab": {
          "base_uri": "https://localhost:8080/",
          "height": 244
        },
        "id": "u_X9kyVlawwx",
        "outputId": "78fe6319-fe01-493e-d128-8c917eb3696a"
      },
      "execution_count": null,
      "outputs": [
        {
          "output_type": "error",
          "ename": "FileNotFoundError",
          "evalue": "ignored",
          "traceback": [
            "\u001b[0;31m---------------------------------------------------------------------------\u001b[0m",
            "\u001b[0;31mFileNotFoundError\u001b[0m                         Traceback (most recent call last)",
            "\u001b[0;32m<ipython-input-13-5b98412f8e42>\u001b[0m in \u001b[0;36m<module>\u001b[0;34m()\u001b[0m\n\u001b[1;32m      1\u001b[0m \u001b[0;31m#291\u001b[0m\u001b[0;34m\u001b[0m\u001b[0;34m\u001b[0m\u001b[0;34m\u001b[0m\u001b[0m\n\u001b[0;32m----> 2\u001b[0;31m \u001b[0mf\u001b[0m \u001b[0;34m=\u001b[0m \u001b[0mopen\u001b[0m\u001b[0;34m(\u001b[0m\u001b[0;34m\"바탕 화면/매수종목1.txt\"\u001b[0m\u001b[0;34m,\u001b[0m \u001b[0;34m'w'\u001b[0m\u001b[0;34m)\u001b[0m\u001b[0;34m\u001b[0m\u001b[0;34m\u001b[0m\u001b[0m\n\u001b[0m\u001b[1;32m      3\u001b[0m \u001b[0mf\u001b[0m\u001b[0;34m.\u001b[0m\u001b[0mwrite\u001b[0m\u001b[0;34m(\u001b[0m\u001b[0;34m'005930'\u001b[0m\u001b[0;34m)\u001b[0m\u001b[0;34m\u001b[0m\u001b[0;34m\u001b[0m\u001b[0m\n\u001b[1;32m      4\u001b[0m \u001b[0mf\u001b[0m\u001b[0;34m.\u001b[0m\u001b[0mwrite\u001b[0m\u001b[0;34m(\u001b[0m\u001b[0;34m'005380'\u001b[0m\u001b[0;34m)\u001b[0m\u001b[0;34m\u001b[0m\u001b[0;34m\u001b[0m\u001b[0m\n\u001b[1;32m      5\u001b[0m \u001b[0mf\u001b[0m\u001b[0;34m.\u001b[0m\u001b[0mwrite\u001b[0m\u001b[0;34m(\u001b[0m\u001b[0;34m'035420'\u001b[0m\u001b[0;34m)\u001b[0m\u001b[0;34m\u001b[0m\u001b[0;34m\u001b[0m\u001b[0m\n",
            "\u001b[0;31mFileNotFoundError\u001b[0m: [Errno 2] No such file or directory: '바탕 화면/매수종목1.txt'"
          ]
        }
      ]
    },
    {
      "cell_type": "code",
      "source": [
        "#292\n",
        "f = open(\"바탕 화면/매수종목1.txt\", 'w')\n",
        "f.write('005930 삼성전자')\n",
        "f.write('005380 현대차')\n",
        "f.write('035420 NAVER')\n",
        "f.close()"
      ],
      "metadata": {
        "id": "qhZ8tHQ2bZc6"
      },
      "execution_count": null,
      "outputs": []
    },
    {
      "cell_type": "code",
      "source": [
        "#293\n",
        "f = open('매수종목.csv','w', newline='')\n",
        "wr = csv.writer(f)\n",
        "wr.writerow(['종목명','종목코드', 'PER'])\n",
        "wr.writerow(['삼성전자','005930', '15.79'])\n",
        "wr.writerow(['NAVER','035420', '55.82'])\n",
        " \n",
        "f.close()"
      ],
      "metadata": {
        "id": "BbaJjxjKbfJq"
      },
      "execution_count": null,
      "outputs": []
    },
    {
      "cell_type": "code",
      "source": [
        "#294\n",
        "file_path = \"/매수종목1.txt\"\n",
        "\n",
        "with open(file_path) as f:\n",
        "  for line in lines:\n",
        "    lines = f.readlines()\n",
        "\n",
        "print(lines)\n"
      ],
      "metadata": {
        "id": "v-EHQyhqcWAa"
      },
      "execution_count": null,
      "outputs": []
    },
    {
      "cell_type": "code",
      "source": [
        "#295\n",
        "a = {}\n",
        "with open(\"매수종목2.txt\") as f:\n",
        "    for line in f:\n",
        "       (k, v) = line.split()\n",
        "       a[int(k)] = v\n",
        "print(a)\n"
      ],
      "metadata": {
        "id": "XTR5qfM3d8Oq"
      },
      "execution_count": null,
      "outputs": []
    },
    {
      "cell_type": "code",
      "source": [
        "#296\n",
        "per = [\"10.31\", \"\", \"8.00\"]\n",
        "try:\n",
        "  for i in per:\n",
        "    print(float(i))\n",
        "except:\n",
        "  print('0')\n",
        "\n"
      ],
      "metadata": {
        "colab": {
          "base_uri": "https://localhost:8080/"
        },
        "id": "BrPJEFD7eqN7",
        "outputId": "be02409f-1dfa-41d8-9bbb-308b88d96310"
      },
      "execution_count": null,
      "outputs": [
        {
          "output_type": "stream",
          "name": "stdout",
          "text": [
            "10.31\n",
            "0\n"
          ]
        }
      ]
    },
    {
      "cell_type": "code",
      "source": [
        "#297\n",
        "per = [\"10.31\", \"\", \"8.00\"]\n",
        "new_per=[]\n",
        "try:\n",
        "  for i in per:\n",
        "    print(float(i))\n",
        "    new_per.append(i)\n",
        "except:\n",
        "  print('0')\n",
        "  \n",
        "print(new_per)"
      ],
      "metadata": {
        "colab": {
          "base_uri": "https://localhost:8080/"
        },
        "id": "awR6Y3RqgIvE",
        "outputId": "7b70ded9-381f-46ba-c41a-e71d0924a8a8"
      },
      "execution_count": null,
      "outputs": [
        {
          "output_type": "stream",
          "name": "stdout",
          "text": [
            "10.31\n",
            "0\n",
            "['10.31']\n"
          ]
        }
      ]
    },
    {
      "cell_type": "code",
      "source": [
        "#298\n",
        "try:\n",
        "  4/0\n",
        "except ZeroDivisionError as e:\n",
        "    print(e)\n"
      ],
      "metadata": {
        "colab": {
          "base_uri": "https://localhost:8080/"
        },
        "id": "yeDGMvTCe7ml",
        "outputId": "9e7e1060-d637-47c2-ad81-7e4d26ef3f6b"
      },
      "execution_count": null,
      "outputs": [
        {
          "output_type": "stream",
          "name": "stdout",
          "text": [
            "division by zero\n"
          ]
        }
      ]
    },
    {
      "cell_type": "code",
      "source": [
        "#299\n",
        "data = [1, 2, 3]\n",
        "\n",
        "try:\n",
        "  for i in range(5):\n",
        "    print(data[i])\n",
        "except IndexError:\n",
        "    print(\"인덱싱 할 수 없습니다.\") \n"
      ],
      "metadata": {
        "colab": {
          "base_uri": "https://localhost:8080/"
        },
        "id": "Ix-rnV7ihI89",
        "outputId": "9baa7fb1-cceb-4fe5-e4cf-9e5e998c3f6d"
      },
      "execution_count": null,
      "outputs": [
        {
          "output_type": "stream",
          "name": "stdout",
          "text": [
            "1\n",
            "2\n",
            "3\n",
            "인덱싱 할 수 없습니다.\n"
          ]
        }
      ]
    },
    {
      "cell_type": "code",
      "source": [
        "#300\n",
        "\n",
        "per = [\"10.31\", \"\", \"8.00\"]\n",
        "try:\n",
        "  for i in per:\n",
        "    print(float(per))\n",
        "except:\n",
        "  i=0\n",
        "else:\n",
        "  print(\"잘 진행중\")\n",
        "finally:\n",
        "  print(\"정상 종료\")"
      ],
      "metadata": {
        "colab": {
          "base_uri": "https://localhost:8080/"
        },
        "id": "9tEJyKi6hbra",
        "outputId": "e65f8fbc-6b58-4340-d632-7ac9240c191c"
      },
      "execution_count": null,
      "outputs": [
        {
          "output_type": "stream",
          "name": "stdout",
          "text": [
            "정상 종료\n"
          ]
        }
      ]
    }
  ]
}