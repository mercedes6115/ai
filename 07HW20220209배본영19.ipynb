{
  "nbformat": 4,
  "nbformat_minor": 0,
  "metadata": {
    "colab": {
      "name": "07HW20220209배본영19.ipynb",
      "provenance": [],
      "collapsed_sections": [],
      "authorship_tag": "ABX9TyM/9YiMleRT0V01FtWuhZ1y",
      "include_colab_link": true
    },
    "kernelspec": {
      "name": "python3",
      "display_name": "Python 3"
    },
    "language_info": {
      "name": "python"
    }
  },
  "cells": [
    {
      "cell_type": "markdown",
      "metadata": {
        "id": "view-in-github",
        "colab_type": "text"
      },
      "source": [
        "<a href=\"https://colab.research.google.com/github/mercedes6115/ai/blob/main/07HW20220209%EB%B0%B0%EB%B3%B8%EC%98%8119.ipynb\" target=\"_parent\"><img src=\"https://colab.research.google.com/assets/colab-badge.svg\" alt=\"Open In Colab\"/></a>"
      ]
    },
    {
      "cell_type": "code",
      "execution_count": 2,
      "metadata": {
        "colab": {
          "base_uri": "https://localhost:8080/"
        },
        "id": "j5vnByDmUW2y",
        "outputId": "e69de63d-32e2-4617-b77b-b12ebc61a216"
      },
      "outputs": [
        {
          "output_type": "stream",
          "name": "stdout",
          "text": [
            "No\n"
          ]
        }
      ],
      "source": [
        "# 436\n",
        "x = '' \n",
        "if bool(x): \n",
        "  print('Yes') \n",
        "else: \n",
        "  print('No')\n",
        "# c"
      ]
    },
    {
      "cell_type": "code",
      "source": [
        "# 437\n",
        "x = ' ' \n",
        "if bool(x): \n",
        "  print('Yes') \n",
        "else: \n",
        "  print('No')\n",
        "# b"
      ],
      "metadata": {
        "colab": {
          "base_uri": "https://localhost:8080/"
        },
        "id": "-MbHV-Jvhgg5",
        "outputId": "ba8b7afa-6616-4e6b-a0d0-4c7bc34d4788"
      },
      "execution_count": 3,
      "outputs": [
        {
          "output_type": "stream",
          "name": "stdout",
          "text": [
            "Yes\n"
          ]
        }
      ]
    },
    {
      "cell_type": "code",
      "source": [
        "# 438\n",
        "x = [] \n",
        "if bool(x): \n",
        "  print('Yes') \n",
        "else: \n",
        "  print('No')\n",
        "# a"
      ],
      "metadata": {
        "colab": {
          "base_uri": "https://localhost:8080/"
        },
        "id": "fVLQ4tvWhpho",
        "outputId": "8928d7a3-5878-4572-f7a1-0f8db4cbee9e"
      },
      "execution_count": 4,
      "outputs": [
        {
          "output_type": "stream",
          "name": "stdout",
          "text": [
            "No\n"
          ]
        }
      ]
    },
    {
      "cell_type": "code",
      "source": [
        "# 439\n",
        "x = [1,2,3] \n",
        "if bool(x): \n",
        "  print('Yes') \n",
        "else: \n",
        "  print('No')\n",
        "# b "
      ],
      "metadata": {
        "colab": {
          "base_uri": "https://localhost:8080/"
        },
        "id": "i3A8ZuwyhsPk",
        "outputId": "751eca41-e87a-48a5-bddf-edf61f9fcc89"
      },
      "execution_count": 5,
      "outputs": [
        {
          "output_type": "stream",
          "name": "stdout",
          "text": [
            "Yes\n"
          ]
        }
      ]
    },
    {
      "cell_type": "code",
      "source": [
        "# 430\n",
        "x = '' \n",
        "if not bool(x): \n",
        "  print('Yes') \n",
        "else: \n",
        "  print('No')\n",
        "# a"
      ],
      "metadata": {
        "colab": {
          "base_uri": "https://localhost:8080/"
        },
        "id": "CxZoaVcsh2ap",
        "outputId": "b7bacf22-fff4-49b0-cc13-5b3f7acfbc3a"
      },
      "execution_count": 6,
      "outputs": [
        {
          "output_type": "stream",
          "name": "stdout",
          "text": [
            "Yes\n"
          ]
        }
      ]
    },
    {
      "cell_type": "code",
      "source": [
        "# 441\n",
        "x = 'print(\"Python\")' \n",
        "eval(x)\n",
        "# c"
      ],
      "metadata": {
        "colab": {
          "base_uri": "https://localhost:8080/"
        },
        "id": "Eo78TPV4iAGH",
        "outputId": "15a7224f-f26a-4f28-b607-e4755d9ed13d"
      },
      "execution_count": 7,
      "outputs": [
        {
          "output_type": "stream",
          "name": "stdout",
          "text": [
            "Python\n"
          ]
        }
      ]
    },
    {
      "cell_type": "code",
      "source": [
        "# 442\n",
        "x = input(\"Enter an expression: \") \n",
        "print(eval(x))\n",
        "# c"
      ],
      "metadata": {
        "colab": {
          "base_uri": "https://localhost:8080/"
        },
        "id": "FPvTqkvtiMZ3",
        "outputId": "7f64ee1b-9d27-4a9f-cc05-95cbce27349f"
      },
      "execution_count": 9,
      "outputs": [
        {
          "output_type": "stream",
          "name": "stdout",
          "text": [
            "Enter an expression: 45*2\n",
            "90\n"
          ]
        }
      ]
    },
    {
      "cell_type": "code",
      "source": [
        "# 443\n",
        "a = ['a', 'b', 'c', 'A', 'B'] \n",
        "print(max(a))\n",
        "# d\n"
      ],
      "metadata": {
        "colab": {
          "base_uri": "https://localhost:8080/"
        },
        "id": "C3yWOE34iVB_",
        "outputId": "6e76336f-ec90-4127-b6f0-0b17a1f52bea"
      },
      "execution_count": 10,
      "outputs": [
        {
          "output_type": "stream",
          "name": "stdout",
          "text": [
            "c\n"
          ]
        }
      ]
    },
    {
      "cell_type": "code",
      "source": [
        "# 444\n",
        "a = ['a', 'b', 'c', 'A', 'B'] \n",
        "print(min(a)) \n",
        "# a"
      ],
      "metadata": {
        "colab": {
          "base_uri": "https://localhost:8080/"
        },
        "id": "Iw2QveZ4icL_",
        "outputId": "1b3de356-0438-43f2-dd53-92799afc8510"
      },
      "execution_count": 11,
      "outputs": [
        {
          "output_type": "stream",
          "name": "stdout",
          "text": [
            "A\n"
          ]
        }
      ]
    },
    {
      "cell_type": "code",
      "source": [
        "# 445\n",
        "a = ['a', 'b', 'c', 'A', 'B'] \n",
        "print(min(a))\n",
        "# b"
      ],
      "metadata": {
        "colab": {
          "base_uri": "https://localhost:8080/"
        },
        "id": "0GbIshBBihER",
        "outputId": "f0658a7d-9071-4e27-ec27-74cdf9eb6a51"
      },
      "execution_count": 12,
      "outputs": [
        {
          "output_type": "stream",
          "name": "stdout",
          "text": [
            "A\n"
          ]
        }
      ]
    },
    {
      "cell_type": "code",
      "source": [
        "# 446\n",
        "a = ['a', 'b', 'c', '1', '2', 'A', 'B'] \n",
        "print(max(a)) \n",
        "a='A'\n",
        "# d "
      ],
      "metadata": {
        "id": "U2uhyaERimHZ"
      },
      "execution_count": null,
      "outputs": []
    },
    {
      "cell_type": "code",
      "source": [
        "# 447\n",
        "a = ['a', 'b', 'c', '1', '2', 'A', 'B']\n",
        "print(min(a))\n",
        "\n",
        "# c"
      ],
      "metadata": {
        "colab": {
          "base_uri": "https://localhost:8080/"
        },
        "id": "MFv5BoPXi5kp",
        "outputId": "537261a1-eb8c-4809-c684-a0c410e8a293"
      },
      "execution_count": 16,
      "outputs": [
        {
          "output_type": "stream",
          "name": "stdout",
          "text": [
            "1\n"
          ]
        }
      ]
    },
    {
      "cell_type": "code",
      "source": [
        "# 448\n",
        "a = [1, 2, 3] \n",
        "print(sum(a)) \n",
        "# d"
      ],
      "metadata": {
        "colab": {
          "base_uri": "https://localhost:8080/"
        },
        "id": "ajWLj0AvjBig",
        "outputId": "4d1d572f-c7eb-4c64-c69b-a73cffe57e50"
      },
      "execution_count": 17,
      "outputs": [
        {
          "output_type": "stream",
          "name": "stdout",
          "text": [
            "6\n"
          ]
        }
      ]
    },
    {
      "cell_type": "code",
      "source": [
        "# 449\n",
        "a = list(range(0,10,3)) \n",
        "print(sum(a))\n",
        "# c"
      ],
      "metadata": {
        "colab": {
          "base_uri": "https://localhost:8080/"
        },
        "id": "mmhBtyWGjFAf",
        "outputId": "90c7f00e-3303-4dd5-c38a-35cfa8c215a8"
      },
      "execution_count": 18,
      "outputs": [
        {
          "output_type": "stream",
          "name": "stdout",
          "text": [
            "18\n"
          ]
        }
      ]
    },
    {
      "cell_type": "code",
      "source": [
        "# 450\n",
        "a = list(range(10,-10,3)) \n",
        "print(sum(a))\n",
        "# b"
      ],
      "metadata": {
        "colab": {
          "base_uri": "https://localhost:8080/"
        },
        "id": "WMYmZMOjjISe",
        "outputId": "a4a90d08-cd23-4d6f-beb3-7c5ae914bed4"
      },
      "execution_count": 19,
      "outputs": [
        {
          "output_type": "stream",
          "name": "stdout",
          "text": [
            "0\n"
          ]
        }
      ]
    },
    {
      "cell_type": "code",
      "source": [
        "# 451\n",
        "a = list(range(-10,5,2)) \n",
        "print(sum(a))\n",
        "# a"
      ],
      "metadata": {
        "colab": {
          "base_uri": "https://localhost:8080/"
        },
        "id": "xytLr7k9jPqM",
        "outputId": "8c1ddcf8-c2bc-4185-8272-40b30a267733"
      },
      "execution_count": 20,
      "outputs": [
        {
          "output_type": "stream",
          "name": "stdout",
          "text": [
            "-24\n"
          ]
        }
      ]
    },
    {
      "cell_type": "code",
      "source": [
        "# 452\n",
        "x = [5, 4, 3, 2, 1] \n",
        "y = x.copy() \n",
        "x[0] = 6 \n",
        "print(y) # append시키기 전 x랑 동일\n",
        "# c"
      ],
      "metadata": {
        "colab": {
          "base_uri": "https://localhost:8080/"
        },
        "id": "ULLf2Y6DjUZR",
        "outputId": "1510653d-6421-49e0-fdd0-77133bafe3d9"
      },
      "execution_count": 21,
      "outputs": [
        {
          "output_type": "stream",
          "name": "stdout",
          "text": [
            "[5, 4, 3, 2, 1]\n"
          ]
        }
      ]
    },
    {
      "cell_type": "code",
      "source": [
        "# 453\n",
        "import copy\n",
        "x = [5, 4, 3, 2, 1] \n",
        "y = copy.copy(x) \n",
        "x.append(6) \n",
        "print(y[0]) # x를 복사했기 때문에 y는 append시키기 전 x랑 동일 \n",
        "# d "
      ],
      "metadata": {
        "colab": {
          "base_uri": "https://localhost:8080/"
        },
        "id": "wjdlHpLLjbRY",
        "outputId": "39c11260-ad2b-458e-b1ad-b50707346f5f"
      },
      "execution_count": 22,
      "outputs": [
        {
          "output_type": "stream",
          "name": "stdout",
          "text": [
            "5\n"
          ]
        }
      ]
    },
    {
      "cell_type": "code",
      "source": [
        "# 454\n",
        "import keyword \n",
        "print(keyword.iskeyword('IS'))\n",
        "# d"
      ],
      "metadata": {
        "colab": {
          "base_uri": "https://localhost:8080/"
        },
        "id": "YOYrnH6qjjDF",
        "outputId": "ca703597-8412-4faf-b8f7-557e569db3ad"
      },
      "execution_count": 23,
      "outputs": [
        {
          "output_type": "stream",
          "name": "stdout",
          "text": [
            "False\n"
          ]
        }
      ]
    },
    {
      "cell_type": "code",
      "source": [
        "# 455\n",
        "import keyword \n",
        "print(keyword.iskeyword('for'))\n",
        "# a"
      ],
      "metadata": {
        "colab": {
          "base_uri": "https://localhost:8080/"
        },
        "id": "nrtpjFTSjqh4",
        "outputId": "0e947760-8d8c-4d9e-cef4-61ff12e49e41"
      },
      "execution_count": 24,
      "outputs": [
        {
          "output_type": "stream",
          "name": "stdout",
          "text": [
            "True\n"
          ]
        }
      ]
    },
    {
      "cell_type": "code",
      "source": [
        "# algorithm Homework\n",
        "\n",
        "cnt = 0 # 8이 몇번 나오는지 세줄 변수 선언\n",
        "\n",
        "for i in range(1,10001): # 1~10000까지 \n",
        "  str_i=str(i) # 숫자를 문자로 변환\n",
        "  for j in range(len(str_i)): # 문자로 변환해주고 반복문을 실행 \n",
        "    if '8' in str_i[j]: # 이때 8이 있으면\n",
        "      cnt+=1 # 하나씩 증가시켜준다 \n",
        "print(cnt) # 결과가 맞는지 최종적으로 출력을 통해 확인"
      ],
      "metadata": {
        "colab": {
          "base_uri": "https://localhost:8080/"
        },
        "id": "6lGYx2RZjwXo",
        "outputId": "e8051a2d-1556-4e0d-8c4e-294757523f36"
      },
      "execution_count": 33,
      "outputs": [
        {
          "output_type": "stream",
          "name": "stdout",
          "text": [
            "4000\n"
          ]
        }
      ]
    },
    {
      "cell_type": "code",
      "source": [
        ""
      ],
      "metadata": {
        "id": "vEq-ruYRjve4"
      },
      "execution_count": null,
      "outputs": []
    }
  ]
}