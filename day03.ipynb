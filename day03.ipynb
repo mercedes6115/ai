{
  "cells": [
    {
      "cell_type": "markdown",
      "metadata": {
        "id": "view-in-github",
        "colab_type": "text"
      },
      "source": [
        "<a href=\"https://colab.research.google.com/github/mercedes6115/ai/blob/main/day03.ipynb\" target=\"_parent\"><img src=\"https://colab.research.google.com/assets/colab-badge.svg\" alt=\"Open In Colab\"/></a>"
      ]
    },
    {
      "cell_type": "code",
      "execution_count": null,
      "metadata": {
        "id": "VFMC5kc4zJgi"
      },
      "outputs": [],
      "source": [
        "#Collection : 많은 Data Elements를 저장하고 관리한다\n",
        "\n",
        "#리스트 list        튜플Tuple       딕셔너리dict        세트set\n",
        "\n",
        "#[]                 ()                {}                  {}\n",
        "#mutable            immutable         mutable             mutable\n",
        "#indexing/slicing   indexing/slicing  no                  no\n",
        "#                   (1,)              {key:value}   \n",
        "\n",
        "\n"
      ]
    },
    {
      "cell_type": "code",
      "execution_count": 4,
      "metadata": {
        "colab": {
          "base_uri": "https://localhost:8080/"
        },
        "id": "1R17kr9_8CrU",
        "outputId": "859d532c-a2f1-4be6-e34c-06e44db1fbdb"
      },
      "outputs": [
        {
          "output_type": "stream",
          "name": "stdout",
          "text": [
            "[1, 2, 3, 4, 5]\n",
            "[1, 2, 3, 4, 5]\n",
            "[2, 3, 4, 5]\n",
            "[2, 3, 4, 5]\n",
            "140136908800400\n",
            "140136908800400\n",
            "140136908800400\n",
            "140136908803200\n"
          ]
        }
      ],
      "source": [
        "list1=[1,2,3,4,5]\n",
        "list3=list1\n",
        "\n",
        "#파이썬에서 변수는 자료를 담는 공간이 아닌 포인터 느낌으로 사용 \n",
        "#그래서 아래의 예제가 설명이된다  하나를 삭제하지만 가리키는 곳이 같기때문에 둘다 삭제가 적용된다\n",
        "\n",
        "print(list1)\n",
        "print(list3)  \n",
        "\n",
        "del list3[0]\n",
        "\n",
        "print(list1)\n",
        "print(list3)\n",
        "print(id(list1)) #메모리 주소값\n",
        "print(id(list3)) #id()적용 결과 같은 포인터값\n",
        "\n",
        "\n",
        "list4=list1.copy() # 다르게 하려면 copy함수를 사용하여 원본은 유지\n",
        "print(id(list1))\n",
        "print(id(list4)) \n"
      ]
    },
    {
      "cell_type": "code",
      "source": [
        "score = int(input(\"점수를 입력하세요 >>>\"))\n",
        "\n",
        "if score >=90:\n",
        "  gr=\"A\"\n",
        "elif score >=80:\n",
        "  gr=\"B\"\n",
        "elif score >=70:\n",
        "  gr=\"C\"\n",
        "elif score >=60:\n",
        "  gr=\"D\"\n",
        "else:\n",
        "  gr=\"F\""
      ],
      "metadata": {
        "id": "rmG2iZbSDzpS"
      },
      "execution_count": null,
      "outputs": []
    },
    {
      "cell_type": "code",
      "execution_count": 14,
      "metadata": {
        "id": "Ra6NjDoE8e_n",
        "colab": {
          "base_uri": "https://localhost:8080/"
        },
        "outputId": "10853248-a0fb-49eb-94a4-256ed51597e1"
      },
      "outputs": [
        {
          "output_type": "stream",
          "name": "stdout",
          "text": [
            "임의의 정수1\n",
            "임의의 정수2\n",
            "임의의 정수3\n",
            "임의의 정수0\n",
            "[1, 2, 3]\n"
          ]
        }
      ],
      "source": [
        "li = []\n",
        "n=1\n",
        "while n!=0:\n",
        "  n=int(input(\"임의의 정수\"))\n",
        "  if n!=0:\n",
        "    li.append(n)\n",
        "\n",
        "print(li)\n",
        "\n",
        "\n"
      ]
    },
    {
      "cell_type": "code",
      "source": [
        "\n",
        "i = 0\n",
        "while i < 5:\n",
        "    i = i + 1\n",
        "    j = 1\n",
        "    while j <= 3:\n",
        "        print(f'{i}일차 {j}교시입니다')\n",
        "        j = j + 1\n"
      ],
      "metadata": {
        "colab": {
          "base_uri": "https://localhost:8080/"
        },
        "id": "JAntFpWWZszc",
        "outputId": "fa52ac37-1f1e-4681-a5a8-8b8d459904c7"
      },
      "execution_count": 26,
      "outputs": [
        {
          "output_type": "stream",
          "name": "stdout",
          "text": [
            "1일차 1교시입니다\n",
            "1일차 2교시입니다\n",
            "1일차 3교시입니다\n",
            "2일차 1교시입니다\n",
            "2일차 2교시입니다\n",
            "2일차 3교시입니다\n",
            "3일차 1교시입니다\n",
            "3일차 2교시입니다\n",
            "3일차 3교시입니다\n",
            "4일차 1교시입니다\n",
            "4일차 2교시입니다\n",
            "4일차 3교시입니다\n",
            "5일차 1교시입니다\n",
            "5일차 2교시입니다\n",
            "5일차 3교시입니다\n"
          ]
        }
      ]
    },
    {
      "cell_type": "code",
      "source": [
        "i = 1\n",
        "while i < 9:\n",
        "    i = i + 1\n",
        "    j = 1\n",
        "    while j <= 9:\n",
        "        print(f' {i} X {j} = {i*j}')\n",
        "        j = j + 1"
      ],
      "metadata": {
        "colab": {
          "base_uri": "https://localhost:8080/"
        },
        "id": "6OdsH2E0uMyA",
        "outputId": "9c6fbfda-1877-4429-b529-a09df254b4f6"
      },
      "execution_count": 28,
      "outputs": [
        {
          "output_type": "stream",
          "name": "stdout",
          "text": [
            "# 2 X 1 = 2\n",
            "# 2 X 2 = 4\n",
            "# 2 X 3 = 6\n",
            "# 2 X 4 = 8\n",
            "# 2 X 5 = 10\n",
            "# 2 X 6 = 12\n",
            "# 2 X 7 = 14\n",
            "# 2 X 8 = 16\n",
            "# 2 X 9 = 18\n",
            "# 3 X 1 = 3\n",
            "# 3 X 2 = 6\n",
            "# 3 X 3 = 9\n",
            "# 3 X 4 = 12\n",
            "# 3 X 5 = 15\n",
            "# 3 X 6 = 18\n",
            "# 3 X 7 = 21\n",
            "# 3 X 8 = 24\n",
            "# 3 X 9 = 27\n",
            "# 4 X 1 = 4\n",
            "# 4 X 2 = 8\n",
            "# 4 X 3 = 12\n",
            "# 4 X 4 = 16\n",
            "# 4 X 5 = 20\n",
            "# 4 X 6 = 24\n",
            "# 4 X 7 = 28\n",
            "# 4 X 8 = 32\n",
            "# 4 X 9 = 36\n",
            "# 5 X 1 = 5\n",
            "# 5 X 2 = 10\n",
            "# 5 X 3 = 15\n",
            "# 5 X 4 = 20\n",
            "# 5 X 5 = 25\n",
            "# 5 X 6 = 30\n",
            "# 5 X 7 = 35\n",
            "# 5 X 8 = 40\n",
            "# 5 X 9 = 45\n",
            "# 6 X 1 = 6\n",
            "# 6 X 2 = 12\n",
            "# 6 X 3 = 18\n",
            "# 6 X 4 = 24\n",
            "# 6 X 5 = 30\n",
            "# 6 X 6 = 36\n",
            "# 6 X 7 = 42\n",
            "# 6 X 8 = 48\n",
            "# 6 X 9 = 54\n",
            "# 7 X 1 = 7\n",
            "# 7 X 2 = 14\n",
            "# 7 X 3 = 21\n",
            "# 7 X 4 = 28\n",
            "# 7 X 5 = 35\n",
            "# 7 X 6 = 42\n",
            "# 7 X 7 = 49\n",
            "# 7 X 8 = 56\n",
            "# 7 X 9 = 63\n",
            "# 8 X 1 = 8\n",
            "# 8 X 2 = 16\n",
            "# 8 X 3 = 24\n",
            "# 8 X 4 = 32\n",
            "# 8 X 5 = 40\n",
            "# 8 X 6 = 48\n",
            "# 8 X 7 = 56\n",
            "# 8 X 8 = 64\n",
            "# 8 X 9 = 72\n",
            "# 9 X 1 = 9\n",
            "# 9 X 2 = 18\n",
            "# 9 X 3 = 27\n",
            "# 9 X 4 = 36\n",
            "# 9 X 5 = 45\n",
            "# 9 X 6 = 54\n",
            "# 9 X 7 = 63\n",
            "# 9 X 8 = 72\n",
            "# 9 X 9 = 81\n"
          ]
        }
      ]
    },
    {
      "cell_type": "code",
      "source": [
        "q=int(input(\"정수를 입력하세요 >>>\"))\n",
        "\n",
        "num=1\n",
        "while num <= q:\n",
        "  print(f'{num} 번째 Hello')\n",
        "  num+=1\n",
        "if q == 0:\n",
        "  print('잘못된 입력입니다')"
      ],
      "metadata": {
        "colab": {
          "base_uri": "https://localhost:8080/"
        },
        "id": "WCE08Y9NxLKc",
        "outputId": "3c5f175b-9fdd-455c-ebaa-78ac23131c28"
      },
      "execution_count": 32,
      "outputs": [
        {
          "output_type": "stream",
          "name": "stdout",
          "text": [
            "정수를 입력하세요 >>>0\n",
            "잘못된 입력입니다\n"
          ]
        }
      ]
    },
    {
      "cell_type": "code",
      "source": [
        "\n",
        "num=1\n",
        "while num<=100:\n",
        "  if num%7 ==0:\n",
        "    print(num)\n",
        "  num+=1\n",
        "\n"
      ],
      "metadata": {
        "colab": {
          "base_uri": "https://localhost:8080/"
        },
        "id": "LzrV1Q-u0tEy",
        "outputId": "627944cf-0acc-4a59-9ac3-6aef271ff9cf"
      },
      "execution_count": 35,
      "outputs": [
        {
          "output_type": "stream",
          "name": "stdout",
          "text": [
            "7\n",
            "14\n",
            "21\n",
            "28\n",
            "35\n",
            "42\n",
            "49\n",
            "56\n",
            "63\n",
            "70\n",
            "77\n",
            "84\n",
            "91\n",
            "98\n"
          ]
        }
      ]
    },
    {
      "cell_type": "code",
      "source": [
        "money=int(input(\"자판기에 얼마를 넣을까요 >>>\"))\n",
        "\n",
        "left=1400\n",
        "coffee=300\n",
        "cnt=1\n",
        "\n",
        "while coffee<=money:\n",
        "  print(f'커피 {cnt}잔, 잔돈 {money-coffee}')\n",
        "  coffee+=300\n",
        "  cnt+=1"
      ],
      "metadata": {
        "colab": {
          "base_uri": "https://localhost:8080/"
        },
        "id": "PRBCVqyO5-S7",
        "outputId": "3a0e7656-29a8-491e-8c1e-a29552310f0a"
      },
      "execution_count": 50,
      "outputs": [
        {
          "output_type": "stream",
          "name": "stdout",
          "text": [
            "자판기에 얼마를 넣을까요 >>>12342\n",
            "커피 1잔, 잔돈 12042\n",
            "커피 2잔, 잔돈 11742\n",
            "커피 3잔, 잔돈 11442\n",
            "커피 4잔, 잔돈 11142\n",
            "커피 5잔, 잔돈 10842\n",
            "커피 6잔, 잔돈 10542\n",
            "커피 7잔, 잔돈 10242\n",
            "커피 8잔, 잔돈 9942\n",
            "커피 9잔, 잔돈 9642\n",
            "커피 10잔, 잔돈 9342\n",
            "커피 11잔, 잔돈 9042\n",
            "커피 12잔, 잔돈 8742\n",
            "커피 13잔, 잔돈 8442\n",
            "커피 14잔, 잔돈 8142\n",
            "커피 15잔, 잔돈 7842\n",
            "커피 16잔, 잔돈 7542\n",
            "커피 17잔, 잔돈 7242\n",
            "커피 18잔, 잔돈 6942\n",
            "커피 19잔, 잔돈 6642\n",
            "커피 20잔, 잔돈 6342\n",
            "커피 21잔, 잔돈 6042\n",
            "커피 22잔, 잔돈 5742\n",
            "커피 23잔, 잔돈 5442\n",
            "커피 24잔, 잔돈 5142\n",
            "커피 25잔, 잔돈 4842\n",
            "커피 26잔, 잔돈 4542\n",
            "커피 27잔, 잔돈 4242\n",
            "커피 28잔, 잔돈 3942\n",
            "커피 29잔, 잔돈 3642\n",
            "커피 30잔, 잔돈 3342\n",
            "커피 31잔, 잔돈 3042\n",
            "커피 32잔, 잔돈 2742\n",
            "커피 33잔, 잔돈 2442\n",
            "커피 34잔, 잔돈 2142\n",
            "커피 35잔, 잔돈 1842\n",
            "커피 36잔, 잔돈 1542\n",
            "커피 37잔, 잔돈 1242\n",
            "커피 38잔, 잔돈 942\n",
            "커피 39잔, 잔돈 642\n",
            "커피 40잔, 잔돈 342\n",
            "커피 41잔, 잔돈 42\n"
          ]
        }
      ]
    },
    {
      "cell_type": "code",
      "source": [
        "cnt=1\n",
        "b=set([]) #공집합 세트 선언문\n",
        "while len(b) <= 5:\n",
        "  a=int(input(\"0~9 사이 정수를 입력하세요 >>>\"))\n",
        "  b.add(a)\n",
        "  if len(b) ==5:\n",
        "    print('5개의 고유한 정수가 모두 입력되었습니다.\\n')\n",
        "    print(f'입력된 값은 {b} 입니다')\n",
        "    break\n",
        "\n"
      ],
      "metadata": {
        "colab": {
          "base_uri": "https://localhost:8080/"
        },
        "id": "aBLT1b8B83F0",
        "outputId": "abc34188-fcdc-49b7-e0be-f378be04429c"
      },
      "execution_count": 79,
      "outputs": [
        {
          "output_type": "stream",
          "name": "stdout",
          "text": [
            "0~9 사이 정수를 입력하세요 >>>4\n",
            "0~9 사이 정수를 입력하세요 >>>5\n",
            "0~9 사이 정수를 입력하세요 >>>4\n",
            "0~9 사이 정수를 입력하세요 >>>4\n",
            "0~9 사이 정수를 입력하세요 >>>5\n",
            "0~9 사이 정수를 입력하세요 >>>6\n",
            "0~9 사이 정수를 입력하세요 >>>3\n",
            "0~9 사이 정수를 입력하세요 >>>2\n",
            "5개의 고유한 정수가 모두 입력되었습니다.\n",
            "\n",
            "입력된 값은 {2, 3, 4, 5, 6} 입니다\n"
          ]
        }
      ]
    },
    {
      "cell_type": "code",
      "source": [
        "list1=[1,2,3,4,5]\n",
        "list2= set(list1)\n",
        "\n",
        "print(len(list2))"
      ],
      "metadata": {
        "colab": {
          "base_uri": "https://localhost:8080/"
        },
        "id": "MSQNxjtxoUxI",
        "outputId": "4e25da3b-006e-45aa-add6-8c12a68e04c3"
      },
      "execution_count": 58,
      "outputs": [
        {
          "output_type": "stream",
          "name": "stdout",
          "text": [
            "5\n"
          ]
        }
      ]
    },
    {
      "cell_type": "code",
      "source": [
        "num=1\n",
        "\n",
        "while num <= 100:\n",
        "      print(f'{num}' ,end='\\t')\n",
        "      num+=1\n",
        "      while str(num)[-1] == '1':\n",
        "        print(\"\\n\")\n",
        "        break"
      ],
      "metadata": {
        "colab": {
          "base_uri": "https://localhost:8080/"
        },
        "id": "gbcQoNPhC-rq",
        "outputId": "1ea240e6-772c-4be8-d764-797aeffab4ce"
      },
      "execution_count": 99,
      "outputs": [
        {
          "output_type": "stream",
          "name": "stdout",
          "text": [
            "1\t2\t3\t4\t5\t6\t7\t8\t9\t10\t\n",
            "\n",
            "11\t12\t13\t14\t15\t16\t17\t18\t19\t20\t\n",
            "\n",
            "21\t22\t23\t24\t25\t26\t27\t28\t29\t30\t\n",
            "\n",
            "31\t32\t33\t34\t35\t36\t37\t38\t39\t40\t\n",
            "\n",
            "41\t42\t43\t44\t45\t46\t47\t48\t49\t50\t\n",
            "\n",
            "51\t52\t53\t54\t55\t56\t57\t58\t59\t60\t\n",
            "\n",
            "61\t62\t63\t64\t65\t66\t67\t68\t69\t70\t\n",
            "\n",
            "71\t72\t73\t74\t75\t76\t77\t78\t79\t80\t\n",
            "\n",
            "81\t82\t83\t84\t85\t86\t87\t88\t89\t90\t\n",
            "\n",
            "91\t92\t93\t94\t95\t96\t97\t98\t99\t100\t\n",
            "\n"
          ]
        }
      ]
    },
    {
      "cell_type": "code",
      "source": [
        "'''\n",
        "for i in [1,2,3]:\n",
        "  print(i)\n",
        "  print(type(i))\n",
        "'''\n",
        "'''\n",
        "for i in range(1,100,3): #1부터 100미만까지 3의 간격으로 \n",
        "  print(i)\n",
        "'''\n",
        "\n"
      ],
      "metadata": {
        "colab": {
          "base_uri": "https://localhost:8080/"
        },
        "id": "3x3w6vv3LUuw",
        "outputId": "a70d2c45-5147-4655-ba36-b12357450409"
      },
      "execution_count": 108,
      "outputs": [
        {
          "output_type": "stream",
          "name": "stdout",
          "text": [
            "1\n",
            "4\n",
            "7\n",
            "10\n",
            "13\n",
            "16\n",
            "19\n",
            "22\n",
            "25\n",
            "28\n",
            "31\n",
            "34\n",
            "37\n",
            "40\n",
            "43\n",
            "46\n",
            "49\n",
            "52\n",
            "55\n",
            "58\n",
            "61\n",
            "64\n",
            "67\n",
            "70\n",
            "73\n",
            "76\n",
            "79\n",
            "82\n",
            "85\n",
            "88\n",
            "91\n",
            "94\n",
            "97\n"
          ]
        }
      ]
    },
    {
      "cell_type": "code",
      "source": [
        "for i in range(1,999):\n",
        "  pw=input(\"비밀번호를 입력하세요 >>>\")\n",
        "  if (pw.isalpha() == True) | pw.isnumeric()==True:\n",
        "    print(\"불가능한 비번입니다\")\n",
        "  else:\n",
        "    print(\"사용 가능한 비번입니다\")"
      ],
      "metadata": {
        "colab": {
          "base_uri": "https://localhost:8080/",
          "height": 668
        },
        "id": "D2dfPivAOF7h",
        "outputId": "1940ea33-dc77-421b-f7ba-1edb74cf06cd"
      },
      "execution_count": 112,
      "outputs": [
        {
          "output_type": "stream",
          "name": "stdout",
          "text": [
            "비밀번호를 입력하세요 >>>111111\n",
            "불가능한 비번입니다\n",
            "비밀번호를 입력하세요 >>>q2eew243\n",
            "사용 가능한 비번입니다\n",
            "비밀번호를 입력하세요 >>>qqqqqqqq\n",
            "불가능한 비번입니다\n"
          ]
        },
        {
          "output_type": "error",
          "ename": "KeyboardInterrupt",
          "evalue": "ignored",
          "traceback": [
            "\u001b[0;31m---------------------------------------------------------------------------\u001b[0m",
            "\u001b[0;31mKeyboardInterrupt\u001b[0m                         Traceback (most recent call last)",
            "\u001b[0;32m/usr/local/lib/python3.7/dist-packages/ipykernel/kernelbase.py\u001b[0m in \u001b[0;36m_input_request\u001b[0;34m(self, prompt, ident, parent, password)\u001b[0m\n\u001b[1;32m    728\u001b[0m             \u001b[0;32mtry\u001b[0m\u001b[0;34m:\u001b[0m\u001b[0;34m\u001b[0m\u001b[0;34m\u001b[0m\u001b[0m\n\u001b[0;32m--> 729\u001b[0;31m                 \u001b[0mident\u001b[0m\u001b[0;34m,\u001b[0m \u001b[0mreply\u001b[0m \u001b[0;34m=\u001b[0m \u001b[0mself\u001b[0m\u001b[0;34m.\u001b[0m\u001b[0msession\u001b[0m\u001b[0;34m.\u001b[0m\u001b[0mrecv\u001b[0m\u001b[0;34m(\u001b[0m\u001b[0mself\u001b[0m\u001b[0;34m.\u001b[0m\u001b[0mstdin_socket\u001b[0m\u001b[0;34m,\u001b[0m \u001b[0;36m0\u001b[0m\u001b[0;34m)\u001b[0m\u001b[0;34m\u001b[0m\u001b[0;34m\u001b[0m\u001b[0m\n\u001b[0m\u001b[1;32m    730\u001b[0m             \u001b[0;32mexcept\u001b[0m \u001b[0mException\u001b[0m\u001b[0;34m:\u001b[0m\u001b[0;34m\u001b[0m\u001b[0;34m\u001b[0m\u001b[0m\n",
            "\u001b[0;32m/usr/local/lib/python3.7/dist-packages/jupyter_client/session.py\u001b[0m in \u001b[0;36mrecv\u001b[0;34m(self, socket, mode, content, copy)\u001b[0m\n\u001b[1;32m    802\u001b[0m         \u001b[0;32mtry\u001b[0m\u001b[0;34m:\u001b[0m\u001b[0;34m\u001b[0m\u001b[0;34m\u001b[0m\u001b[0m\n\u001b[0;32m--> 803\u001b[0;31m             \u001b[0mmsg_list\u001b[0m \u001b[0;34m=\u001b[0m \u001b[0msocket\u001b[0m\u001b[0;34m.\u001b[0m\u001b[0mrecv_multipart\u001b[0m\u001b[0;34m(\u001b[0m\u001b[0mmode\u001b[0m\u001b[0;34m,\u001b[0m \u001b[0mcopy\u001b[0m\u001b[0;34m=\u001b[0m\u001b[0mcopy\u001b[0m\u001b[0;34m)\u001b[0m\u001b[0;34m\u001b[0m\u001b[0;34m\u001b[0m\u001b[0m\n\u001b[0m\u001b[1;32m    804\u001b[0m         \u001b[0;32mexcept\u001b[0m \u001b[0mzmq\u001b[0m\u001b[0;34m.\u001b[0m\u001b[0mZMQError\u001b[0m \u001b[0;32mas\u001b[0m \u001b[0me\u001b[0m\u001b[0;34m:\u001b[0m\u001b[0;34m\u001b[0m\u001b[0;34m\u001b[0m\u001b[0m\n",
            "\u001b[0;32m/usr/local/lib/python3.7/dist-packages/zmq/sugar/socket.py\u001b[0m in \u001b[0;36mrecv_multipart\u001b[0;34m(self, flags, copy, track)\u001b[0m\n\u001b[1;32m    624\u001b[0m         \"\"\"\n\u001b[0;32m--> 625\u001b[0;31m         \u001b[0mparts\u001b[0m \u001b[0;34m=\u001b[0m \u001b[0;34m[\u001b[0m\u001b[0mself\u001b[0m\u001b[0;34m.\u001b[0m\u001b[0mrecv\u001b[0m\u001b[0;34m(\u001b[0m\u001b[0mflags\u001b[0m\u001b[0;34m,\u001b[0m \u001b[0mcopy\u001b[0m\u001b[0;34m=\u001b[0m\u001b[0mcopy\u001b[0m\u001b[0;34m,\u001b[0m \u001b[0mtrack\u001b[0m\u001b[0;34m=\u001b[0m\u001b[0mtrack\u001b[0m\u001b[0;34m)\u001b[0m\u001b[0;34m]\u001b[0m\u001b[0;34m\u001b[0m\u001b[0;34m\u001b[0m\u001b[0m\n\u001b[0m\u001b[1;32m    626\u001b[0m         \u001b[0;31m# have first part already, only loop while more to receive\u001b[0m\u001b[0;34m\u001b[0m\u001b[0;34m\u001b[0m\u001b[0;34m\u001b[0m\u001b[0m\n",
            "\u001b[0;32mzmq/backend/cython/socket.pyx\u001b[0m in \u001b[0;36mzmq.backend.cython.socket.Socket.recv\u001b[0;34m()\u001b[0m\n",
            "\u001b[0;32mzmq/backend/cython/socket.pyx\u001b[0m in \u001b[0;36mzmq.backend.cython.socket.Socket.recv\u001b[0;34m()\u001b[0m\n",
            "\u001b[0;32mzmq/backend/cython/socket.pyx\u001b[0m in \u001b[0;36mzmq.backend.cython.socket._recv_copy\u001b[0;34m()\u001b[0m\n",
            "\u001b[0;32m/usr/local/lib/python3.7/dist-packages/zmq/backend/cython/checkrc.pxd\u001b[0m in \u001b[0;36mzmq.backend.cython.checkrc._check_rc\u001b[0;34m()\u001b[0m\n",
            "\u001b[0;31mKeyboardInterrupt\u001b[0m: ",
            "\nDuring handling of the above exception, another exception occurred:\n",
            "\u001b[0;31mKeyboardInterrupt\u001b[0m                         Traceback (most recent call last)",
            "\u001b[0;32m<ipython-input-112-fa38e0be5e71>\u001b[0m in \u001b[0;36m<module>\u001b[0;34m()\u001b[0m\n\u001b[1;32m      2\u001b[0m \u001b[0;34m\u001b[0m\u001b[0m\n\u001b[1;32m      3\u001b[0m \u001b[0;32mfor\u001b[0m \u001b[0mi\u001b[0m \u001b[0;32min\u001b[0m \u001b[0mrange\u001b[0m\u001b[0;34m(\u001b[0m\u001b[0;36m1\u001b[0m\u001b[0;34m,\u001b[0m\u001b[0;36m10\u001b[0m\u001b[0;34m)\u001b[0m\u001b[0;34m:\u001b[0m\u001b[0;34m\u001b[0m\u001b[0;34m\u001b[0m\u001b[0m\n\u001b[0;32m----> 4\u001b[0;31m   \u001b[0mpw\u001b[0m\u001b[0;34m=\u001b[0m\u001b[0minput\u001b[0m\u001b[0;34m(\u001b[0m\u001b[0;34m\"비밀번호를 입력하세요 >>>\"\u001b[0m\u001b[0;34m)\u001b[0m\u001b[0;34m\u001b[0m\u001b[0;34m\u001b[0m\u001b[0m\n\u001b[0m\u001b[1;32m      5\u001b[0m   \u001b[0;32mif\u001b[0m \u001b[0;34m(\u001b[0m\u001b[0mpw\u001b[0m\u001b[0;34m.\u001b[0m\u001b[0misalpha\u001b[0m\u001b[0;34m(\u001b[0m\u001b[0;34m)\u001b[0m \u001b[0;34m==\u001b[0m \u001b[0;32mTrue\u001b[0m\u001b[0;34m)\u001b[0m \u001b[0;34m|\u001b[0m \u001b[0mpw\u001b[0m\u001b[0;34m.\u001b[0m\u001b[0misnumeric\u001b[0m\u001b[0;34m(\u001b[0m\u001b[0;34m)\u001b[0m\u001b[0;34m==\u001b[0m\u001b[0;32mTrue\u001b[0m\u001b[0;34m:\u001b[0m\u001b[0;34m\u001b[0m\u001b[0;34m\u001b[0m\u001b[0m\n\u001b[1;32m      6\u001b[0m     \u001b[0mprint\u001b[0m\u001b[0;34m(\u001b[0m\u001b[0;34m\"불가능한 비번입니다\"\u001b[0m\u001b[0;34m)\u001b[0m\u001b[0;34m\u001b[0m\u001b[0;34m\u001b[0m\u001b[0m\n",
            "\u001b[0;32m/usr/local/lib/python3.7/dist-packages/ipykernel/kernelbase.py\u001b[0m in \u001b[0;36mraw_input\u001b[0;34m(self, prompt)\u001b[0m\n\u001b[1;32m    702\u001b[0m             \u001b[0mself\u001b[0m\u001b[0;34m.\u001b[0m\u001b[0m_parent_ident\u001b[0m\u001b[0;34m,\u001b[0m\u001b[0;34m\u001b[0m\u001b[0;34m\u001b[0m\u001b[0m\n\u001b[1;32m    703\u001b[0m             \u001b[0mself\u001b[0m\u001b[0;34m.\u001b[0m\u001b[0m_parent_header\u001b[0m\u001b[0;34m,\u001b[0m\u001b[0;34m\u001b[0m\u001b[0;34m\u001b[0m\u001b[0m\n\u001b[0;32m--> 704\u001b[0;31m             \u001b[0mpassword\u001b[0m\u001b[0;34m=\u001b[0m\u001b[0;32mFalse\u001b[0m\u001b[0;34m,\u001b[0m\u001b[0;34m\u001b[0m\u001b[0;34m\u001b[0m\u001b[0m\n\u001b[0m\u001b[1;32m    705\u001b[0m         )\n\u001b[1;32m    706\u001b[0m \u001b[0;34m\u001b[0m\u001b[0m\n",
            "\u001b[0;32m/usr/local/lib/python3.7/dist-packages/ipykernel/kernelbase.py\u001b[0m in \u001b[0;36m_input_request\u001b[0;34m(self, prompt, ident, parent, password)\u001b[0m\n\u001b[1;32m    732\u001b[0m             \u001b[0;32mexcept\u001b[0m \u001b[0mKeyboardInterrupt\u001b[0m\u001b[0;34m:\u001b[0m\u001b[0;34m\u001b[0m\u001b[0;34m\u001b[0m\u001b[0m\n\u001b[1;32m    733\u001b[0m                 \u001b[0;31m# re-raise KeyboardInterrupt, to truncate traceback\u001b[0m\u001b[0;34m\u001b[0m\u001b[0;34m\u001b[0m\u001b[0;34m\u001b[0m\u001b[0m\n\u001b[0;32m--> 734\u001b[0;31m                 \u001b[0;32mraise\u001b[0m \u001b[0mKeyboardInterrupt\u001b[0m\u001b[0;34m\u001b[0m\u001b[0;34m\u001b[0m\u001b[0m\n\u001b[0m\u001b[1;32m    735\u001b[0m             \u001b[0;32melse\u001b[0m\u001b[0;34m:\u001b[0m\u001b[0;34m\u001b[0m\u001b[0;34m\u001b[0m\u001b[0m\n\u001b[1;32m    736\u001b[0m                 \u001b[0;32mbreak\u001b[0m\u001b[0;34m\u001b[0m\u001b[0;34m\u001b[0m\u001b[0m\n",
            "\u001b[0;31mKeyboardInterrupt\u001b[0m: "
          ]
        }
      ]
    },
    {
      "cell_type": "code",
      "source": [
        "# range([start], stop, [step])\n",
        "#숫자들을 컬렉션으로 만든다\n",
        "#start를 생략하면 0부터 시작\n",
        "#setp은 생략하면 1로 설정된다  "
      ],
      "metadata": {
        "id": "TaPLkG0OVz4b"
      },
      "execution_count": null,
      "outputs": []
    },
    {
      "cell_type": "code",
      "source": [
        "num=int(input(\"출력할 구구단을 입력하세요 >>>\"))\n",
        "\n",
        "for i in range(1,10):\n",
        "  print(f'{num} x {i} = {num*i}')\n"
      ],
      "metadata": {
        "colab": {
          "base_uri": "https://localhost:8080/"
        },
        "id": "d6D7iV57S0hm",
        "outputId": "9c738059-2124-49b1-ac79-63964681dc1d"
      },
      "execution_count": 113,
      "outputs": [
        {
          "output_type": "stream",
          "name": "stdout",
          "text": [
            "출력할 구구단을 입력하세요 >>>5\n",
            "5 x 1 = 5\n",
            "5 x 2 = 10\n",
            "5 x 3 = 15\n",
            "5 x 4 = 20\n",
            "5 x 5 = 25\n",
            "5 x 6 = 30\n",
            "5 x 7 = 35\n",
            "5 x 8 = 40\n",
            "5 x 9 = 45\n"
          ]
        }
      ]
    },
    {
      "cell_type": "code",
      "source": [
        "# set,dict도 for문으로 사용은 가능하나 순서는 보장하지 않는다.\n",
        "'''\n",
        "for i in {'가위','바위','보'}:\n",
        "  print(i)\n",
        "'''\n",
        "person= {'name':'가나다',\n",
        "         'age':'20'}\n",
        "\n",
        "\n",
        "for i in person: # 키값\n",
        "  print(i)\n",
        "for i in person: #밸류값 \n",
        "  print(person[i])\n"
      ],
      "metadata": {
        "colab": {
          "base_uri": "https://localhost:8080/"
        },
        "id": "zL6AK9T-XO7s",
        "outputId": "1fc4d63e-20bb-4356-8da1-56ce73771773"
      },
      "execution_count": 121,
      "outputs": [
        {
          "output_type": "stream",
          "name": "stdout",
          "text": [
            "name\n",
            "age\n",
            "가나다\n",
            "20\n"
          ]
        }
      ]
    },
    {
      "cell_type": "code",
      "source": [
        "num=int(input(\"임의의 양수를 입력하세요 >>>\"))\n",
        "sum=0\n",
        "print(f'1부터 {num}사이의 모든 정수의 합계는 {(num*(num+1)//2)}')\n",
        "\n",
        "for i in range(1,num+1):\n",
        "  sum+=i\n",
        "print(f'1부터 {num}사이의 모든 정수의 합계는 {sum}')\n"
      ],
      "metadata": {
        "colab": {
          "base_uri": "https://localhost:8080/"
        },
        "id": "XFgVnnghY6pr",
        "outputId": "b535b9a2-c53b-4efc-e3e0-2d73935d6b35"
      },
      "execution_count": 126,
      "outputs": [
        {
          "output_type": "stream",
          "name": "stdout",
          "text": [
            "임의의 양수를 입력하세요 >>>10\n",
            "1부터 10사이의 모든 정수의 합계는 55\n",
            "1부터 10사이의 모든 정수의 합계는 55\n"
          ]
        }
      ]
    },
    {
      "cell_type": "code",
      "source": [
        "num=int(input(\"몇 개의 과일을 보관할까요? >>>\"))\n",
        "list_fruit=[]\n",
        "for i in range(1,num+1):\n",
        "  fruits=input(f'{i} 번째 과일을 입력하세요 >>>')\n",
        "  list_fruit.append(fruits)\n",
        "\n",
        "print(f'입력 받은 과일들은 {list_fruit} 입니다')"
      ],
      "metadata": {
        "colab": {
          "base_uri": "https://localhost:8080/"
        },
        "id": "wHkg_GyMZ5p_",
        "outputId": "d1db0ad0-c965-4014-a4cd-263ec8595405"
      },
      "execution_count": 131,
      "outputs": [
        {
          "output_type": "stream",
          "name": "stdout",
          "text": [
            "몇 개의 과일을 보관할까요? >>>4\n",
            "1 번째 과일을 입력하세요 >>>사과\n",
            "2 번째 과일을 입력하세요 >>>바나나\n",
            "3 번째 과일을 입력하세요 >>>애플\n",
            "4 번째 과일을 입력하세요 >>>붜내놔\n",
            "입력 받은 과일들은 ['사과', '바나나', '애플', '붜내놔'] 입니다\n"
          ]
        }
      ]
    },
    {
      "cell_type": "code",
      "source": [
        "for i in range(1, 101):\n",
        "    str_i = str(i)\n",
        "    count_369 = 0\n",
        "    for x in str_i:\n",
        "        if (x == '3') or (x == '6') or (x == '9'):\n",
        "            count_369 += 1\n",
        "    if count_369 == 0:\n",
        "        print(i,end='\\t')\n",
        "    else:\n",
        "        print(count_369 * '짝',end='\\t')\n",
        "    if i%10 ==0:\n",
        "      print('\\n')"
      ],
      "metadata": {
        "colab": {
          "base_uri": "https://localhost:8080/"
        },
        "id": "HNiv-wCAbu81",
        "outputId": "422bc996-cf3d-4ac9-8f02-8992b81fdf3f"
      },
      "execution_count": 154,
      "outputs": [
        {
          "output_type": "stream",
          "name": "stdout",
          "text": [
            "1\t2\t짝\t4\t5\t짝\t7\t8\t짝\t10\t\n",
            "\n",
            "11\t12\t짝\t14\t15\t짝\t17\t18\t짝\t20\t\n",
            "\n",
            "21\t22\t짝\t24\t25\t짝\t27\t28\t짝\t짝\t\n",
            "\n",
            "짝\t짝\t짝짝\t짝\t짝\t짝짝\t짝\t짝\t짝짝\t40\t\n",
            "\n",
            "41\t42\t짝\t44\t45\t짝\t47\t48\t짝\t50\t\n",
            "\n",
            "51\t52\t짝\t54\t55\t짝\t57\t58\t짝\t짝\t\n",
            "\n",
            "짝\t짝\t짝짝\t짝\t짝\t짝짝\t짝\t짝\t짝짝\t70\t\n",
            "\n",
            "71\t72\t짝\t74\t75\t짝\t77\t78\t짝\t80\t\n",
            "\n",
            "81\t82\t짝\t84\t85\t짝\t87\t88\t짝\t짝\t\n",
            "\n",
            "짝\t짝\t짝짝\t짝\t짝\t짝짝\t짝\t짝\t짝짝\t100\t\n",
            "\n"
          ]
        }
      ]
    },
    {
      "cell_type": "code",
      "source": [
        ""
      ],
      "metadata": {
        "id": "vyx_s9WeiV2M"
      },
      "execution_count": null,
      "outputs": []
    }
  ],
  "metadata": {
    "colab": {
      "name": "day03.ipynb",
      "provenance": [],
      "collapsed_sections": [],
      "authorship_tag": "ABX9TyPF1n69t3n+hZT+AjJdExEZ",
      "include_colab_link": true
    },
    "kernelspec": {
      "display_name": "Python 3",
      "name": "python3"
    },
    "language_info": {
      "name": "python"
    }
  },
  "nbformat": 4,
  "nbformat_minor": 0
}