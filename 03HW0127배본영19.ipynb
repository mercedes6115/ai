{
  "nbformat": 4,
  "nbformat_minor": 0,
  "metadata": {
    "colab": {
      "name": "03HW0127배본영19.ipynb",
      "provenance": [],
      "authorship_tag": "ABX9TyP3jHpD2tAgV2JnfIvDxx7T",
      "include_colab_link": true
    },
    "kernelspec": {
      "name": "python3",
      "display_name": "Python 3"
    },
    "language_info": {
      "name": "python"
    }
  },
  "cells": [
    {
      "cell_type": "markdown",
      "metadata": {
        "id": "view-in-github",
        "colab_type": "text"
      },
      "source": [
        "<a href=\"https://colab.research.google.com/github/mercedes6115/ai/blob/main/03HW0127%EB%B0%B0%EB%B3%B8%EC%98%8119.ipynb\" target=\"_parent\"><img src=\"https://colab.research.google.com/assets/colab-badge.svg\" alt=\"Open In Colab\"/></a>"
      ]
    },
    {
      "cell_type": "code",
      "execution_count": 1,
      "metadata": {
        "id": "AzTYrKiqjaS9"
      },
      "outputs": [],
      "source": [
        "inventory = {\"메로나\": [300, 20],\n",
        "             \"비비빅\": [400, 3],\n",
        "             \"죠스바\": [250, 100]}\n"
      ]
    },
    {
      "cell_type": "code",
      "source": [
        "inventory = {\"메로나\": [300, 20],\n",
        "             \"비비빅\": [400, 3],\n",
        "             \"죠스바\": [250, 100]}\n",
        "print(f'{inventory[\"메로나\"][0]}원')"
      ],
      "metadata": {
        "colab": {
          "base_uri": "https://localhost:8080/"
        },
        "id": "jIEUIj1Ojj0y",
        "outputId": "c712c07c-00ad-46fa-9e2d-ef5b493d1c04"
      },
      "execution_count": 4,
      "outputs": [
        {
          "output_type": "stream",
          "name": "stdout",
          "text": [
            "300원\n"
          ]
        }
      ]
    },
    {
      "cell_type": "code",
      "source": [
        "inventory = {\"메로나\": [300, 20],\n",
        "             \"비비빅\": [400, 3],\n",
        "             \"죠스바\": [250, 100]}\n",
        "print(f'{inventory[\"메로나\"][1]}개')"
      ],
      "metadata": {
        "colab": {
          "base_uri": "https://localhost:8080/"
        },
        "id": "xM_k8r41j2cw",
        "outputId": "608e60eb-fab6-4786-cf31-7b301e30b796"
      },
      "execution_count": 5,
      "outputs": [
        {
          "output_type": "stream",
          "name": "stdout",
          "text": [
            "20개\n"
          ]
        }
      ]
    },
    {
      "cell_type": "code",
      "source": [
        "inventory = {\"메로나\": [300, 20],\n",
        "             \"비비빅\": [400, 3],\n",
        "             \"죠스바\": [250, 100]}\n",
        "inventory[\"월드콘\"]=[500,7]\n",
        "print(inventory)"
      ],
      "metadata": {
        "colab": {
          "base_uri": "https://localhost:8080/"
        },
        "id": "C3E38MCAj7Ui",
        "outputId": "2d234532-884d-4664-fe0e-8e2c07203154"
      },
      "execution_count": 7,
      "outputs": [
        {
          "output_type": "stream",
          "name": "stdout",
          "text": [
            "{'메로나': [300, 20], '비비빅': [400, 3], '죠스바': [250, 100], '월드콘': [500, 7]}\n"
          ]
        }
      ]
    },
    {
      "cell_type": "code",
      "source": [
        "icecream = {'탱크보이': 1200, '폴라포': 1200, '빵빠레': 1800, '월드콘': 1500, '메로나': 1000}\n",
        "list_ice=list(icecream.keys())\n",
        "\n",
        "\n",
        "print(list_ice)\n"
      ],
      "metadata": {
        "colab": {
          "base_uri": "https://localhost:8080/"
        },
        "id": "rjjltpEDkRFE",
        "outputId": "3f9bd24d-b380-4acf-86ee-0d24f97ecb71"
      },
      "execution_count": 10,
      "outputs": [
        {
          "output_type": "stream",
          "name": "stdout",
          "text": [
            "['탱크보이', '폴라포', '빵빠레', '월드콘', '메로나']\n"
          ]
        }
      ]
    },
    {
      "cell_type": "code",
      "source": [
        "icecream = {'탱크보이': 1200, '폴라포': 1200, '빵빠레': 1800, '월드콘': 1500, '메로나': 1000}\n",
        "list1=list(icecream.values())\n",
        "print(list1)\n"
      ],
      "metadata": {
        "colab": {
          "base_uri": "https://localhost:8080/"
        },
        "id": "XmiBnrbFlIPf",
        "outputId": "a088612b-103a-4baa-f871-1c1564815452"
      },
      "execution_count": 11,
      "outputs": [
        {
          "output_type": "stream",
          "name": "stdout",
          "text": [
            "[1200, 1200, 1800, 1500, 1000]\n"
          ]
        }
      ]
    },
    {
      "cell_type": "code",
      "source": [
        "icecream = {'탱크보이': 1200, '폴라포': 1200, '빵빠레': 1800, '월드콘': 1500, '메로나': 1000}\n",
        "\n",
        "total=sum(icecream.values())\n",
        "\n",
        "print(total)"
      ],
      "metadata": {
        "colab": {
          "base_uri": "https://localhost:8080/"
        },
        "id": "b19qBH8klZhc",
        "outputId": "7fb79646-f515-4fb7-90e9-f3403a4655e6"
      },
      "execution_count": 13,
      "outputs": [
        {
          "output_type": "stream",
          "name": "stdout",
          "text": [
            "6700\n"
          ]
        }
      ]
    },
    {
      "cell_type": "code",
      "source": [
        "icecream = {'탱크보이': 1200, '폴라포': 1200, '빵빠레': 1800, '월드콘': 1500, '메로나': 1000}\n",
        "new_product = {'팥빙수':2700, '아맛나':1000}\n",
        "\n",
        "icecream.update(new_product)\n",
        "print(icecream)\n"
      ],
      "metadata": {
        "colab": {
          "base_uri": "https://localhost:8080/"
        },
        "id": "ipHsL54Tlnob",
        "outputId": "2906b060-48f7-4044-def4-a30a650cd66b"
      },
      "execution_count": 14,
      "outputs": [
        {
          "output_type": "stream",
          "name": "stdout",
          "text": [
            "{'탱크보이': 1200, '폴라포': 1200, '빵빠레': 1800, '월드콘': 1500, '메로나': 1000, '팥빙수': 2700, '아맛나': 1000}\n"
          ]
        }
      ]
    },
    {
      "cell_type": "code",
      "source": [
        "keys = (\"apple\", \"pear\", \"peach\")\n",
        "vals = (300, 250, 400)\n",
        "\n",
        "new_dict = dict(zip(keys, vals))\n",
        "\n",
        "print(new_dict)\n",
        "\n"
      ],
      "metadata": {
        "colab": {
          "base_uri": "https://localhost:8080/"
        },
        "id": "CnMEF5nmluDc",
        "outputId": "f4df3807-dd2f-4b5e-e246-ae8f9d1aab82"
      },
      "execution_count": 15,
      "outputs": [
        {
          "output_type": "stream",
          "name": "stdout",
          "text": [
            "{'apple': 300, 'pear': 250, 'peach': 400}\n"
          ]
        }
      ]
    },
    {
      "cell_type": "code",
      "source": [
        "date = ['09/05', '09/06', '09/07', '09/08', '09/09']\n",
        "close_price = [10500, 10300, 10100, 10800, 11000]\n",
        "new_dict = dict(zip(date, close_price))\n",
        "\n",
        "print(new_dict)\n"
      ],
      "metadata": {
        "id": "yEk92Ib0l6lQ"
      },
      "execution_count": null,
      "outputs": []
    },
    {
      "cell_type": "code",
      "source": [
        "list1=[3,-20,-3,44]\n",
        "for i in list1:\n",
        "  if i <0:\n",
        "    print(i)"
      ],
      "metadata": {
        "colab": {
          "base_uri": "https://localhost:8080/"
        },
        "id": "4T8tWD0il_Yj",
        "outputId": "12a6d6d3-5b73-4ffb-c4cf-b1827caba548"
      },
      "execution_count": 16,
      "outputs": [
        {
          "output_type": "stream",
          "name": "stdout",
          "text": [
            "-20\n",
            "-3\n"
          ]
        }
      ]
    },
    {
      "cell_type": "code",
      "source": [
        "list1=[3,100,23,44]\n",
        "for i in list1:\n",
        "  if i %3 == 0:\n",
        "    print(i)"
      ],
      "metadata": {
        "colab": {
          "base_uri": "https://localhost:8080/"
        },
        "id": "CC8Sq5awl5IK",
        "outputId": "5f5d4e11-1a3a-4261-dad1-0f326eb6cca5"
      },
      "execution_count": 18,
      "outputs": [
        {
          "output_type": "stream",
          "name": "stdout",
          "text": [
            "3\n"
          ]
        }
      ]
    },
    {
      "cell_type": "code",
      "source": [
        "list1=[13,21,12,14,30,18]\n",
        "for i in list1:\n",
        "  if i %3 == 0 and i<20:\n",
        "    print(i)"
      ],
      "metadata": {
        "colab": {
          "base_uri": "https://localhost:8080/"
        },
        "id": "owXtxlqwmXa1",
        "outputId": "14d355a7-6df0-4991-e72e-4829fc48023e"
      },
      "execution_count": 19,
      "outputs": [
        {
          "output_type": "stream",
          "name": "stdout",
          "text": [
            "12\n",
            "18\n"
          ]
        }
      ]
    },
    {
      "cell_type": "code",
      "source": [
        "list1 = [\"I\", \"study\", \"python\", \"language\", \"!\"]\n",
        "\n",
        "for i in list1:\n",
        "  if len(i) >=3:\n",
        "    print(i)"
      ],
      "metadata": {
        "colab": {
          "base_uri": "https://localhost:8080/"
        },
        "id": "JHMCToaUmizd",
        "outputId": "740e67cd-dbc1-4850-efb7-bc617cdf6b7e"
      },
      "execution_count": 20,
      "outputs": [
        {
          "output_type": "stream",
          "name": "stdout",
          "text": [
            "study\n",
            "python\n",
            "language\n"
          ]
        }
      ]
    },
    {
      "cell_type": "code",
      "source": [
        "list1 = [\"A\", \"b\", \"c\", \"D\"]\n",
        "for i in list1:\n",
        "  if i.isupper():\n",
        "    print(i)\n"
      ],
      "metadata": {
        "colab": {
          "base_uri": "https://localhost:8080/"
        },
        "id": "wvEAWiAAmgXV",
        "outputId": "6c700e3a-5a72-4bc8-93d3-336036bed0a2"
      },
      "execution_count": 22,
      "outputs": [
        {
          "output_type": "stream",
          "name": "stdout",
          "text": [
            "A\n",
            "D\n"
          ]
        }
      ]
    },
    {
      "cell_type": "code",
      "source": [
        "list1 = [\"A\", \"b\", \"c\", \"D\"]\n",
        "for i in list1:\n",
        "  if i.islower():\n",
        "    print(i)"
      ],
      "metadata": {
        "colab": {
          "base_uri": "https://localhost:8080/"
        },
        "id": "Et9ffh5QnE1c",
        "outputId": "cb165cfe-269a-47db-b3a9-872f4002ab7e"
      },
      "execution_count": 23,
      "outputs": [
        {
          "output_type": "stream",
          "name": "stdout",
          "text": [
            "b\n",
            "c\n"
          ]
        }
      ]
    },
    {
      "cell_type": "code",
      "source": [
        "list1 = ['dog', 'cat', 'parrot']\n",
        "for i in list1:\n",
        "  f_letter=i[0]\n",
        "  Big=f_letter.upper()\n",
        "  print(f'{Big}{i[1:]}')\n"
      ],
      "metadata": {
        "colab": {
          "base_uri": "https://localhost:8080/"
        },
        "id": "XmP2KaCRnJ5x",
        "outputId": "426e521a-3692-498c-8400-26a5622f750d"
      },
      "execution_count": 26,
      "outputs": [
        {
          "output_type": "stream",
          "name": "stdout",
          "text": [
            "Dog\n",
            "Cat\n",
            "Parrot\n"
          ]
        }
      ]
    },
    {
      "cell_type": "code",
      "source": [
        "list1 = ['hello.py', 'ex01.py', 'intro.hwp']\n",
        "for i in list1:\n",
        "  Extension = i.split(\".\")\n",
        "  print(Extension[0])  "
      ],
      "metadata": {
        "colab": {
          "base_uri": "https://localhost:8080/"
        },
        "id": "FSdsqF9VnpOH",
        "outputId": "1aa6a8ce-5280-42ca-98cd-919d95000242"
      },
      "execution_count": 27,
      "outputs": [
        {
          "output_type": "stream",
          "name": "stdout",
          "text": [
            "hello\n",
            "ex01\n",
            "intro\n"
          ]
        }
      ]
    },
    {
      "cell_type": "code",
      "source": [
        "list1 = ['intra.h', 'intra.c', 'define.h', 'run.py']\n",
        "for i in list1:\n",
        "  header = i.split(\".\")\n",
        "  if header[1] == \"h\":\n",
        "    print(i)"
      ],
      "metadata": {
        "colab": {
          "base_uri": "https://localhost:8080/"
        },
        "id": "qeUqGBaLn6rC",
        "outputId": "ee318288-5bfd-448d-f6ae-6c8b27cf9b73"
      },
      "execution_count": 28,
      "outputs": [
        {
          "output_type": "stream",
          "name": "stdout",
          "text": [
            "intra.h\n",
            "define.h\n"
          ]
        }
      ]
    },
    {
      "cell_type": "code",
      "source": [
        "list1 = ['intra.h', 'intra.c', 'define.h', 'run.py']\n",
        "for i in list1:\n",
        "  Extension = i.split(\".\")\n",
        "  if (Extension[1] == \"h\") or (Extension[1] == \"c\"):\n",
        "    print(i)"
      ],
      "metadata": {
        "colab": {
          "base_uri": "https://localhost:8080/"
        },
        "id": "x23AEsAYoIFu",
        "outputId": "10715b9c-4d72-4a55-ad6f-f3f389944519"
      },
      "execution_count": 29,
      "outputs": [
        {
          "output_type": "stream",
          "name": "stdout",
          "text": [
            "intra.h\n",
            "intra.c\n",
            "define.h\n"
          ]
        }
      ]
    }
  ]
}