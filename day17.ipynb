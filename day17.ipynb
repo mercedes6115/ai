{
  "nbformat": 4,
  "nbformat_minor": 0,
  "metadata": {
    "colab": {
      "name": "day17.ipynb",
      "provenance": [],
      "collapsed_sections": [],
      "authorship_tag": "ABX9TyNXOXtmjsMfmqG1iTOunm3S",
      "include_colab_link": true
    },
    "kernelspec": {
      "name": "python3",
      "display_name": "Python 3"
    },
    "language_info": {
      "name": "python"
    }
  },
  "cells": [
    {
      "cell_type": "markdown",
      "metadata": {
        "id": "view-in-github",
        "colab_type": "text"
      },
      "source": [
        "<a href=\"https://colab.research.google.com/github/mercedes6115/ai/blob/main/day17.ipynb\" target=\"_parent\"><img src=\"https://colab.research.google.com/assets/colab-badge.svg\" alt=\"Open In Colab\"/></a>"
      ]
    },
    {
      "cell_type": "code",
      "execution_count": 1,
      "metadata": {
        "colab": {
          "base_uri": "https://localhost:8080/"
        },
        "id": "vD7VC4fdmvPR",
        "outputId": "a14a3b11-7674-4149-de85-eb1a1102d599"
      },
      "outputs": [
        {
          "output_type": "stream",
          "name": "stdout",
          "text": [
            "[0, 1, 1, 2, 3, 5, 8, 13, 21, 34, 55, 89]\n",
            "12개의 수가 정상적으로 저장되었습니다\n"
          ]
        }
      ],
      "source": [
        "# Function ( subprograms )\n",
        "\n",
        "# Blocks of code which perform specific tasks and can be called upon at any time \n",
        "# in the program to run that code.\n",
        "\n",
        "# Advantages\n",
        "# - it can be used and reused at diffenent times during the program.\n",
        "# - it makes the program simpler to understand as the code is grouped together into chunks.\n",
        "\n",
        "def get_name():  #4\n",
        "  user_name = input('Enter your name : ')  #5\n",
        "  return user_name  #6\n",
        "\n",
        "def print_Msg(user_name):  #9\n",
        "  print(\"Hello\", user_name)  # 10\n",
        "\n",
        "def main():   #2\n",
        "  user_name = get_name()  #3  # 7\n",
        "  print_Msg(user_name)  #8\n",
        "\n",
        "\n",
        "main()   #1\n",
        "\n",
        "# 4 5 6 9 10 2 3 7 1"
      ]
    },
    {
      "cell_type": "code",
      "source": [
        "def get_data():  #4\n",
        "    user_name = input('Enter your name : ')           #5\n",
        "    user_age = int(input('Enter your age : '))  # 20 살일 경우   #6\n",
        "    data_tuple = (user_name, user_age)  #7\n",
        "    return data_tuple #8\n",
        "\n",
        "def message(user_name, user_age):  # 11\n",
        "  if user_age <= 10:   # 12\n",
        "    print('Hi', user_name)\n",
        "  else:                     #13\n",
        "    print('Hello', user_name) # 14\n",
        "\n",
        "def main():   # 2\n",
        "  user_name, user_age = get_data()  # 3  #9 \n",
        "  message(user_name, user_age) # 10  (#15)\n",
        "\n",
        "main()      #1\n",
        "\n",
        "# 4 5 6 7 8 11 12 13 2 3 9 10 (14) 1"
      ],
      "metadata": {
        "id": "ZTeqo9gBuxE8"
      },
      "execution_count": null,
      "outputs": []
    },
    {
      "cell_type": "code",
      "source": [
        "# Quiz\n",
        "\n",
        "# Define a subprogram that will ask the user to enter a number and save it as the variable \n",
        "# 'num' . Define another subprogram that will use 'num' and count from 1 to that number.\n",
        "\n",
        "def sub():\n",
        "  num = int(input('Enter a number : '))\n",
        "  sub2(num)\n",
        "\n",
        "def sub2(num):\n",
        "  cnt=0\n",
        "  for i in range(1,num+1):\n",
        "    cnt+=1\n",
        "  sub3(cnt)\n",
        "\n",
        "def sub3(cnt):\n",
        "  print(cnt)\n",
        "\n",
        "sub()\n"
      ],
      "metadata": {
        "id": "r4mxfd-ZuxJK"
      },
      "execution_count": null,
      "outputs": []
    },
    {
      "cell_type": "code",
      "source": [
        "# Define a subprogram  that will ask the user to  pick a low and a high  number, \n",
        "# and then  generate a random  number between those  two values and store it in  \n",
        "# a variable called  “comp_num”.  \n",
        "\n",
        "# Define another  subprogram that will  give the instruction \n",
        "# “I am  thinking of a number…”  and then ask the user to  guess the number \n",
        "# they  are thinking of.  \n",
        "\n",
        "# Define a third  subprogram that will  check to see \n",
        "# if the  comp_num is the same  as the user’s guess. If it  is, \n",
        "# it should display the  message “Correct, you  win”, \n",
        "# otherwise it should  keep looping, telling the  user if they are too low or  too high \n",
        "# and asking them  to guess again until they  guess correctly. \n",
        "\n",
        "# Condition : 4 subprograms \n",
        "\n",
        "import random\n",
        "\n",
        "def pick_num():\n",
        "  low = int(input('Enter the bottom of the range : '))\n",
        "  high = int(input('Enter the top of the range : '))\n",
        "  comp_num = random.randint(low, high)\n",
        "  return comp_num\n",
        "\n",
        "def first_guess():\n",
        "  print('I am thinking of a number...')\n",
        "  guess = int(input('WHat am I thinking of : '))\n",
        "  return guess\n",
        "\n",
        "def check_answer(comp_num, guess):\n",
        "  try_again = True\n",
        "  while try_again == True:\n",
        "    if comp_num == guess:\n",
        "      print('Correct, you win')\n",
        "      try_again = False\n",
        "    elif comp_num > guess:\n",
        "      guess = int(input('too low, try again'))\n",
        "    else:\n",
        "      guess = int(input('too high, try again'))\n",
        "      \n",
        "def main():\n",
        "  comp_num = pick_num()\n",
        "  guess = first_guess()\n",
        "  check_answer(comp_num, guess)\n",
        "\n",
        "main()\n",
        "\n"
      ],
      "metadata": {
        "id": "rNRuLg8GuxMk"
      },
      "execution_count": null,
      "outputs": []
    }
  ]
}