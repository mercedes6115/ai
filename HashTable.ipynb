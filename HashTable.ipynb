{
  "nbformat": 4,
  "nbformat_minor": 0,
  "metadata": {
    "colab": {
      "name": "HashTable.ipynb",
      "provenance": [],
      "collapsed_sections": [],
      "authorship_tag": "ABX9TyNP3BryWl4qhkDw4ynXvSBY",
      "include_colab_link": true
    },
    "kernelspec": {
      "name": "python3",
      "display_name": "Python 3"
    },
    "language_info": {
      "name": "python"
    }
  },
  "cells": [
    {
      "cell_type": "markdown",
      "metadata": {
        "id": "view-in-github",
        "colab_type": "text"
      },
      "source": [
        "<a href=\"https://colab.research.google.com/github/mercedes6115/ai/blob/main/HashTable.ipynb\" target=\"_parent\"><img src=\"https://colab.research.google.com/assets/colab-badge.svg\" alt=\"Open In Colab\"/></a>"
      ]
    },
    {
      "cell_type": "code",
      "execution_count": 1,
      "metadata": {
        "colab": {
          "base_uri": "https://localhost:8080/"
        },
        "id": "Tpp76wO79q5o",
        "outputId": "bf94d836-aa9f-4765-dd4c-2f0d180dab7a"
      },
      "outputs": [
        {
          "output_type": "stream",
          "name": "stdout",
          "text": [
            "[0, 0, 0, 0, 0, 0, 0, 0]\n",
            "[[[-1238147211104933288, '01033226666']], 0, 0, [[1484783505407699323, '01044998855']], 0, 0, 0, [[1691622755587623615, '01043885555']]]\n"
          ]
        }
      ],
      "source": [
        "hash_table = list([0 for i in range(8)])\n",
        "print(hash_table) # [0, 0, 0, 0, 0, 0, 0, 0]\n",
        "\n",
        "def get_key(data):\n",
        "    return hash(data)\n",
        "\n",
        "def hash_func(key):\n",
        "    return key % 8\n",
        "\n",
        "\n",
        "def save_data(data, value):\n",
        "    index_key = get_key(data) # index_key 추가\n",
        "    hash_address = hash_func(index_key) # 해싱 함수에 index_key 대입\n",
        "\n",
        "    if hash_table[hash_address] != 0: # 해쉬 테이블에 데이터가 차 있으면(충돌이 일어나면)\n",
        "        for index in range(len(hash_table[hash_address])):\n",
        "            if hash_table[hash_address][index][0] == index_key:\n",
        "                hash_table[hash_address][index][1] = value\n",
        "                return\n",
        "        hash_table[hash_address].append([index_key], value) # 키가 동일하지 않으면 data를 연결해서 저장\n",
        "    else: # 해쉬 충돌이 발생하지 않으면 그 공간에 데이터와 키값 저장\n",
        "        hash_table[hash_address] = [[index_key, value]]\n",
        "\n",
        "\n",
        "def read_data(data):\n",
        "    index_key = get_key(data)\n",
        "    hash_address = hash_func(index_key)\n",
        "\n",
        "    if hash_table[hash_address] != 0:\n",
        "        for index in range(len(hash_table[hash_address])):\n",
        "            if hash_table[hash_address][index][0] == index_key:\n",
        "                print(hash_table[hash_address][index][1])\n",
        "        return None\n",
        "    else:\n",
        "        return None\n",
        "\n",
        "\n",
        "save_data('sh','01043885555')\n",
        "save_data('st','01044998855')\n",
        "save_data('sn','01033226666')\n",
        "\n",
        "print(hash_table) # "
      ]
    }
  ]
}