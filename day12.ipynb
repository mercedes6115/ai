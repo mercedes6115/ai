{
  "nbformat": 4,
  "nbformat_minor": 0,
  "metadata": {
    "colab": {
      "name": "day12.ipynb",
      "provenance": [],
      "collapsed_sections": [],
      "authorship_tag": "ABX9TyML9Cxpg5UwXlLLlwJRW5XU",
      "include_colab_link": true
    },
    "kernelspec": {
      "name": "python3",
      "display_name": "Python 3"
    },
    "language_info": {
      "name": "python"
    }
  },
  "cells": [
    {
      "cell_type": "markdown",
      "metadata": {
        "id": "view-in-github",
        "colab_type": "text"
      },
      "source": [
        "<a href=\"https://colab.research.google.com/github/mercedes6115/ai/blob/main/day12.ipynb\" target=\"_parent\"><img src=\"https://colab.research.google.com/assets/colab-badge.svg\" alt=\"Open In Colab\"/></a>"
      ]
    },
    {
      "cell_type": "code",
      "execution_count": 2,
      "metadata": {
        "colab": {
          "base_uri": "https://localhost:8080/"
        },
        "id": "vU-OBbpf5KCY",
        "outputId": "41d9a51a-2232-487b-ee86-eaafb554878b"
      },
      "outputs": [
        {
          "output_type": "stream",
          "name": "stdout",
          "text": [
            "3.15\n"
          ]
        }
      ],
      "source": [
        "# maths \n",
        "\n",
        "num=3.146592\n",
        "\n",
        "print(round(num,2)) # 소수 3번째 자리에서 반올림후 두번째 자리까지 표시  "
      ]
    },
    {
      "cell_type": "code",
      "source": [
        "num=12\n",
        "\n",
        "print(pow(num,3)) # num 의 3승 "
      ],
      "metadata": {
        "colab": {
          "base_uri": "https://localhost:8080/"
        },
        "id": "Xn4yteV-7IHT",
        "outputId": "02e5acc7-0af4-4c60-acb6-11b510928270"
      },
      "execution_count": 5,
      "outputs": [
        {
          "output_type": "stream",
          "name": "stdout",
          "text": [
            "1728\n"
          ]
        }
      ]
    },
    {
      "cell_type": "code",
      "source": [
        "import math \n",
        "\n",
        "print(math.sqrt(1000)) # 제곱근"
      ],
      "metadata": {
        "colab": {
          "base_uri": "https://localhost:8080/"
        },
        "id": "a2lapxZn7XRO",
        "outputId": "f8b14b56-f4c8-4700-a4a2-2b595b7f49c7"
      },
      "execution_count": 6,
      "outputs": [
        {
          "output_type": "stream",
          "name": "stdout",
          "text": [
            "31.622776601683793\n"
          ]
        }
      ]
    },
    {
      "cell_type": "code",
      "source": [
        "print(math.pi) # 원주율 "
      ],
      "metadata": {
        "colab": {
          "base_uri": "https://localhost:8080/"
        },
        "id": "h00VIyy37hlQ",
        "outputId": "d171d930-7195-4bc6-a04f-0c8e82dcdd98"
      },
      "execution_count": 7,
      "outputs": [
        {
          "output_type": "stream",
          "name": "stdout",
          "text": [
            "3.141592653589793\n"
          ]
        }
      ]
    },
    {
      "cell_type": "code",
      "source": [
        "print(9//2) # 몫 구하기 \n",
        "print(9/2) # 계산값 \n",
        "print(9%2) # 나머지 연산자"
      ],
      "metadata": {
        "colab": {
          "base_uri": "https://localhost:8080/"
        },
        "id": "cC1i4IJv758K",
        "outputId": "3c587c57-1f01-4b3e-f398-420365aa0204"
      },
      "execution_count": 11,
      "outputs": [
        {
          "output_type": "stream",
          "name": "stdout",
          "text": [
            "4\n",
            "4.5\n",
            "1\n"
          ]
        }
      ]
    },
    {
      "cell_type": "code",
      "source": [
        "# Quiz\n",
        "num = int(input('Enter a number over 500: '))\n",
        "print(f'{round(math.sqrt(num),2)}')"
      ],
      "metadata": {
        "colab": {
          "base_uri": "https://localhost:8080/"
        },
        "id": "Idv2wpuA8UE8",
        "outputId": "87abddf1-ab04-48d9-c497-980e8a961b39"
      },
      "execution_count": 13,
      "outputs": [
        {
          "output_type": "stream",
          "name": "stdout",
          "text": [
            "Enter a number over 500: 777\n",
            "27.87\n"
          ]
        }
      ]
    },
    {
      "cell_type": "code",
      "source": [
        "# Quiz \n",
        "\n",
        "num = int(input('Enter the radius of a circle: '))\n",
        "print(f'{math.pi * pow(num,2)}')\n"
      ],
      "metadata": {
        "colab": {
          "base_uri": "https://localhost:8080/"
        },
        "id": "4kbRHcgO9bGI",
        "outputId": "856a4faa-826b-4167-9dff-3e2145a55e04"
      },
      "execution_count": 15,
      "outputs": [
        {
          "output_type": "stream",
          "name": "stdout",
          "text": [
            "Enter the radius of a circle: 4\n",
            "50.26548245743669\n"
          ]
        }
      ]
    },
    {
      "cell_type": "code",
      "source": [
        "# Quiz \n",
        "\n",
        "num1,num2 = input('Enter 2 numbers: ').split()\n",
        "num1 = int(num1)\n",
        "num2 = int(num2)\n",
        "print(f'{num1} divided by {num2} is {num1 // num2} with {num1 % num2} remaining')"
      ],
      "metadata": {
        "colab": {
          "base_uri": "https://localhost:8080/"
        },
        "id": "kaKPH8zF-h10",
        "outputId": "150bf750-33f7-48c0-9c43-d1ae82146b79"
      },
      "execution_count": 17,
      "outputs": [
        {
          "output_type": "stream",
          "name": "stdout",
          "text": [
            "Enter 2 numbers: 7 2\n",
            "7 divided by 2 is 3 with 1 remaining\n"
          ]
        }
      ]
    },
    {
      "cell_type": "code",
      "source": [
        "# Quiz \n",
        "print ('1) Square')\n",
        "print ('2) Triangle')\n",
        "print('')\n",
        "choice = input('Enter a number: ')\n",
        "\n",
        "if choice == '1':\n",
        "  side = int(input(\"What's the length of a square?: \"))\n",
        "  print(f'The area is {side *side}')\n",
        "\n",
        "elif choice == '2' :\n",
        "  num1,num2 = input(\"What's the length and height of this triangle?:\").split()\n",
        "  num1= int(num1)\n",
        "  num2= int(num2)\n",
        "  print(f'The area is {(num1 * num2)/2}')\n",
        "\n",
        "else:\n",
        "  print('Incorrect option selected')"
      ],
      "metadata": {
        "colab": {
          "base_uri": "https://localhost:8080/"
        },
        "id": "GwbEvhlT_n5M",
        "outputId": "50b0919f-6555-4703-d843-2080777f214e"
      },
      "execution_count": 24,
      "outputs": [
        {
          "output_type": "stream",
          "name": "stdout",
          "text": [
            "1) Square\n",
            "2) Triangle\n",
            "\n",
            "Enter a number: 1\n",
            "What's the length of a square?: 12\n",
            "The area is 144\n"
          ]
        }
      ]
    },
    {
      "cell_type": "code",
      "source": [
        "# for 반복문 \n",
        "\n",
        "# for i in range(start, stop, step) stop,step 은 생략 가능 \n",
        "\n",
        "name , num = input('name and number: ').split()\n",
        "\n",
        "num = int(num)\n",
        "for i in range(num):\n",
        "  print(name)\n"
      ],
      "metadata": {
        "colab": {
          "base_uri": "https://localhost:8080/"
        },
        "id": "c99EVOzfB2bG",
        "outputId": "d44cc320-43d7-4354-c7fb-bf30680b07ec"
      },
      "execution_count": 28,
      "outputs": [
        {
          "output_type": "stream",
          "name": "stdout",
          "text": [
            "name and number: qoqhsdud 5\n",
            "qoqhsdud\n",
            "qoqhsdud\n",
            "qoqhsdud\n",
            "qoqhsdud\n",
            "qoqhsdud\n"
          ]
        }
      ]
    },
    {
      "cell_type": "code",
      "source": [
        "name = input('name : ')\n",
        "for i in name:\n",
        "  print (i)"
      ],
      "metadata": {
        "colab": {
          "base_uri": "https://localhost:8080/"
        },
        "id": "xPpretySLGhi",
        "outputId": "769a6ade-4f32-470c-df4f-4ea7106c4816"
      },
      "execution_count": 30,
      "outputs": [
        {
          "output_type": "stream",
          "name": "stdout",
          "text": [
            "name : qweqweqwe\n",
            "q\n",
            "w\n",
            "e\n",
            "q\n",
            "w\n",
            "e\n",
            "q\n",
            "w\n",
            "e\n"
          ]
        }
      ]
    },
    {
      "cell_type": "code",
      "source": [
        "num = int(input('num: '))\n",
        "\n",
        "for i in range(50,num-1,-1):\n",
        "  print(i)"
      ],
      "metadata": {
        "colab": {
          "base_uri": "https://localhost:8080/"
        },
        "id": "J4oK_Q1lMP5G",
        "outputId": "1cd29c03-3b81-419e-c283-79d62c6edcb7"
      },
      "execution_count": 33,
      "outputs": [
        {
          "output_type": "stream",
          "name": "stdout",
          "text": [
            "num: 35\n",
            "50\n",
            "49\n",
            "48\n",
            "47\n",
            "46\n",
            "45\n",
            "44\n",
            "43\n",
            "42\n",
            "41\n",
            "40\n",
            "39\n",
            "38\n",
            "37\n",
            "36\n",
            "35\n"
          ]
        }
      ]
    },
    {
      "cell_type": "code",
      "source": [
        "# 파이썬 기본 별찍기 \n",
        "num = int(input('star: '))\n",
        "\n",
        "for i in range(1,num+1):\n",
        "  for j in range(i):\n",
        "    print('*',end='')\n",
        "  print('')"
      ],
      "metadata": {
        "colab": {
          "base_uri": "https://localhost:8080/"
        },
        "id": "TTgLE6OlNVmt",
        "outputId": "5b1281bc-78a0-4717-eb12-1d8c05df74b0"
      },
      "execution_count": 39,
      "outputs": [
        {
          "output_type": "stream",
          "name": "stdout",
          "text": [
            "star: 9\n",
            "*\n",
            "**\n",
            "***\n",
            "****\n",
            "*****\n",
            "******\n",
            "*******\n",
            "********\n",
            "*********\n"
          ]
        }
      ]
    },
    {
      "cell_type": "code",
      "source": [
        "# Quiz\n",
        "total = 0\n",
        "for i in range(5):\n",
        "  num = int(input('num: '))\n",
        "  q = input('add them? ')\n",
        "  if q == 'yes':\n",
        "    total = total + num\n",
        "  else:\n",
        "    pass\n",
        "print(total)"
      ],
      "metadata": {
        "colab": {
          "base_uri": "https://localhost:8080/"
        },
        "id": "MUQm_vnhOAo-",
        "outputId": "b19f47e3-f175-47bb-c9c2-f161eba69bd0"
      },
      "execution_count": 40,
      "outputs": [
        {
          "output_type": "stream",
          "name": "stdout",
          "text": [
            "num: 5\n",
            "add them? yes\n",
            "num: 6\n",
            "add them? no\n",
            "num: 6\n",
            "add them? yes\n",
            "num: 4\n",
            "add them? no\n",
            "num: 10\n",
            "add them? yes\n",
            "21\n"
          ]
        }
      ]
    },
    {
      "cell_type": "code",
      "source": [
        "# Quiz\n",
        "\n",
        "di = input('up or down: ')\n",
        "if di == 'up':\n",
        "  num = int(input('num: '))\n",
        "  for i in range(1,num + 1):\n",
        "    print(i)\n",
        "elif di == 'down':\n",
        "  num = int(input('num under 20: '))\n",
        "  for i in range(20, num - 1,-1):\n",
        "    print(i)\n",
        "else:\n",
        "  print(\"i don't understand\")"
      ],
      "metadata": {
        "colab": {
          "base_uri": "https://localhost:8080/"
        },
        "id": "BhaaQ9yWQ5wq",
        "outputId": "5cda1bd1-db4f-4b18-dce6-6906835932eb"
      },
      "execution_count": 45,
      "outputs": [
        {
          "output_type": "stream",
          "name": "stdout",
          "text": [
            "up or down: do\n",
            "i don't understand\n"
          ]
        }
      ]
    },
    {
      "cell_type": "code",
      "source": [
        "# Quiz\n",
        "inv= int(input('people: '))\n",
        "\n",
        "if inv < 10:\n",
        "  for i in range(inv):\n",
        "    name = input('name: ')\n",
        "    print(f'{name} has been invited')\n",
        "\n",
        "elif inv >= 10 :\n",
        "  print('Too many people')\n"
      ],
      "metadata": {
        "colab": {
          "base_uri": "https://localhost:8080/"
        },
        "id": "zXQe50JpWJVa",
        "outputId": "edc8ecf5-3a61-4b3e-e548-872311f51653"
      },
      "execution_count": 48,
      "outputs": [
        {
          "output_type": "stream",
          "name": "stdout",
          "text": [
            "people: 4\n",
            "name: sk\n",
            "sk has been invited\n",
            "name: dk\n",
            "dk has been invited\n",
            "name: rk\n",
            "rk has been invited\n",
            "name: ek\n",
            "ek has been invited\n"
          ]
        }
      ]
    },
    {
      "cell_type": "code",
      "source": [
        "# While 문\n",
        "\n",
        "total = 0 \n",
        "while total <= 50:\n",
        "  num = int(input('num:'))\n",
        "  total += num\n",
        "\n",
        "print(f'The total is ...{total}')\n",
        "\n"
      ],
      "metadata": {
        "colab": {
          "base_uri": "https://localhost:8080/"
        },
        "id": "4D4J30cHZlE0",
        "outputId": "b0da3db6-b4a2-4e68-9b0a-599d82a3eeb9"
      },
      "execution_count": 50,
      "outputs": [
        {
          "output_type": "stream",
          "name": "stdout",
          "text": [
            "num:45\n",
            "num:5\n",
            "num:5\n",
            "The total is ...55\n"
          ]
        }
      ]
    },
    {
      "cell_type": "code",
      "source": [
        ""
      ],
      "metadata": {
        "id": "pN5y3nFZd0Go"
      },
      "execution_count": null,
      "outputs": []
    }
  ]
}