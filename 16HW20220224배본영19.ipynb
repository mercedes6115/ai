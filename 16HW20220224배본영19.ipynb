{
  "nbformat": 4,
  "nbformat_minor": 0,
  "metadata": {
    "colab": {
      "name": "16HW20220224배본영19.ipynb",
      "provenance": [],
      "collapsed_sections": [],
      "authorship_tag": "ABX9TyOQ7YV9DN7ebbK4UMXZPtY0",
      "include_colab_link": true
    },
    "kernelspec": {
      "name": "python3",
      "display_name": "Python 3"
    },
    "language_info": {
      "name": "python"
    }
  },
  "cells": [
    {
      "cell_type": "markdown",
      "metadata": {
        "id": "view-in-github",
        "colab_type": "text"
      },
      "source": [
        "<a href=\"https://colab.research.google.com/github/mercedes6115/ai/blob/main/16HW20220224%EB%B0%B0%EB%B3%B8%EC%98%8119.ipynb\" target=\"_parent\"><img src=\"https://colab.research.google.com/assets/colab-badge.svg\" alt=\"Open In Colab\"/></a>"
      ]
    },
    {
      "cell_type": "code",
      "execution_count": null,
      "metadata": {
        "id": "oWGgOJ7vwkco"
      },
      "outputs": [],
      "source": [
        "# 1\n",
        "# 19"
      ]
    },
    {
      "cell_type": "code",
      "source": [
        "# 2\n",
        "# 배본영  "
      ],
      "metadata": {
        "id": "GkCvg6Z_woXZ"
      },
      "execution_count": null,
      "outputs": []
    },
    {
      "cell_type": "code",
      "source": [
        "# 3\n",
        "# d"
      ],
      "metadata": {
        "id": "sU86-bnxwodD"
      },
      "execution_count": null,
      "outputs": []
    },
    {
      "cell_type": "code",
      "source": [
        "# 4\n",
        "# b"
      ],
      "metadata": {
        "id": "NPN5PkdYwogw"
      },
      "execution_count": null,
      "outputs": []
    },
    {
      "cell_type": "code",
      "source": [
        "# 5\n",
        "# c"
      ],
      "metadata": {
        "id": "klVAbS21woi4"
      },
      "execution_count": null,
      "outputs": []
    },
    {
      "cell_type": "code",
      "source": [
        "# 6\n",
        "# d\n"
      ],
      "metadata": {
        "id": "IiEHbhtVwolK"
      },
      "execution_count": null,
      "outputs": []
    },
    {
      "cell_type": "code",
      "source": [
        "# 7\n",
        "# c"
      ],
      "metadata": {
        "id": "2kiRhW_1wonR"
      },
      "execution_count": null,
      "outputs": []
    },
    {
      "cell_type": "code",
      "source": [
        "# 8 \n",
        "# b"
      ],
      "metadata": {
        "id": "0YZ7DXVIwoq0"
      },
      "execution_count": null,
      "outputs": []
    },
    {
      "cell_type": "code",
      "source": [
        "# 9 \n",
        "# b"
      ],
      "metadata": {
        "id": "OGiB4m7VwoxN"
      },
      "execution_count": null,
      "outputs": []
    },
    {
      "cell_type": "code",
      "source": [
        "# 10 \n",
        "# a"
      ],
      "metadata": {
        "id": "IA8wEEddxNlO"
      },
      "execution_count": null,
      "outputs": []
    },
    {
      "cell_type": "code",
      "source": [
        "# 11\n",
        "# c"
      ],
      "metadata": {
        "id": "MRqdYjmrxNqp"
      },
      "execution_count": null,
      "outputs": []
    },
    {
      "cell_type": "code",
      "source": [
        "# 12\n",
        "print('2\\\\t4')\n",
        "# b"
      ],
      "metadata": {
        "colab": {
          "base_uri": "https://localhost:8080/"
        },
        "id": "pY3zmhQ0xXx_",
        "outputId": "045e7f83-d316-47c7-ef42-631935d2f7f2"
      },
      "execution_count": 2,
      "outputs": [
        {
          "output_type": "stream",
          "name": "stdout",
          "text": [
            "2\\t4\n"
          ]
        }
      ]
    },
    {
      "cell_type": "code",
      "source": [
        "# 13\n",
        "\n",
        "num=int(input('Enter a number: '))\n",
        "\n",
        "if num% 2 ==0:\n",
        "  print(f'{num} is Even')\n",
        "else:\n",
        "  print(f'{num} is Odd')"
      ],
      "metadata": {
        "colab": {
          "base_uri": "https://localhost:8080/"
        },
        "id": "MlzpukxHxX3S",
        "outputId": "fc963849-fc5d-4319-fd68-338f3bf04764"
      },
      "execution_count": 4,
      "outputs": [
        {
          "output_type": "stream",
          "name": "stdout",
          "text": [
            "Enter a number: 13\n",
            "13 is Odd\n"
          ]
        }
      ]
    }
  ]
}