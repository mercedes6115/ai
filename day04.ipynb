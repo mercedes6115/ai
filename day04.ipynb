{
 "cells": [
  {
   "cell_type": "code",
   "execution_count": null,
   "metadata": {},
   "outputs": [],
   "source": []
  },
  {
   "cell_type": "code",
   "execution_count": 3,
   "metadata": {},
   "outputs": [
    {
     "name": "stdout",
     "output_type": "stream",
     "text": [
      "현재 시각은 17시 2분 오후입니다\n"
     ]
    }
   ],
   "source": [
    "import datetime\n",
    "\n",
    "now=datetime.datetime.now()\n",
    "\n",
    "if(now.hour >= 12):\n",
    "    print(f'현재 시각은 {now.hour}시 {now.minute}분 오후입니다')\n",
    "else:\n",
    "    print(f'현재 시각은 {now.hour}시 {now.minute}분 오전입니다')"
   ]
  },
  {
   "cell_type": "code",
   "execution_count": null,
   "metadata": {},
   "outputs": [],
   "source": [
    "i=0\n",
    "while True:\n",
    "    print(f'{i}번째 반복입니다.')\n",
    "    i+=1\n",
    "    \n",
    "    inp=input('종료할까요')\n",
    "    if inp in['y','Y']:\n",
    "        print('종료')\n",
    "        break"
   ]
  },
  {
   "cell_type": "code",
   "execution_count": 2,
   "metadata": {},
   "outputs": [
    {
     "name": "stdout",
     "output_type": "stream",
     "text": [
      "i wanna \n"
     ]
    }
   ],
   "source": [
    "print(\"i wanna \")"
   ]
  },
  {
   "cell_type": "code",
   "execution_count": null,
   "metadata": {},
   "outputs": [],
   "source": [
    "#enumerate 열거함수\n",
    "\n",
    "student=['진구','철수','미애','형구','진수']\n",
    "\n",
    "for i,j in enumerate (student):\n",
    "    print(f'{i}번 {j}')"
   ]
  },
  {
   "cell_type": "code",
   "execution_count": null,
   "metadata": {},
   "outputs": [],
   "source": []
  }
 ],
 "metadata": {
  "interpreter": {
   "hash": "7c3bed779e4815b6daa7a018013d6f9889b5d1698a489c4e21d1ead9dc2e155d"
  },
  "kernelspec": {
   "display_name": "Python 3.7.11 64-bit ('first': conda)",
   "language": "python",
   "name": "python3"
  },
  "language_info": {
   "codemirror_mode": {
    "name": "ipython",
    "version": 3
   },
   "file_extension": ".py",
   "mimetype": "text/x-python",
   "name": "python",
   "nbconvert_exporter": "python",
   "pygments_lexer": "ipython3",
   "version": "3.8.8"
  },
  "orig_nbformat": 4
 },
 "nbformat": 4,
 "nbformat_minor": 2
}
