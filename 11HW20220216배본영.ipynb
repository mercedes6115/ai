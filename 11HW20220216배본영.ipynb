{
  "nbformat": 4,
  "nbformat_minor": 0,
  "metadata": {
    "colab": {
      "name": "11HW20220216배본영.ipynb",
      "provenance": [],
      "collapsed_sections": [],
      "authorship_tag": "ABX9TyOtqWRoRq4NirgpwVK4yAIH",
      "include_colab_link": true
    },
    "kernelspec": {
      "name": "python3",
      "display_name": "Python 3"
    },
    "language_info": {
      "name": "python"
    }
  },
  "cells": [
    {
      "cell_type": "markdown",
      "metadata": {
        "id": "view-in-github",
        "colab_type": "text"
      },
      "source": [
        "<a href=\"https://colab.research.google.com/github/mercedes6115/ai/blob/main/11HW20220216%EB%B0%B0%EB%B3%B8%EC%98%81.ipynb\" target=\"_parent\"><img src=\"https://colab.research.google.com/assets/colab-badge.svg\" alt=\"Open In Colab\"/></a>"
      ]
    },
    {
      "cell_type": "code",
      "execution_count": null,
      "metadata": {
        "id": "lLY2ZFRcjqPz"
      },
      "outputs": [],
      "source": [
        "# 516\n",
        "x = [1, 2, 3, 4] \n",
        "y = tuple(x)\n",
        "# c"
      ]
    },
    {
      "cell_type": "code",
      "source": [
        "# 517\n",
        "x = [1, 2, 3, 4] \n",
        "y = tuple(x) \n",
        "z = list(y)\n",
        "# d"
      ],
      "metadata": {
        "id": "OajqKoHHj_gT"
      },
      "execution_count": null,
      "outputs": []
    },
    {
      "cell_type": "code",
      "source": [
        "# 518\n",
        "x = 'Python' \n",
        "y = list(x) \n",
        "print(type(y))\n",
        "# d "
      ],
      "metadata": {
        "id": "DO8z2EJxkGvQ"
      },
      "execution_count": null,
      "outputs": []
    },
    {
      "cell_type": "code",
      "source": [
        "# 519\n",
        "x = 'Python' \n",
        "y = tuple(x) \n",
        "print(type(y))\n",
        "# c"
      ],
      "metadata": {
        "id": "EzMKC_c2kNfo"
      },
      "execution_count": null,
      "outputs": []
    },
    {
      "cell_type": "code",
      "source": [
        "# 520\n",
        "x = ('Python') \n",
        "print(x)\n",
        "# b"
      ],
      "metadata": {
        "id": "P9CQn-oAkTnk"
      },
      "execution_count": null,
      "outputs": []
    },
    {
      "cell_type": "code",
      "source": [
        "# 521\n",
        "x = ('Python',) \n",
        "print(x) \n",
        "# a"
      ],
      "metadata": {
        "id": "D1bJYM1fkY_G"
      },
      "execution_count": null,
      "outputs": []
    },
    {
      "cell_type": "code",
      "source": [
        "# 522\n",
        "x = [0, 2, 4, 6] \n",
        "print(tuple(x)) \n",
        "# b\n"
      ],
      "metadata": {
        "id": "z3ePTWLEkdKl"
      },
      "execution_count": null,
      "outputs": []
    },
    {
      "cell_type": "code",
      "source": [
        "# 523\n",
        "x = (0, 2, 4, 6) \n",
        "print(list(x)) \n",
        "# a"
      ],
      "metadata": {
        "id": "v1iqXDpxkhQM"
      },
      "execution_count": null,
      "outputs": []
    },
    {
      "cell_type": "code",
      "source": [
        "# 524\n",
        "x = 'Python' \n",
        "print(list(x))\n",
        "# c\n"
      ],
      "metadata": {
        "id": "zS2h8de_kkez"
      },
      "execution_count": null,
      "outputs": []
    },
    {
      "cell_type": "code",
      "source": [
        "# 525\n",
        "x = 'Python' \n",
        "print(tuple(x))\n",
        "# a"
      ],
      "metadata": {
        "id": "m3QgSzCWkpb1"
      },
      "execution_count": null,
      "outputs": []
    },
    {
      "cell_type": "code",
      "source": [
        "# 526\n",
        "x = [4, 5, 7, 8, 9] \n",
        "y = x \n",
        "y[1] = 6 \n",
        "print(y)\n",
        "# c "
      ],
      "metadata": {
        "id": "Y0NTDVbCkuEJ"
      },
      "execution_count": null,
      "outputs": []
    },
    {
      "cell_type": "code",
      "source": [
        "# 527\n",
        "x = [4, 5, 7, 8, 9] \n",
        "y = x \n",
        "y[1] = 6 \n",
        "print(x)\n",
        "# c "
      ],
      "metadata": {
        "id": "DgnETxPok1f-"
      },
      "execution_count": null,
      "outputs": []
    },
    {
      "cell_type": "code",
      "source": [
        "# 528\n",
        "def abc(z): \n",
        "  z.append(44) \n",
        "x = [7, 8, 9] \n",
        "abc(x) \n",
        "print(x) \n",
        "# b "
      ],
      "metadata": {
        "id": "e8siSB-9k8-Y"
      },
      "execution_count": null,
      "outputs": []
    },
    {
      "cell_type": "code",
      "source": [
        "# 529\n",
        "import copy \n",
        "x = [5, 4, 3, 2, 1] \n",
        "y = copy.copy(x) \n",
        "x.append(6) \n",
        "print(y[-1])\n",
        "# d"
      ],
      "metadata": {
        "id": "wzddY5w8lCYI"
      },
      "execution_count": null,
      "outputs": []
    },
    {
      "cell_type": "code",
      "source": [
        "# 530\n",
        "import copy \n",
        "x = [5, 4, 3, 2, 1] \n",
        "y = copy.copy(x) \n",
        "x[2] = 6 \n",
        "print(y[2]) \n",
        "# a"
      ],
      "metadata": {
        "id": "c-UwLIYOlH29"
      },
      "execution_count": null,
      "outputs": []
    },
    {
      "cell_type": "code",
      "source": [
        "# 531\n",
        "import copy \n",
        "x = [5, 4, 3, 2, 1] \n",
        "y = [7, 8, 9] \n",
        "z = [x, y] \n",
        "a = copy.copy(z) \n",
        "x[2] = 6 \n",
        "print(a)\n",
        "# b"
      ],
      "metadata": {
        "id": "4g9tbSlelNKC"
      },
      "execution_count": null,
      "outputs": []
    },
    {
      "cell_type": "code",
      "source": [
        "# 532\n",
        "import copy \n",
        "x = [5, 4, 3, 2, 1] \n",
        "y = [7, 8, 9] \n",
        "z = [x, y] \n",
        "a = copy.deepcopy(z) \n",
        "x[2] = 6 \n",
        "print(a) \n",
        "# a"
      ],
      "metadata": {
        "id": "Yxyrk4RwlXtP"
      },
      "execution_count": null,
      "outputs": []
    },
    {
      "cell_type": "code",
      "source": [
        "# 533\n",
        "x = {'day':'Sunday', 'week':10} \n",
        "print(x['year'])\n",
        "# b"
      ],
      "metadata": {
        "id": "KRk-OtG0lg1j"
      },
      "execution_count": null,
      "outputs": []
    },
    {
      "cell_type": "code",
      "source": [
        "# 534\n",
        "x = {'day':'Sunday', 'week':10} \n",
        "for i in x.values(): \n",
        "  print(i, end=' ')\n",
        "# a"
      ],
      "metadata": {
        "id": "rNPZzhY7llbf"
      },
      "execution_count": null,
      "outputs": []
    },
    {
      "cell_type": "code",
      "source": [
        "# 535\n",
        "x = {'day':'Sunday', 'week':10} \n",
        "for i in x: \n",
        "  print(i, end=' ')\n",
        "# b"
      ],
      "metadata": {
        "id": "gymORe11lsKq"
      },
      "execution_count": null,
      "outputs": []
    },
    {
      "cell_type": "code",
      "source": [
        "# algorithm homework\n",
        "try:\n",
        "  num = eval(input(\"입력하시오: \"))\n",
        "  if num - int(num):\n",
        "    print(\"소수입니다.\")\n",
        "  else:\n",
        "    print(\"정수입니다.\")\n",
        "except:\n",
        "  print('math error')"
      ],
      "metadata": {
        "colab": {
          "base_uri": "https://localhost:8080/"
        },
        "id": "YmRjDfSflyR9",
        "outputId": "4339e8ff-a5f4-4432-88c7-6d3653b53202"
      },
      "execution_count": 25,
      "outputs": [
        {
          "output_type": "stream",
          "name": "stdout",
          "text": [
            "입력하시오: ㅇㅁㄴㅇㅁㄴㅇ\n",
            "math error\n"
          ]
        }
      ]
    }
  ]
}