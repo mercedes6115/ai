{
  "nbformat": 4,
  "nbformat_minor": 0,
  "metadata": {
    "colab": {
      "name": "13HW20220221배본영19.ipynb",
      "provenance": [],
      "collapsed_sections": [],
      "authorship_tag": "ABX9TyPYOFS1BA+4/7wjiPJooj/4",
      "include_colab_link": true
    },
    "kernelspec": {
      "name": "python3",
      "display_name": "Python 3"
    },
    "language_info": {
      "name": "python"
    }
  },
  "cells": [
    {
      "cell_type": "markdown",
      "metadata": {
        "id": "view-in-github",
        "colab_type": "text"
      },
      "source": [
        "<a href=\"https://colab.research.google.com/github/mercedes6115/ai/blob/main/13HW20220221%EB%B0%B0%EB%B3%B8%EC%98%8119.ipynb\" target=\"_parent\"><img src=\"https://colab.research.google.com/assets/colab-badge.svg\" alt=\"Open In Colab\"/></a>"
      ]
    },
    {
      "cell_type": "code",
      "execution_count": 3,
      "metadata": {
        "colab": {
          "base_uri": "https://localhost:8080/"
        },
        "id": "JUhIJ5QgRBqb",
        "outputId": "af50e901-08c1-4f9c-84de-b2ce6cf82321"
      },
      "outputs": [
        {
          "output_type": "stream",
          "name": "stdout",
          "text": [
            "Python jobs\n"
          ]
        }
      ],
      "source": [
        "# 556\n",
        "x = 'Python Jobs' \n",
        "if x.lower() == 'python jobs': \n",
        "  print('Python jobs') \n",
        "else: \n",
        "  print('python 3 jobs')\n",
        "# b"
      ]
    },
    {
      "cell_type": "code",
      "source": [
        "# 557\n",
        "x = 'Python Jobs' \n",
        "if x.isupper():\n",
        "  print('Python jobs') \n",
        "else: \n",
        "  print('python 3 jobs')\n",
        "\n",
        "# a"
      ],
      "metadata": {
        "colab": {
          "base_uri": "https://localhost:8080/"
        },
        "id": "4Trbyg_TT5gu",
        "outputId": "9675b029-7f79-4c9c-e7f5-1da6ea6a4bee"
      },
      "execution_count": 4,
      "outputs": [
        {
          "output_type": "stream",
          "name": "stdout",
          "text": [
            "python 3 jobs\n"
          ]
        }
      ]
    },
    {
      "cell_type": "code",
      "source": [
        "# 558\n",
        "x = 'Python Jobs' \n",
        "y = x.upper().lower().upper() \n",
        "print(y) \n",
        "# b"
      ],
      "metadata": {
        "colab": {
          "base_uri": "https://localhost:8080/"
        },
        "id": "fsJ52LYUT6Xp",
        "outputId": "7215fdc9-3d43-416e-cca6-4a146bd78938"
      },
      "execution_count": 5,
      "outputs": [
        {
          "output_type": "stream",
          "name": "stdout",
          "text": [
            "PYTHON JOBS\n"
          ]
        }
      ]
    },
    {
      "cell_type": "code",
      "source": [
        "# 559\n",
        "x = 'Python Jobs' \n",
        "y = x.upper().lower().isupper() \n",
        "print(y) \n",
        "# c"
      ],
      "metadata": {
        "colab": {
          "base_uri": "https://localhost:8080/"
        },
        "id": "v8dZIjKaT6fT",
        "outputId": "3d8d6be4-ce51-4187-fd38-a12c204bdf56"
      },
      "execution_count": 6,
      "outputs": [
        {
          "output_type": "stream",
          "name": "stdout",
          "text": [
            "False\n"
          ]
        }
      ]
    },
    {
      "cell_type": "code",
      "source": [
        "# 560\n",
        "x = ['Python', 'is', 'interesting'] \n",
        "y = ' '.join(x) \n",
        "print(y)\n",
        "# b"
      ],
      "metadata": {
        "colab": {
          "base_uri": "https://localhost:8080/"
        },
        "id": "lcQWcFCMT6lY",
        "outputId": "990c8ea6-d2c4-4a91-b77c-d2b55c9dda18"
      },
      "execution_count": 7,
      "outputs": [
        {
          "output_type": "stream",
          "name": "stdout",
          "text": [
            "Python is interesting\n"
          ]
        }
      ]
    },
    {
      "cell_type": "code",
      "source": [
        "# 561\n",
        "x = 'Python is interesting' \n",
        "y = x.split() \n",
        "print(y)\n",
        "# d"
      ],
      "metadata": {
        "colab": {
          "base_uri": "https://localhost:8080/"
        },
        "id": "kUHAoe2gT6q3",
        "outputId": "75ca7e26-9a4a-4d31-c450-2c26ca934eae"
      },
      "execution_count": 8,
      "outputs": [
        {
          "output_type": "stream",
          "name": "stdout",
          "text": [
            "['Python', 'is', 'interesting']\n"
          ]
        }
      ]
    },
    {
      "cell_type": "code",
      "source": [
        "# 562\n",
        "x = '''Today is a nice day. Let's go for a walk. We'll also go to the park.''' \n",
        "y = x.split('\\n') \n",
        "print(y) \n",
        "# a"
      ],
      "metadata": {
        "colab": {
          "base_uri": "https://localhost:8080/"
        },
        "id": "gMNWCgl6T6wI",
        "outputId": "ca152393-16fa-471f-fa19-54a30d83137b"
      },
      "execution_count": 9,
      "outputs": [
        {
          "output_type": "stream",
          "name": "stdout",
          "text": [
            "[\"Today is a nice day. Let's go for a walk. We'll also go to the park.\"]\n"
          ]
        }
      ]
    },
    {
      "cell_type": "code",
      "source": [
        "# 563\n",
        "x = 'Python 2 and Python 3' \n",
        "print(x.strip('and')) \n",
        "# c"
      ],
      "metadata": {
        "colab": {
          "base_uri": "https://localhost:8080/"
        },
        "id": "rVu_MllbT609",
        "outputId": "8ed8cadf-3745-4899-d4f9-d3810cee5164"
      },
      "execution_count": 10,
      "outputs": [
        {
          "output_type": "stream",
          "name": "stdout",
          "text": [
            "Python 2 and Python 3\n"
          ]
        }
      ]
    },
    {
      "cell_type": "code",
      "source": [
        "# 564\n",
        "x = 'Python 2 and Python 3'\n",
        "print(x.strip('thon 3'))\n",
        "# b"
      ],
      "metadata": {
        "colab": {
          "base_uri": "https://localhost:8080/"
        },
        "id": "fRUkLDB2T66d",
        "outputId": "c1a5a164-0fab-437d-f8cc-f38e13721c5c"
      },
      "execution_count": 11,
      "outputs": [
        {
          "output_type": "stream",
          "name": "stdout",
          "text": [
            "Python 2 and Py\n"
          ]
        }
      ]
    },
    {
      "cell_type": "code",
      "source": [
        "# 565\n",
        "#! python3 x = 'Python 3’ \n",
        "# c"
      ],
      "metadata": {
        "id": "7K-qaEdYT7AH"
      },
      "execution_count": 12,
      "outputs": []
    },
    {
      "cell_type": "code",
      "source": [
        "# 566 \n",
        "import re \n",
        "x = re.compile(r'\\d\\d\\d-\\d\\d\\d\\d') \n",
        "y = x.search('The phone number is 444-4444') \n",
        "print(y.group())\n",
        "# c"
      ],
      "metadata": {
        "colab": {
          "base_uri": "https://localhost:8080/"
        },
        "id": "STpjfSWNUCzi",
        "outputId": "f3cc1e82-6114-4d61-ffa7-e6dc686ce729"
      },
      "execution_count": 13,
      "outputs": [
        {
          "output_type": "stream",
          "name": "stdout",
          "text": [
            "444-4444\n"
          ]
        }
      ]
    },
    {
      "cell_type": "code",
      "source": [
        "# 567\n",
        "import re \n",
        "x = re.compile(r'(\\d\\d\\d)-(\\d\\d\\d\\d)') \n",
        "y = x.search('The phone number is 444-4444') \n",
        "print(y.group(2))\n",
        "# b"
      ],
      "metadata": {
        "colab": {
          "base_uri": "https://localhost:8080/"
        },
        "id": "eHp6c0XfUC6O",
        "outputId": "035b32c8-278b-4549-87c9-f816492a3421"
      },
      "execution_count": 14,
      "outputs": [
        {
          "output_type": "stream",
          "name": "stdout",
          "text": [
            "4444\n"
          ]
        }
      ]
    },
    {
      "cell_type": "code",
      "source": [
        "# 568\n",
        "import re \n",
        "x = re.compile(r'(\\d\\d\\d)-(\\d\\d\\d\\d)') \n",
        "y = x.search('The phone number is 444-4444') \n",
        "print(y.group(1))\n",
        "# d"
      ],
      "metadata": {
        "colab": {
          "base_uri": "https://localhost:8080/"
        },
        "id": "4Rd96dCPUDBZ",
        "outputId": "e5469a36-df2f-42de-cb60-6a60eed213c4"
      },
      "execution_count": 15,
      "outputs": [
        {
          "output_type": "stream",
          "name": "stdout",
          "text": [
            "444\n"
          ]
        }
      ]
    },
    {
      "cell_type": "code",
      "source": [
        "# 569\n",
        "import re \n",
        "x = re.compile(r'(\\d\\d\\d)-(\\d\\d\\d\\d)') \n",
        "y = x.search('The phone number is 444-4444') \n",
        "print(y.group(0))\n",
        "# c"
      ],
      "metadata": {
        "colab": {
          "base_uri": "https://localhost:8080/"
        },
        "id": "Bv-CaSPZUFG5",
        "outputId": "7f934a3b-c156-4443-a578-a8f55122e268"
      },
      "execution_count": 16,
      "outputs": [
        {
          "output_type": "stream",
          "name": "stdout",
          "text": [
            "444-4444\n"
          ]
        }
      ]
    },
    {
      "cell_type": "code",
      "source": [
        "# 570\n",
        "import re \n",
        "x = re.compile(r'(\\d\\d\\d)-(\\d\\d\\d\\d)') \n",
        "y = x.search('The phone number is 444-4444') \n",
        "print(y.groups())\n",
        "# a"
      ],
      "metadata": {
        "colab": {
          "base_uri": "https://localhost:8080/"
        },
        "id": "87iFFKBmUFNA",
        "outputId": "312ea02d-0774-4dd3-8f1b-f851353b647e"
      },
      "execution_count": 17,
      "outputs": [
        {
          "output_type": "stream",
          "name": "stdout",
          "text": [
            "('444', '4444')\n"
          ]
        }
      ]
    },
    {
      "cell_type": "code",
      "source": [
        "# 571\n",
        "import re \n",
        "x = re.compile(r'(\\(\\d\\d\\d\\))-(\\d\\d\\d\\d)') \n",
        "y = x.search('The phone number is (444)-4444') \n",
        "print(y.group(1))\n",
        "# d"
      ],
      "metadata": {
        "colab": {
          "base_uri": "https://localhost:8080/"
        },
        "id": "gQOlNB0SUFTP",
        "outputId": "c327dabf-899d-4054-d572-4ed2c6596218"
      },
      "execution_count": 18,
      "outputs": [
        {
          "output_type": "stream",
          "name": "stdout",
          "text": [
            "(444)\n"
          ]
        }
      ]
    },
    {
      "cell_type": "code",
      "source": [
        "# 572\n",
        "import re \n",
        "x = re.compile(r'Python 2|Python 3') \n",
        "y = x.search('Python 3 MCQ') \n",
        "print(y.group()) \n",
        "# c"
      ],
      "metadata": {
        "colab": {
          "base_uri": "https://localhost:8080/"
        },
        "id": "jQ-c5JKnUFZg",
        "outputId": "2aa9ef02-d34f-4645-bf3a-0ddbe4c5b73e"
      },
      "execution_count": 19,
      "outputs": [
        {
          "output_type": "stream",
          "name": "stdout",
          "text": [
            "Python 3\n"
          ]
        }
      ]
    },
    {
      "cell_type": "code",
      "source": [
        "# 573\n",
        "import re \n",
        "x = re.compile(r'Python 2|Python 3') \n",
        "y = x.search('Python 2.7') \n",
        "print(y.group()) \n",
        "# b"
      ],
      "metadata": {
        "colab": {
          "base_uri": "https://localhost:8080/"
        },
        "id": "OMZ3FhY5UFgX",
        "outputId": "2e04d5ed-7018-487e-d450-c4f9fb1cd057"
      },
      "execution_count": 20,
      "outputs": [
        {
          "output_type": "stream",
          "name": "stdout",
          "text": [
            "Python 2\n"
          ]
        }
      ]
    },
    {
      "cell_type": "code",
      "source": [
        "# 574\n",
        "import re \n",
        "x = re.compile(r'day') \n",
        "y = x.search('Today is a nice day and a Sunday') \n",
        "print(y.group()) \n",
        "# a"
      ],
      "metadata": {
        "colab": {
          "base_uri": "https://localhost:8080/"
        },
        "id": "_XvNgbIvUJYR",
        "outputId": "29b68cec-aed4-4b69-e124-6c4b4f38e1dd"
      },
      "execution_count": 21,
      "outputs": [
        {
          "output_type": "stream",
          "name": "stdout",
          "text": [
            "day\n"
          ]
        }
      ]
    },
    {
      "cell_type": "code",
      "source": [
        "# 575\n",
        "import re \n",
        "x = re.compile(r'(Sun)?day') \n",
        "y = x.search('Today is a nice day and a Sunday') \n",
        "print(y.group())\n",
        "# a"
      ],
      "metadata": {
        "colab": {
          "base_uri": "https://localhost:8080/"
        },
        "id": "pevj7zl4UJf7",
        "outputId": "d6619d94-4925-428c-c993-bec338bac8fe"
      },
      "execution_count": 22,
      "outputs": [
        {
          "output_type": "stream",
          "name": "stdout",
          "text": [
            "day\n"
          ]
        }
      ]
    },
    {
      "cell_type": "code",
      "source": [
        "names =\"이유덕,이재영,권종표,이재영,박민호,강상희,이재영,김지완,최승혁,이성연,박영서,박민호,전경헌,송정환,김재성,이유덕,전경헌\".split(\",\")\n",
        "#1\n",
        "a=[ i[0] for i in names]\n",
        "print(\"김씨 : %d\\n이씨 : %d\\n\"%(a.count(\"김\"), \n",
        "a.count(\"이\")))\n",
        "#2\n",
        "print(names.count(\"이재영\"))\n",
        "#3\n",
        "unique_names = list(set(names))\n",
        "print(unique_names)\n",
        "#4\n",
        "unique_names.sort()\n",
        "print(unique_names)"
      ],
      "metadata": {
        "colab": {
          "base_uri": "https://localhost:8080/"
        },
        "id": "-i9nwWWjWMuq",
        "outputId": "d1622435-4593-4364-d148-22c08cff4da0"
      },
      "execution_count": 23,
      "outputs": [
        {
          "output_type": "stream",
          "name": "stdout",
          "text": [
            "김씨 : 2\n",
            "이씨 : 6\n",
            "\n",
            "3\n",
            "['이성연', '이재영', '이유덕', '송정환', '김지완', '강상희', '권종표', '전경헌', '최승혁', '김재성', '박영서', '박민호']\n",
            "['강상희', '권종표', '김재성', '김지완', '박민호', '박영서', '송정환', '이성연', '이유덕', '이재영', '전경헌', '최승혁']\n"
          ]
        }
      ]
    },
    {
      "cell_type": "code",
      "source": [
        ""
      ],
      "metadata": {
        "id": "zdoz_ShTWgi7"
      },
      "execution_count": null,
      "outputs": []
    }
  ]
}