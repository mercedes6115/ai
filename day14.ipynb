{
  "nbformat": 4,
  "nbformat_minor": 0,
  "metadata": {
    "colab": {
      "name": "day14.ipynb",
      "provenance": [],
      "collapsed_sections": [],
      "authorship_tag": "ABX9TyPwPRXlFx6IhiigldI6xoQB",
      "include_colab_link": true
    },
    "kernelspec": {
      "name": "python3",
      "display_name": "Python 3"
    },
    "language_info": {
      "name": "python"
    }
  },
  "cells": [
    {
      "cell_type": "markdown",
      "metadata": {
        "id": "view-in-github",
        "colab_type": "text"
      },
      "source": [
        "<a href=\"https://colab.research.google.com/github/mercedes6115/ai/blob/main/day14.ipynb\" target=\"_parent\"><img src=\"https://colab.research.google.com/assets/colab-badge.svg\" alt=\"Open In Colab\"/></a>"
      ]
    },
    {
      "cell_type": "code",
      "execution_count": null,
      "metadata": {
        "id": "CA9bgnra5A4D"
      },
      "outputs": [],
      "source": [
        "# Tuple, List and Dict\n",
        "\n",
        "# There are several ways that collections of data canbe stored as a single item.\n",
        "# There of the simpler ones are:\n",
        "# 1. Tuple\n",
        "# 2. List\n",
        "# 3. Dict\n",
        "# (4). Set\n",
        "\n",
        "# Tuple : Once a tuple is defined you cannot change what is stored in it. (immutable)\n",
        "# ()\n",
        "# List : The contents of a list canbe changed while the program is running and lists\n",
        "#        are one of the most common ways to store a collection of data in Python.\n",
        "#        (mutable)\n",
        "# []\n",
        "# DIct : can also be changed while the program is running. mutable \n",
        "#         Each value is given an index or key you can define to help identify \n",
        "#         each piece of data\n",
        "# {}\n",
        "fruit_tuple = ('apple','banana','cherry','orange')\n",
        "print(fruit_tuple[2])\n",
        "print(fruit_tuple.index('cherry'))\n",
        "del fruit_tuple[1]  "
      ]
    },
    {
      "cell_type": "code",
      "source": [
        "names_list = ['John','Tim','Sam']\n",
        "del names_list[1]\n",
        "names_list"
      ],
      "metadata": {
        "id": "0mnG2uyCQq7_"
      },
      "execution_count": null,
      "outputs": []
    },
    {
      "cell_type": "code",
      "source": [
        "names_list.append(input('Add a name : '))\n",
        "names_list"
      ],
      "metadata": {
        "id": "SMUPf-EJQr_1"
      },
      "execution_count": null,
      "outputs": []
    },
    {
      "cell_type": "code",
      "source": [
        "names_list.sort()\n",
        "\n",
        "# Sorts [list] into alphabetical order and saves the list in the new order"
      ],
      "metadata": {
        "id": "PhJHN6v4Qsck"
      },
      "execution_count": null,
      "outputs": []
    },
    {
      "cell_type": "code",
      "source": [
        "names_list"
      ],
      "metadata": {
        "id": "Q5tUW9ucQt-X"
      },
      "execution_count": null,
      "outputs": []
    },
    {
      "cell_type": "code",
      "source": [
        "names_list = ['John', 'Sam', 'Austin']\n",
        "print(sorted(names_list))\n",
        "print(names_list)\n",
        "\n",
        "# Displays names_list in alphabetical order but does not change the order of the \n",
        "# original list."
      ],
      "metadata": {
        "id": "uqnJW0WKQvKt"
      },
      "execution_count": null,
      "outputs": []
    },
    {
      "cell_type": "code",
      "source": [
        "color = {1:'red',2:'blue',3:'green'}\n",
        "\n",
        "# Creates a dict called 'color' , where each item is assigned an index of your choosing\n",
        "\n",
        "print(color[2])"
      ],
      "metadata": {
        "id": "ebsV5NWsQwoe"
      },
      "execution_count": null,
      "outputs": []
    },
    {
      "cell_type": "code",
      "source": [
        "# Quiz 1\n",
        "\n",
        "# Create a tuple containing the names of five countries and display the whole tuple\n",
        "# Ask the user to enter on of the countries that have been shown to them and then \n",
        "# display the index number (position in the tuple), { NO CHINA }\n",
        "\n",
        "country = ('Korea','USA','UK','Japan','France')\n",
        "\n",
        "print(country)\n",
        "\n",
        "name = input('Please enter one of the countries from above : ')\n",
        "\n",
        "print(f'{name} has index number {country.index(name)}')"
      ],
      "metadata": {
        "id": "3wJizSbWQx4g"
      },
      "execution_count": null,
      "outputs": []
    },
    {
      "cell_type": "code",
      "source": [
        "# Add to program above, to ask the user to enter a number and display \n",
        "# the country in that position.\n",
        "\n",
        "country = ('Korea','USA','UK','Japan','France')\n",
        "\n",
        "print(country)\n",
        "\n",
        "num = int(input('Please enter a number between 0 and 4 : '))\n",
        "\n",
        "print(country[num])"
      ],
      "metadata": {
        "id": "EMJWHAhrQzRX"
      },
      "execution_count": null,
      "outputs": []
    },
    {
      "cell_type": "code",
      "source": [
        "# Create a list of two sports. Ask the user what their favourite sport is \n",
        "# and add this to the end of the list. Sort the list and display it.\n",
        "\n",
        "spo = ['TKD', 'soccer']\n",
        "\n",
        "spo.append(input('What is your favorite sport ? '))\n",
        "spo.sort()\n",
        "print(spo)"
      ],
      "metadata": {
        "id": "L3d5-zwtQ1Zj"
      },
      "execution_count": null,
      "outputs": []
    },
    {
      "cell_type": "code",
      "source": [
        "# Ask the user to enter four of their favourite foods and store them \n",
        "# in a dict so that they are indexed with number starting from 1.\n",
        "# Display the dict in full, showing the index number and the item.\n",
        "# Ask them which they want to get rid of and remove it from the list\n",
        "# Sort the remaining data(values) and display.\n",
        "\n",
        "\n",
        "food_dict = {}\n",
        "food1 = input('Enter a food you like : ')\n",
        "food_dict[1] = food1\n",
        "food2 = input('Enter a food you like : ')\n",
        "food_dict[2] = food2\n",
        "food3 = input('Enter a food you like : ')\n",
        "food_dict[3] = food3\n",
        "food4 = input('Enter a food you like : ')\n",
        "food_dict[4] = food4\n",
        "\n",
        "\n",
        "print(food_dict)\n",
        "dislike = int(input('Which of these do you want to get rid of? '))\n",
        "del food_dict[dislike]\n",
        "print(sorted(food_dict.values()))"
      ],
      "metadata": {
        "id": "rB48YmHbQ166"
      },
      "execution_count": null,
      "outputs": []
    },
    {
      "cell_type": "code",
      "source": [
        "dict={}\n",
        "for i in range(1,5):\n",
        "    a=input(\"ur fave food? : \")\n",
        "    dict[i]=a\n",
        "print(dict)\n",
        "r=int(input(\"what u wanna remove it? : \"))\n",
        "del dict[r]\n",
        "print(sorted(list(dict.values())))"
      ],
      "metadata": {
        "id": "D5cxbn3TQ4Uz"
      },
      "execution_count": null,
      "outputs": []
    }
  ]
}