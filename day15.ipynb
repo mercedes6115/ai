{
  "nbformat": 4,
  "nbformat_minor": 0,
  "metadata": {
    "colab": {
      "name": "day15.ipynb",
      "provenance": [],
      "collapsed_sections": [],
      "authorship_tag": "ABX9TyOB1ugkHNVj0aah0xbd4rZn",
      "include_colab_link": true
    },
    "kernelspec": {
      "name": "python3",
      "display_name": "Python 3"
    },
    "language_info": {
      "name": "python"
    }
  },
  "cells": [
    {
      "cell_type": "markdown",
      "metadata": {
        "id": "view-in-github",
        "colab_type": "text"
      },
      "source": [
        "<a href=\"https://colab.research.google.com/github/mercedes6115/ai/blob/main/day15.ipynb\" target=\"_parent\"><img src=\"https://colab.research.google.com/assets/colab-badge.svg\" alt=\"Open In Colab\"/></a>"
      ]
    },
    {
      "cell_type": "code",
      "execution_count": 1,
      "metadata": {
        "colab": {
          "base_uri": "https://localhost:8080/"
        },
        "id": "NGaY3oDBDoIs",
        "outputId": "8a9b8627-0feb-4c88-f308-400282c64d09"
      },
      "outputs": [
        {
          "output_type": "stream",
          "name": "stdout",
          "text": [
            "0\n",
            "1\n",
            "2\n",
            "3\n",
            "4\n"
          ]
        }
      ],
      "source": [
        "# Create a list containing the titles of four TV programmes and display them on separate lilnes.\n",
        "# Ask the user to enter another show and a position they want it inserted into the list\n",
        "# Display the list again, showing all five TV programmes in their new positions.\n",
        "\n",
        "# (input) Enter another TV show :\n",
        "# (input) Enter a number between 0 and 3: \n",
        "\n",
        "# 4개의 TV프로그램의 이름을 포함하는 리스트를 생성하고 각각의 줄에 표시하시오.\n",
        "# 사용자에게 다른 프로그램과 삽입할 위치를 물어보고 리스트에 추가하시오.\n",
        "# 모든 5개의 프로그램을 새로운 위치로 다시 목록을 표시하시오.\n",
        "\n",
        "tv = ['무한도전','9시 뉴스','7시 뉴스','러닝맨']\n",
        "for i in tv:\n",
        "  print(i)\n",
        "name = input('Enter another TV show : ')\n",
        "idx = int(input('Enter a number between 0 and 3 :'))\n",
        "\n",
        "tv.insert(idx, name)\n",
        "\n",
        "for i in tv:\n",
        "  print(i)"
      ]
    },
    {
      "cell_type": "code",
      "source": [
        "# Create an empty list called 'nums' Ask the user to enter numbers.\n",
        "# After each number is entered, add it to the end of the nums list and display the list.\n",
        "# Once they have entered three numbers, ask them if they still want the last number they entered saved.\n",
        "# If they say 'no' remove the last item from the list. Display the list of numbers.\n",
        "\n",
        "# nums라는 이름의 빈 리스트를 하나 작성한다. \n",
        "# 유저에게 숫자를 입력하라고 묻는다. \n",
        "# 숫자가 각각 입력된 후에는 nums리스트의 마지막에 추가하고 리스트를 출력한다. \n",
        "# 세 개의 숫자를 입력받으면 마지막 숫자는 저장할 것인지 묻는다. \n",
        "# 만약 no를 말하면 마지막 항목은 삭제한다. 숫자들의 목록을 출력한다. \n",
        "\n",
        "nums = []\n",
        "\n",
        "count = 0\n",
        "\n",
        "while count < 3:\n",
        "  num = int(input('Enter a number :'))\n",
        "  nums.append(num)\n",
        "  print(nums)\n",
        "  count += 1\n",
        "\n",
        "lastnum = input('Do you want the last number saved(y/n) : ')\n",
        "if lastnum == 'n':\n",
        "  nums.pop()\n",
        "  # remove 제거하면 값을 제거 하기때문에 중복된 값이 있을때 앞에 값을 삭제하게 된다. \n",
        "  # pop()을 사용하여 제거하면 마지막 항목을 삭제하게 된다. \n",
        " \n",
        "print(nums)"
      ],
      "metadata": {
        "id": "2U0KpKFsbQmS"
      },
      "execution_count": null,
      "outputs": []
    },
    {
      "cell_type": "code",
      "source": [
        "# More String Manipulation 다양한 문자열 처리\n",
        "\n",
        "# Here we have a variable called name which is assigned the value 'Simon'\n",
        "\n",
        "name = 'Simon'\n",
        "\n",
        "# 'Simon' can be thought of as a sequence of individual characters and each character in that string\n",
        "# can be identified by its index.\n",
        "\n",
        "# Note how string s start indexing from 0 and not 1\n",
        "# If the string had a space in it, the space would also be counted as a character"
      ],
      "metadata": {
        "id": "qzqEAWKWbQuH"
      },
      "execution_count": null,
      "outputs": []
    },
    {
      "cell_type": "code",
      "source": [
        "msg = 'HELLo'\n",
        "if msg.isupper():   # islower()\n",
        "  print('Uppercase')\n",
        "else:\n",
        "  print('This is not in uppercase')"
      ],
      "metadata": {
        "id": "w71TV4TxbQzp"
      },
      "execution_count": null,
      "outputs": []
    },
    {
      "cell_type": "code",
      "source": [
        "msg = 'Hello'\n",
        "for letter in msg:\n",
        "  print(letter, end='')"
      ],
      "metadata": {
        "id": "id79yJWIbQ3p"
      },
      "execution_count": null,
      "outputs": []
    },
    {
      "cell_type": "code",
      "source": [
        "# Ask the user to type in a word in upper case. If they type in it lower case, ask them to try again.\n",
        "# Keep repeating this until they type in a message all in uppercase.\n",
        "\n",
        "# 사용자에게 대문자로 메시지를 입력하라고 묻는다. \n",
        "# 만약 소문자가 있다면 모두 대문자로 입력할때 까지 계속해서 다시 입력하라고 요청한다. \n",
        "\n",
        "msg = input('Enter a message in uppercase : ')\n",
        "\n",
        "again = True\n",
        "while again == True:\n",
        "  if msg.isupper():\n",
        "    print('Thank you')\n",
        "    again = False\n",
        "  else:\n",
        "    print('Try again')\n",
        "    msg = input('Enter a message in uppercase : ')"
      ],
      "metadata": {
        "id": "slln6uiAbQ9A"
      },
      "execution_count": null,
      "outputs": []
    },
    {
      "cell_type": "code",
      "source": [
        "while True:\n",
        "  msg = input('Enter a message in uppercase : ')\n",
        "  if msg.isupper():\n",
        "    print('Thank you')\n",
        "    break\n",
        "  else:\n",
        "    print('Try again')"
      ],
      "metadata": {
        "id": "RAMfcMlzbYRU"
      },
      "execution_count": null,
      "outputs": []
    },
    {
      "cell_type": "code",
      "source": [
        "ent = input(\"Enter the word (Upper case)\")\n",
        "while True:\n",
        "    ent = input(\"Enter the word (Upper case)\")\n",
        "    if ent.isupper():\n",
        "        break\n",
        "print(ent)"
      ],
      "metadata": {
        "id": "0WMeHsJNbYW4"
      },
      "execution_count": null,
      "outputs": []
    },
    {
      "cell_type": "code",
      "source": [
        "# Ask the user to enter a new password.\n",
        "# Ask them to enter it again. If the two passwords match,\n",
        "# display 'thank you'. If the letters are correct but in the wrong case,\n",
        "# display the message 'They must be in the same case',\n",
        "# otherwise display the message 'Incorrect'.\n",
        "\n",
        "# 유저에게 새로운 비번을 입력하라고 묻고, 한번 더 입력하라고 요청한다. \n",
        "# 입력한 두 개의 비번이 일치하면 'thank you'라고 출력한다. \n",
        "# 만약 입력한 문자는 서로 일치하지만 대소문자가 틀리다면 \n",
        "# 'They must be in the same case'라고 출력한다. 문자가 일치하지 않다면\n",
        "# 'Incorrect'메시지를 출력한다. \n",
        "\n",
        "pw = input('enter a new password : ')\n",
        "rpw = input('enter it again : ')\n",
        "\n",
        "if pw == rpw:\n",
        "    print('thank you')\n",
        "elif pw.upper() == rpw.upper():\n",
        "    print('They must be in the same case')\n",
        "else:\n",
        "    print('Incoreect')\n"
      ],
      "metadata": {
        "id": "S0IVg6TabYcA"
      },
      "execution_count": null,
      "outputs": []
    },
    {
      "cell_type": "code",
      "source": [
        ""
      ],
      "metadata": {
        "id": "tv0DCAgbbYgP"
      },
      "execution_count": null,
      "outputs": []
    },
    {
      "cell_type": "code",
      "source": [
        ""
      ],
      "metadata": {
        "id": "l64IU75vbYl-"
      },
      "execution_count": null,
      "outputs": []
    },
    {
      "cell_type": "code",
      "source": [
        ""
      ],
      "metadata": {
        "id": "OjEjAGAQbYsP"
      },
      "execution_count": null,
      "outputs": []
    }
  ]
}