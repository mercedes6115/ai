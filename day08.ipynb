{
  "nbformat": 4,
  "nbformat_minor": 0,
  "metadata": {
    "colab": {
      "name": "day08.ipynb",
      "provenance": [],
      "collapsed_sections": [],
      "authorship_tag": "ABX9TyN5by4YmknVO/AN4sPjWMiN",
      "include_colab_link": true
    },
    "kernelspec": {
      "name": "python3",
      "display_name": "Python 3"
    },
    "language_info": {
      "name": "python"
    }
  },
  "cells": [
    {
      "cell_type": "markdown",
      "metadata": {
        "id": "view-in-github",
        "colab_type": "text"
      },
      "source": [
        "<a href=\"https://colab.research.google.com/github/mercedes6115/ai/blob/main/day08.ipynb\" target=\"_parent\"><img src=\"https://colab.research.google.com/assets/colab-badge.svg\" alt=\"Open In Colab\"/></a>"
      ]
    },
    {
      "cell_type": "code",
      "execution_count": 6,
      "metadata": {
        "colab": {
          "base_uri": "https://localhost:8080/"
        },
        "id": "W6W3w9Yy7d2c",
        "outputId": "4b90f986-c04d-4691-9463-1578ddc7efbb"
      },
      "outputs": [
        {
          "output_type": "stream",
          "name": "stdout",
          "text": [
            "이름\t\t총점\t\t평균\n",
            "슈가\t\t368\t\t92.0\n",
            "진\t\t372\t\t93.0\n",
            "카나\t\t384\t\t96.0\n",
            "{'name': '슈가', 'korean': 87, 'math': 98, 'eng': 88, 'sci': 95}\n",
            "{'name': '진', 'korean': 90, 'math': 99, 'eng': 86, 'sci': 97}\n",
            "{'name': '카리', 'korean': 99, 'math': 89, 'eng': 99, 'sci': 97}\n"
          ]
        }
      ],
      "source": [
        "# 클래스와 객체 \n",
        "\n",
        "# C언어를 제외한 대부분의 언어는 객체지향 프로그래밍 언어다 (Object  - Oriented - Programming)\n",
        "# 객체 지향 언어는 클래스를 기반으로 객체를 만들고 그 객체들을 우선으로 생각해서 프로그래밍 하는것을 철학으로 한다 \n",
        "\n",
        "\n",
        "# 객체 \n",
        "\n",
        "students = [\n",
        "            {'name':'슈가','korean':87,'math':98,'eng':88,'sci':95},\n",
        "            {'name':'진','korean':90,'math':99,'eng':86,'sci':97},\n",
        "            {'name':'카나','korean':99,'math':89,'eng':99,'sci':97}\n",
        "]\n",
        "\n",
        "print('이름','총점','평균',sep='\\t\\t')\n",
        "\n",
        "for student in students:\n",
        "  # 학생들의 점수의 총합과 평균을 구하시오\n",
        "  score_sum = student['korean']+student['math']+student['eng']+student['sci']\n",
        "  score_avg = score_sum / 4\n",
        "  print(student['name'],score_sum,score_avg,sep='\\t\\t')\n",
        "\n",
        "\n",
        "# 여라가지 속성을 가질 수 있는 대상을 객체 (Object)라고 부른다\n",
        "# 그런데 딕셔너리로 객체를 하나하나 만들면 복잡하고 귀찮음 키를 모르면 사용하기도 어렵다\n",
        "\n",
        "# 함수형태로 변형 \n",
        "\n",
        "def create_student(name,korean,math,eng,sci):\n",
        "  return {\n",
        "      'name':name,\n",
        "      'korean':korean,\n",
        "      'math':math,\n",
        "      'eng':eng,\n",
        "      'sci':sci\n",
        "  } # 딕셔너리로 리턴하는 함수 \n",
        "\n",
        "# 학생들 리스트 \n",
        "students=[\n",
        "           create_student('슈가',87,98,88,95),\n",
        "           create_student('진',90,99,86,97),\n",
        "           create_student('카리',99,89,99,97)\n",
        "]\n",
        "# 한명씩 반복\n",
        "for i in students:\n",
        "  print(i)\n"
      ]
    },
    {
      "cell_type": "code",
      "source": [
        "# 클래스 선언\n",
        "class Student:\n",
        "  # 생성자 constructor\n",
        "  def __init__(self,name,korean,math,eng,sci):\n",
        "    self.name = name\n",
        "    self.korean = korean\n",
        "    self.math = math\n",
        "    self.eng = eng\n",
        "    self.sci = sci\n",
        "\n",
        "# 학생 리스트 \n",
        "students=[\n",
        "           Student('슈가',87,98,88,95),\n",
        "           Student('진',90,99,86,97),\n",
        "           Student('카리',99,89,99,97)\n",
        "]\n",
        "\n",
        "students[0].name\n",
        "students[1].name\n",
        "students[2].name"
      ],
      "metadata": {
        "colab": {
          "base_uri": "https://localhost:8080/",
          "height": 35
        },
        "id": "HNVFgG9yKbbZ",
        "outputId": "3a08a1df-d6ca-45ef-a5f1-1c6469dffe00"
      },
      "execution_count": 8,
      "outputs": [
        {
          "output_type": "execute_result",
          "data": {
            "application/vnd.google.colaboratory.intrinsic+json": {
              "type": "string"
            },
            "text/plain": [
              "'카리'"
            ]
          },
          "metadata": {},
          "execution_count": 8
        }
      ]
    },
    {
      "cell_type": "code",
      "source": [
        "# 매서드 : 클래스가 가지고 있는 함수를 매서드 라고 부른다 \n",
        "# 메서드는 첫번째 매개변수로 self를 넣어야 한다 \n",
        "# 클래스 선언\n",
        "class Student:\n",
        "  # 생성자 constructor 객체를 생성할때 자동으로 초기화 된다 \n",
        "  def __init__(self,name,korean,math,eng,sci):\n",
        "    self.name = name\n",
        "    self.korean = korean\n",
        "    self.math = math\n",
        "    self.eng = eng\n",
        "    self.sci = sci\n",
        "  \n",
        "  def get_sum(self):\n",
        "    return self.korean + self.math + self.eng + self.sci\n",
        "  def get_avg(self):\n",
        "    return self.get_sum()/4\n",
        "  def to_string(self):\n",
        "    return '{}\\t\\t{}\\t\\t{}'.format(self.name,self.get_sum(),self.get_avg())\n",
        "\n",
        "students=[\n",
        "           Student('슈가',87,98,88,95),\n",
        "           Student('진',90,99,86,97),\n",
        "           Student('카리',99,89,99,97)\n",
        "]\n",
        "print('이름','총점','평균',sep='\\t\\t')\n",
        "for student in students:\n",
        "  print(student.to_string())\n",
        "\n",
        "# 어떤 객체가 가지고 있는 어떤 함수(기능)를 명확하게 이해할 수 있으므로 매우 편리하다\n"
      ],
      "metadata": {
        "colab": {
          "base_uri": "https://localhost:8080/"
        },
        "id": "MHFQpAUrHMJe",
        "outputId": "9c8f2413-c7fc-49bc-8399-418e9036a035"
      },
      "execution_count": 12,
      "outputs": [
        {
          "output_type": "stream",
          "name": "stdout",
          "text": [
            "이름\t\t총점\t\t평균\n",
            "슈가\t\t368\t\t92.0\n",
            "진\t\t372\t\t93.0\n",
            "카리\t\t384\t\t96.0\n"
          ]
        }
      ]
    },
    {
      "cell_type": "code",
      "source": [
        "# 계산기 클래스 \n",
        "\n",
        "result1 = 0\n",
        "result2 = 0\n",
        "\n",
        "# add함수는 입력받은 값을 이전에 계산한 값에 더한후 돌려주는 함수 (값을 누적)\n",
        "def add1(num):\n",
        "  global result1\n",
        "  result1 += num\n",
        "  return result1\n",
        "\n",
        "def add2(num):\n",
        "  global result2\n",
        "  result2 += num\n",
        "  return result2\n",
        "print('add1')\n",
        "print(add1(3))\n",
        "print(add1(5))\n",
        "print('-------')\n",
        "print('add2')\n",
        "print(add2(4))\n",
        "print(add2(6))"
      ],
      "metadata": {
        "id": "IUxWLsg-SS5p"
      },
      "execution_count": null,
      "outputs": []
    },
    {
      "cell_type": "code",
      "source": [
        "class Calculator:\n",
        "    def __init__(self):\n",
        "        self.result = 0\n",
        "\n",
        "    def add(self, num):\n",
        "        self.result += num\n",
        "        return self.result\n",
        "    \n",
        "    def sub(self, num):\n",
        "        self.result -= num\n",
        "        return self.result\n",
        "\n",
        "cal1 = Calculator()\n",
        "cal2 = Calculator()\n",
        "\n",
        "print(cal1.add(3))\n",
        "print(cal1.add(4))\n",
        "print(cal1.sub(5))\n",
        "print(cal2.add(3))\n",
        "print(cal2.add(7))"
      ],
      "metadata": {
        "colab": {
          "base_uri": "https://localhost:8080/"
        },
        "id": "rZKDP83IT0w0",
        "outputId": "61f5f0e0-31a4-47e7-cc95-4376e29769b0"
      },
      "execution_count": 18,
      "outputs": [
        {
          "output_type": "stream",
          "name": "stdout",
          "text": [
            "3\n",
            "7\n",
            "2\n",
            "3\n",
            "10\n"
          ]
        }
      ]
    },
    {
      "cell_type": "code",
      "source": [
        "# Self : 호출한 그 객체의 이름 자바에서는 This \n",
        "\n",
        "\n",
        "class FourCal:\n",
        "     def __init__(self,first,second): # 생성자 \n",
        "       self.first =first\n",
        "       self.second = second\n",
        "     '''\n",
        "     def setdata(self, first, second): # 생성자의 개념을 알기 위한 실행문 초기화 작업 \n",
        "         self.first = first \n",
        "         self.second = second\n",
        "     '''\n",
        "     def add(self):\n",
        "         result = self.first + self.second\n",
        "         return result\n",
        "     def mul(self):\n",
        "         result = self.first * self.second\n",
        "         return result\n",
        "     def sub(self):\n",
        "         result = self.first - self.second\n",
        "         return result\n",
        "     def div(self):\n",
        "         result = self.first / self.second\n",
        "         return result\n",
        "\n",
        "a=FourCal(4,2)\n",
        "\n",
        "# a.setdata(14,2)\n",
        "\n",
        "print(a.first)\n",
        "print(a.second)\n",
        "\n",
        "print(a.add())\n",
        "\n",
        "print(a.mul())\n",
        "\n",
        "print(a.sub())\n",
        "\n",
        "print(a.div())\n",
        "\n",
        "# 클래스의 상속 : 어떤 클래스를 만들때 다른 클래스의 기능을 물려받아 사용한다 기능을 추가하는게 주 목적\n",
        "\n",
        "class MoreFourCal(FourCal): # FourCal의 기능을 MoreFourCal이 물려받아 사용한다\n",
        "  def pow(self):\n",
        "    result = self.first ** self.second\n",
        "    return result\n",
        "\n",
        "a = MoreFourCal(4,2)\n",
        "\n",
        "print(a.pow())\n",
        "# 클래스 오버라이딩 매서드 덮어씌우기  상속받아서 기존에 사용하던 기능을 수정할 수 있다\n",
        "\n",
        "class SafeFourCal(FourCal):\n",
        "  def div(self):\n",
        "    if self.second ==0:\n",
        "      return 0\n",
        "    else:\n",
        "      return self.first / self.second\n",
        "\n",
        "a = SafeFourCal(4,0)\n",
        "b = SafeFourCal(5,0)\n",
        "a.div()\n",
        "\n",
        "# 오버라이딩 : 오버라이딩 하려고 하는 매서드의 이름,매개변수, 리턴값이 모두 같아야한다 \n",
        "# 오버로딩 : 매개변수의 타입, 개수가 다를경우 같은 이름을 사용해서 메서드를 정의할 수 있음\n"
      ],
      "metadata": {
        "colab": {
          "base_uri": "https://localhost:8080/"
        },
        "id": "Y6h2AQ41WNcT",
        "outputId": "5fb5d01f-50ee-456b-d0b7-a9fddc45f9a6"
      },
      "execution_count": 38,
      "outputs": [
        {
          "output_type": "stream",
          "name": "stdout",
          "text": [
            "4\n",
            "2\n",
            "6\n",
            "8\n",
            "2\n",
            "2.0\n",
            "16\n",
            "140297082504272\n",
            "140297082503440\n"
          ]
        }
      ]
    },
    {
      "cell_type": "code",
      "source": [
        "# 클래스 연습문제 \n",
        "\n",
        "class Calculator:\n",
        "  def __init__(self):\n",
        "    self.value=0\n",
        "  def add(self,val):\n",
        "    self.value += val\n",
        "\n",
        "class UpgradeCalculator(Calculator):\n",
        "    def sub(self, val):\n",
        "        self.value -= val\n",
        "\n",
        "cal = UpgradeCalculator()\n",
        "\n",
        "cal.add(3)\n",
        "cal.add(10)\n",
        "cal.sub(7)\n",
        "\n",
        "print(cal.value)"
      ],
      "metadata": {
        "colab": {
          "base_uri": "https://localhost:8080/"
        },
        "id": "yATrQZKiePVP",
        "outputId": "6afde7be-036b-4ca4-a8c2-0f4a283f1af9"
      },
      "execution_count": 41,
      "outputs": [
        {
          "output_type": "stream",
          "name": "stdout",
          "text": [
            "6\n"
          ]
        }
      ]
    },
    {
      "cell_type": "code",
      "source": [
        "\n"
      ],
      "metadata": {
        "id": "C5z_fAKnkOyJ"
      },
      "execution_count": null,
      "outputs": []
    }
  ]
}