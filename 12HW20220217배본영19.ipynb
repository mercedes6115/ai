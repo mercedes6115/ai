{
  "nbformat": 4,
  "nbformat_minor": 0,
  "metadata": {
    "colab": {
      "name": "12HW20220217배본영19.ipynb",
      "provenance": [],
      "collapsed_sections": [],
      "authorship_tag": "ABX9TyOrwzuVNkJgAeAayFVFB9Sp",
      "include_colab_link": true
    },
    "kernelspec": {
      "name": "python3",
      "display_name": "Python 3"
    },
    "language_info": {
      "name": "python"
    }
  },
  "cells": [
    {
      "cell_type": "markdown",
      "metadata": {
        "id": "view-in-github",
        "colab_type": "text"
      },
      "source": [
        "<a href=\"https://colab.research.google.com/github/mercedes6115/ai/blob/main/12HW20220217%EB%B0%B0%EB%B3%B8%EC%98%8119.ipynb\" target=\"_parent\"><img src=\"https://colab.research.google.com/assets/colab-badge.svg\" alt=\"Open In Colab\"/></a>"
      ]
    },
    {
      "cell_type": "code",
      "execution_count": 1,
      "metadata": {
        "colab": {
          "base_uri": "https://localhost:8080/"
        },
        "id": "B-oMD8aofjAG",
        "outputId": "15295d27-d61f-4a61-f3fd-0d3ab7d609a0"
      },
      "outputs": [
        {
          "output_type": "stream",
          "name": "stdout",
          "text": [
            "day week "
          ]
        }
      ],
      "source": [
        "# 536\n",
        "x = {'day':'Sunday', 'week':10} \n",
        "for i in x.keys(): \n",
        "  print(i, end=' ') \n",
        "# b"
      ]
    },
    {
      "cell_type": "code",
      "source": [
        "# 537\n",
        "x = {'day':'Sunday', 'week':10} \n",
        "for i in x.items(): \n",
        "  print(i, end=' ')\n",
        "# a"
      ],
      "metadata": {
        "colab": {
          "base_uri": "https://localhost:8080/"
        },
        "id": "Wj2-j3Cmf0tD",
        "outputId": "fae7b308-2fa4-4997-937a-fbcb5272931d"
      },
      "execution_count": 2,
      "outputs": [
        {
          "output_type": "stream",
          "name": "stdout",
          "text": [
            "('day', 'Sunday') ('week', 10) "
          ]
        }
      ]
    },
    {
      "cell_type": "code",
      "source": [
        "# 538\n",
        "x = {'day':'Sunday', 'week':10} \n",
        "print(list(x.keys()))\n",
        "# c\n"
      ],
      "metadata": {
        "colab": {
          "base_uri": "https://localhost:8080/"
        },
        "id": "-equZ5y1f62c",
        "outputId": "7037f924-91b3-48e8-a253-46b3c45a4678"
      },
      "execution_count": 3,
      "outputs": [
        {
          "output_type": "stream",
          "name": "stdout",
          "text": [
            "['day', 'week']\n"
          ]
        }
      ]
    },
    {
      "cell_type": "code",
      "source": [
        "# 539\n",
        "x = {'day':'Sunday', 'week':10} \n",
        "print(tuple(x.items())) \n",
        "# b"
      ],
      "metadata": {
        "colab": {
          "base_uri": "https://localhost:8080/"
        },
        "id": "0atJJN0FgAP6",
        "outputId": "fb3841e8-9254-4b31-b8af-849b0e084048"
      },
      "execution_count": 4,
      "outputs": [
        {
          "output_type": "stream",
          "name": "stdout",
          "text": [
            "(('day', 'Sunday'), ('week', 10))\n"
          ]
        }
      ]
    },
    {
      "cell_type": "code",
      "source": [
        "# 540\n",
        "x = {'day':'Sunday', 'week':10}\n",
        "print(tuple(x.values())) \n",
        "# b"
      ],
      "metadata": {
        "colab": {
          "base_uri": "https://localhost:8080/"
        },
        "id": "yxlzyCg9gIVe",
        "outputId": "3f0d82ed-936c-4886-b436-6d5fba77c579"
      },
      "execution_count": 5,
      "outputs": [
        {
          "output_type": "stream",
          "name": "stdout",
          "text": [
            "('Sunday', 10)\n"
          ]
        }
      ]
    },
    {
      "cell_type": "code",
      "source": [
        "# 541\n",
        "x = {'day':'Sunday', 'week':10} \n",
        "for i, j in x.items(): \n",
        "  print(i, j, end=' ')\n",
        "# d\n"
      ],
      "metadata": {
        "colab": {
          "base_uri": "https://localhost:8080/"
        },
        "id": "bHmaQ6XhgNZj",
        "outputId": "5fa76783-b195-4f18-f7d0-ae0324a9cd56"
      },
      "execution_count": 6,
      "outputs": [
        {
          "output_type": "stream",
          "name": "stdout",
          "text": [
            "day Sunday week 10 "
          ]
        }
      ]
    },
    {
      "cell_type": "code",
      "source": [
        "# 542\n",
        "x = {'day':'Sunday', 'week':10} \n",
        "print('day' in x.values())\n",
        "# c"
      ],
      "metadata": {
        "colab": {
          "base_uri": "https://localhost:8080/"
        },
        "id": "qtoFI8VlgVt7",
        "outputId": "6432db89-9ba0-49ed-96f1-fda806b0a947"
      },
      "execution_count": 7,
      "outputs": [
        {
          "output_type": "stream",
          "name": "stdout",
          "text": [
            "False\n"
          ]
        }
      ]
    },
    {
      "cell_type": "code",
      "source": [
        "# 543\n",
        "x = {'day':'Sunday', 'week':10} \n",
        "print('day' in x.keys())\n",
        "# b"
      ],
      "metadata": {
        "colab": {
          "base_uri": "https://localhost:8080/"
        },
        "id": "utaRx9oVgbO9",
        "outputId": "fb8d4257-aaed-48c2-ec17-2da2b154f1f0"
      },
      "execution_count": 8,
      "outputs": [
        {
          "output_type": "stream",
          "name": "stdout",
          "text": [
            "True\n"
          ]
        }
      ]
    },
    {
      "cell_type": "code",
      "source": [
        "# 544\n",
        "x = {'day':'Sunday', 'week':10} \n",
        "print(x.get('day', 'Friday'))\n",
        "# c"
      ],
      "metadata": {
        "colab": {
          "base_uri": "https://localhost:8080/"
        },
        "id": "pgso7cYGge9_",
        "outputId": "bf4e7bf4-2e09-4236-9c6b-941b6bd5cb01"
      },
      "execution_count": 9,
      "outputs": [
        {
          "output_type": "stream",
          "name": "stdout",
          "text": [
            "Sunday\n"
          ]
        }
      ]
    },
    {
      "cell_type": "code",
      "source": [
        "# 545\n",
        "x = {'day':'Sunday', 'week':10} \n",
        "print(x.get('days', 'Friday'))  # 키값이 해당하지 않는경우 금요일 출력\n",
        "# a"
      ],
      "metadata": {
        "colab": {
          "base_uri": "https://localhost:8080/"
        },
        "id": "OocJgHZHgmYn",
        "outputId": "94e2aedd-9f28-49cc-87de-c22f4bb2dfe1"
      },
      "execution_count": 10,
      "outputs": [
        {
          "output_type": "stream",
          "name": "stdout",
          "text": [
            "Friday\n"
          ]
        }
      ]
    },
    {
      "cell_type": "code",
      "source": [
        "# 546\n",
        "x = {'day':'Sunday', 'week':10} \n",
        "print(x.get('weak', 5)) \n",
        "# b "
      ],
      "metadata": {
        "colab": {
          "base_uri": "https://localhost:8080/"
        },
        "id": "xaC7AYHKg8lK",
        "outputId": "22f63a94-8777-469a-9754-467851b74e2e"
      },
      "execution_count": 11,
      "outputs": [
        {
          "output_type": "stream",
          "name": "stdout",
          "text": [
            "5\n"
          ]
        }
      ]
    },
    {
      "cell_type": "code",
      "source": [
        "# 547\n",
        "x = {'day':'Sunday', 'week':10} \n",
        "print(x.get('week', 5)) \n",
        "# a"
      ],
      "metadata": {
        "colab": {
          "base_uri": "https://localhost:8080/"
        },
        "id": "ptikBt1uhFcq",
        "outputId": "b0531faf-eb5f-47f6-e3b7-db5ba5581d37"
      },
      "execution_count": 12,
      "outputs": [
        {
          "output_type": "stream",
          "name": "stdout",
          "text": [
            "10\n"
          ]
        }
      ]
    },
    {
      "cell_type": "code",
      "source": [
        "# 548\n",
        "x = {'day':'Sunday', 'week':10} \n",
        "print(x.get('year', 2016))\n",
        "# b"
      ],
      "metadata": {
        "colab": {
          "base_uri": "https://localhost:8080/"
        },
        "id": "8EuZPpIwhLPc",
        "outputId": "4025ded9-d7de-400a-8c50-879497e85925"
      },
      "execution_count": 13,
      "outputs": [
        {
          "output_type": "stream",
          "name": "stdout",
          "text": [
            "2016\n"
          ]
        }
      ]
    },
    {
      "cell_type": "code",
      "source": [
        "# 549\n",
        "x = {'year': 2016, 'month': 'March'} \n",
        "if 'day' not in x: \n",
        "  x['day'] = 'Tuesday' \n",
        "  print(x) \n",
        "# d"
      ],
      "metadata": {
        "colab": {
          "base_uri": "https://localhost:8080/"
        },
        "id": "_aFANZ4UhQIo",
        "outputId": "b1edbf8b-f678-4d9a-e326-47b0fe9fcb37"
      },
      "execution_count": 14,
      "outputs": [
        {
          "output_type": "stream",
          "name": "stdout",
          "text": [
            "{'year': 2016, 'month': 'March', 'day': 'Tuesday'}\n"
          ]
        }
      ]
    },
    {
      "cell_type": "code",
      "source": [
        "# 550\n",
        "x = {'year': 2016, 'month': 'March'} \n",
        "x.setdefault('day', 'Tuesday') \n",
        "print(x)\n",
        "# {'year': 2016, 'month': 'March', 'day': 'Tuesday'}"
      ],
      "metadata": {
        "colab": {
          "base_uri": "https://localhost:8080/"
        },
        "id": "QHBQ9f93hbs4",
        "outputId": "ae47e94a-d61c-4eea-e2c0-f5e55fea82b2"
      },
      "execution_count": 15,
      "outputs": [
        {
          "output_type": "stream",
          "name": "stdout",
          "text": [
            "{'year': 2016, 'month': 'March', 'day': 'Tuesday'}\n"
          ]
        }
      ]
    },
    {
      "cell_type": "code",
      "source": [
        "# 551\n",
        "x = {'year': 2016, 'month': 'March'} \n",
        "x.setdefault('day', 'Tuesday') \n",
        "x.setdefault('day', 'Monday') \n",
        "print(x)\n",
        "# {'year': 2016, 'month': 'March', 'day': 'Tuesday'}"
      ],
      "metadata": {
        "colab": {
          "base_uri": "https://localhost:8080/"
        },
        "id": "vLTxvMEKhqSf",
        "outputId": "8f73e08d-ff23-41e0-b6d4-d3ba8d14eeaa"
      },
      "execution_count": 16,
      "outputs": [
        {
          "output_type": "stream",
          "name": "stdout",
          "text": [
            "{'year': 2016, 'month': 'March', 'day': 'Tuesday'}\n"
          ]
        }
      ]
    },
    {
      "cell_type": "code",
      "source": [
        "# 552\n",
        "x = {} \n",
        "# d"
      ],
      "metadata": {
        "id": "wIhq8fqChzMq"
      },
      "execution_count": null,
      "outputs": []
    },
    {
      "cell_type": "code",
      "source": [
        "# 553\n",
        "print('Today is a \\n nice day') \n",
        "# a"
      ],
      "metadata": {
        "colab": {
          "base_uri": "https://localhost:8080/"
        },
        "id": "fOip6rbFh5a3",
        "outputId": "ed8a8c73-0d15-4d13-deaf-1073111876db"
      },
      "execution_count": 18,
      "outputs": [
        {
          "output_type": "stream",
          "name": "stdout",
          "text": [
            "Today is a \n",
            " nice day\n"
          ]
        }
      ]
    },
    {
      "cell_type": "code",
      "source": [
        "# 554\n",
        "x = 'python jobs' \n",
        "x.upper() \n",
        "print(x) \n",
        "# d\n"
      ],
      "metadata": {
        "colab": {
          "base_uri": "https://localhost:8080/"
        },
        "id": "XbozpZH3iA8_",
        "outputId": "b778e40d-2479-4f2c-a46e-410a07d6bc04"
      },
      "execution_count": 19,
      "outputs": [
        {
          "output_type": "stream",
          "name": "stdout",
          "text": [
            "python jobs\n"
          ]
        }
      ]
    },
    {
      "cell_type": "code",
      "source": [
        "# 555\n",
        "x = 'Python Jobs' \n",
        "x.lower() \n",
        "print(x)\n",
        "# c"
      ],
      "metadata": {
        "colab": {
          "base_uri": "https://localhost:8080/"
        },
        "id": "rKFggwZCiH_X",
        "outputId": "3916ddfc-11aa-4a8a-9cd2-71cb4bf52705"
      },
      "execution_count": 20,
      "outputs": [
        {
          "output_type": "stream",
          "name": "stdout",
          "text": [
            "Python Jobs\n"
          ]
        }
      ]
    },
    {
      "cell_type": "code",
      "source": [
        "# algorithm homework\n",
        "\n",
        "\n",
        "a = input(\"걍 입력해보세여>>> \")\n",
        "b = ''\n",
        "c = ''\n",
        "for i in a:\n",
        "  if i.isalpha() : # isalpha가 어차피 True라  == True는 필요가 없음\n",
        "    b = b + i\n",
        "  elif i.isdigit() :\n",
        "    c = c + i \n",
        "print(f'str : {b}')\n",
        "print(f'int : {c}')\n"
      ],
      "metadata": {
        "colab": {
          "base_uri": "https://localhost:8080/"
        },
        "id": "VdvamFFTiM3J",
        "outputId": "e2d3c90b-a77b-44d1-d9be-a9c69b6afdfb"
      },
      "execution_count": 24,
      "outputs": [
        {
          "output_type": "stream",
          "name": "stdout",
          "text": [
            "걍 입력해보세여>>> ewqw21213e12ewedqa123\n",
            "str : ewqweewedqa\n",
            "int : 2121312123\n"
          ]
        }
      ]
    }
  ]
}